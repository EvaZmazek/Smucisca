{
 "cells": [
  {
   "cell_type": "markdown",
   "metadata": {},
   "source": [
    "# Smucisca"
   ]
  },
  {
   "cell_type": "markdown",
   "metadata": {},
   "source": [
    "## Projekt pri predmetu Programiranje 1"
   ]
  },
  {
   "cell_type": "markdown",
   "metadata": {},
   "source": [
    "#### Zajeti podatki:"
   ]
  },
  {
   "cell_type": "markdown",
   "metadata": {},
   "source": [
    "❄︎ datum in ura   \n",
    "❄︎ ime smučišča  \n",
    "❄︎ vreme  \n",
    "❄︎ temperatura  \n",
    "❄︎ količina snega (v cm)  \n",
    "❄︎ odpiralni čas smučišča in zapiralni čas smučišča (v stolpcu obratovanje v obliki parov (odpiralni čas, zapiralni čas)   ter  v stolpcu odprto, ki pove koliko ur je bilo odprto smucisce)  \n",
    "❄︎ delovanje gondol/sedežnic/vlečnic/parkov (v stolpcu sedeznice v obliki seznama in v stolpcu proge, ki pove koliko procentov vseh prog je bilo odprtih)\n",
    "\n",
    "Podatki so bili zajeti na strani [snezni telefon](http://snezni-telefon.si) ."
   ]
  },
  {
   "cell_type": "markdown",
   "metadata": {},
   "source": [
    "#### Predvidena analiza:"
   ]
  },
  {
   "cell_type": "markdown",
   "metadata": {},
   "source": [
    "❄︎ kakšne so povezave temperature, količine snega, obratovalnim časom ter odprtostjo prog na posameznih smučiščih?  \n",
    "❄︎ v katerem obdobju je bilo na Slovenskih smučiščih največ snega?  \n",
    "❄︎ koliko je količina snega odvisna od temperature in vremena?  \n",
    "❄︎ koliko je od količine snega/ temperature/ vremena odvisen obratovalni čas smučišča?  \n",
    "❄︎ katero smučišče ima največji povprečen obratovalni čas?  "
   ]
  },
  {
   "cell_type": "markdown",
   "metadata": {},
   "source": [
    "### Analiza podatkov slovenskih smučišč je razdeljena na tri večje skope:"
   ]
  },
  {
   "cell_type": "markdown",
   "metadata": {},
   "source": [
    "❄︎ analiza podatov po posameznih smučiščih  \n",
    "❄︎ primerjava med smučišči  \n",
    "❄︎ ostale primerjave (odvisnost količine snega od temperature, vremena, koliko sta temperatura in vreme povezana)"
   ]
  },
  {
   "cell_type": "code",
   "execution_count": 201,
   "metadata": {
    "collapsed": true
   },
   "outputs": [],
   "source": [
    "%matplotlib inline\n",
    "\n",
    "import matplotlib\n",
    "import pandas as pd\n",
    "import matplotlib.pyplot as plt\n",
    "\n",
    "matplotlib.style.use('ggplot') #naredi lepše grafe\n",
    "plt.rcParams['figure.figsize'] = (15, 5)"
   ]
  },
  {
   "cell_type": "markdown",
   "metadata": {},
   "source": [
    "Pripravi skupno datoteko:"
   ]
  },
  {
   "cell_type": "code",
   "execution_count": 202,
   "metadata": {
    "collapsed": false
   },
   "outputs": [],
   "source": [
    "Skupna=pd.read_csv('projekt-programiranje1/csv_datoteke/skupna.csv', parse_dates=['cas'],index_col='cas')"
   ]
  },
  {
   "cell_type": "markdown",
   "metadata": {},
   "source": [
    "Pripravi datoteke po posameznih smuciscih:"
   ]
  },
  {
   "cell_type": "code",
   "execution_count": 247,
   "metadata": {
    "collapsed": false
   },
   "outputs": [],
   "source": [
    "Bukovnik = pd.read_csv('projekt-programiranje1/csv_datoteke/posamezna_smucisca/Bukovnik.csv',parse_dates=['cas'],index_col='cas')\n",
    "CeljskaKoča = pd.read_csv('projekt-programiranje1/csv_datoteke/posamezna_smucisca/CeljskaKoča.csv',parse_dates=['cas'],index_col='cas')\n",
    "GTCKope = pd.read_csv('projekt-programiranje1/csv_datoteke/posamezna_smucisca/GTCKope.csv',parse_dates=['cas'],index_col='cas')\n",
    "Javornik = pd.read_csv('projekt-programiranje1/csv_datoteke/posamezna_smucisca/Javornik.csv',parse_dates=['cas'],index_col='cas')\n",
    "MacesnovcRateče = pd.read_csv('projekt-programiranje1/csv_datoteke/posamezna_smucisca/MacesnovcRateče.csv',parse_dates=['cas'],index_col='cas')\n",
    "MariborskoPohorje = pd.read_csv('projekt-programiranje1/csv_datoteke/posamezna_smucisca/MariborskoPohorje.csv',parse_dates=['cas'],index_col='cas')\n",
    "Poseka = pd.read_csv('projekt-programiranje1/csv_datoteke/posamezna_smucisca/Poseka.csv',parse_dates=['cas'],index_col='cas')\n",
    "RibnicanaPohorju = pd.read_csv('projekt-programiranje1/csv_datoteke/posamezna_smucisca/RibnicanaPohorju.csv',parse_dates=['cas'],index_col='cas')\n",
    "Ribniškakoča = pd.read_csv('projekt-programiranje1/csv_datoteke/posamezna_smucisca/Ribniškakoča.csv',parse_dates=['cas'],index_col='cas')\n",
    "RibniškoPohorje = pd.read_csv('projekt-programiranje1/csv_datoteke/posamezna_smucisca/RibniškoPohorje.csv',parse_dates=['cas'],index_col='cas')\n",
    "Rogla = pd.read_csv('projekt-programiranje1/csv_datoteke/posamezna_smucisca/Rogla.csv',parse_dates=['cas'],index_col='cas')\n",
    "RTCGolte = pd.read_csv('projekt-programiranje1/csv_datoteke/posamezna_smucisca/RTCGolte.csv',parse_dates=['cas'],index_col='cas')\n",
    "RTCKranjskaGora = pd.read_csv('projekt-programiranje1/csv_datoteke/posamezna_smucisca/RTCKranjskaGora.csv',parse_dates=['cas'],index_col='cas')\n",
    "RTCKrvavec = pd.read_csv('projekt-programiranje1/csv_datoteke/posamezna_smucisca/RTCKrvavec.csv',parse_dates=['cas'],index_col='cas')\n",
    "SCCerkno = pd.read_csv('projekt-programiranje1/csv_datoteke/posamezna_smucisca/SCCerkno.csv',parse_dates=['cas'],index_col='cas')\n",
    "ŠCRudno = pd.read_csv('projekt-programiranje1/csv_datoteke/posamezna_smucisca/ŠCRudno.csv',parse_dates=['cas'],index_col='cas')\n",
    "Šentjošt = pd.read_csv('projekt-programiranje1/csv_datoteke/posamezna_smucisca/Šentjošt.csv',parse_dates=['cas'],index_col='cas')\n",
    "SKIBorČrnivrh = pd.read_csv('projekt-programiranje1/csv_datoteke/posamezna_smucisca/SKIBorČrnivrh.csv',parse_dates=['cas'],index_col='cas')\n",
    "Soriškaplanina = pd.read_csv('projekt-programiranje1/csv_datoteke/posamezna_smucisca/Soriškaplanina.csv',parse_dates=['cas'],index_col='cas')\n",
    "STCStarivrh = pd.read_csv('projekt-programiranje1/csv_datoteke/posamezna_smucisca/STCStarivrh.csv',parse_dates=['cas'],index_col='cas')\n",
    "StražaBled = pd.read_csv('projekt-programiranje1/csv_datoteke/posamezna_smucisca/StražaBled.csv',parse_dates=['cas'],index_col='cas')\n",
    "TrijeKralji = pd.read_csv('projekt-programiranje1/csv_datoteke/posamezna_smucisca/TrijeKralji.csv',parse_dates=['cas'],index_col='cas')\n",
    "ŽičniceVogel = pd.read_csv('projekt-programiranje1/csv_datoteke/posamezna_smucisca/ŽičniceVogel.csv',parse_dates=['cas'],index_col='cas')"
   ]
  },
  {
   "cell_type": "markdown",
   "metadata": {},
   "source": [
    "# 1. Analiza po posameznih smučiščih"
   ]
  },
  {
   "cell_type": "markdown",
   "metadata": {},
   "source": [
    "## 1.1. Bukovnik"
   ]
  },
  {
   "cell_type": "code",
   "execution_count": 204,
   "metadata": {
    "collapsed": false,
    "scrolled": true
   },
   "outputs": [
    {
     "data": {
      "text/html": [
       "<div>\n",
       "<table border=\"1\" class=\"dataframe\">\n",
       "  <thead>\n",
       "    <tr style=\"text-align: right;\">\n",
       "      <th></th>\n",
       "      <th>smucisce</th>\n",
       "      <th>datum</th>\n",
       "      <th>vreme</th>\n",
       "      <th>temperatura</th>\n",
       "      <th>sneg</th>\n",
       "      <th>obratovanje</th>\n",
       "      <th>odprto</th>\n",
       "      <th>sedeznice</th>\n",
       "      <th>proge</th>\n",
       "    </tr>\n",
       "    <tr>\n",
       "      <th>cas</th>\n",
       "      <th></th>\n",
       "      <th></th>\n",
       "      <th></th>\n",
       "      <th></th>\n",
       "      <th></th>\n",
       "      <th></th>\n",
       "      <th></th>\n",
       "      <th></th>\n",
       "      <th></th>\n",
       "    </tr>\n",
       "  </thead>\n",
       "  <tbody>\n",
       "    <tr>\n",
       "      <th>2016-01-24 15:00:00</th>\n",
       "      <td>Bukovnik</td>\n",
       "      <td>2016-01-24</td>\n",
       "      <td>sončno</td>\n",
       "      <td>-10</td>\n",
       "      <td>50</td>\n",
       "      <td>{('13.00', '20.00'), ('16.00', '20.00')}</td>\n",
       "      <td>11</td>\n",
       "      <td>{'vlečnica': '1/1'}</td>\n",
       "      <td>100</td>\n",
       "    </tr>\n",
       "    <tr>\n",
       "      <th>2016-01-25 21:00:00</th>\n",
       "      <td>Bukovnik</td>\n",
       "      <td>2016-01-25</td>\n",
       "      <td>oblačno</td>\n",
       "      <td>-2</td>\n",
       "      <td>50</td>\n",
       "      <td>{('16.00', '20.00')}</td>\n",
       "      <td>4</td>\n",
       "      <td>{'vlečnica': '1/1'}</td>\n",
       "      <td>100</td>\n",
       "    </tr>\n",
       "    <tr>\n",
       "      <th>2016-01-26 09:00:00</th>\n",
       "      <td>Bukovnik</td>\n",
       "      <td>2016-01-26</td>\n",
       "      <td>sončno</td>\n",
       "      <td>-3</td>\n",
       "      <td>50</td>\n",
       "      <td>{('16.00', '20.00')}</td>\n",
       "      <td>4</td>\n",
       "      <td>{'vlečnica': '1/1'}</td>\n",
       "      <td>100</td>\n",
       "    </tr>\n",
       "    <tr>\n",
       "      <th>2016-01-26 15:00:00</th>\n",
       "      <td>Bukovnik</td>\n",
       "      <td>2016-01-26</td>\n",
       "      <td>sončno</td>\n",
       "      <td>-3</td>\n",
       "      <td>50</td>\n",
       "      <td>{('16.00', '20.00')}</td>\n",
       "      <td>4</td>\n",
       "      <td>{'vlečnica': '1/1'}</td>\n",
       "      <td>100</td>\n",
       "    </tr>\n",
       "    <tr>\n",
       "      <th>2016-01-27 09:00:00</th>\n",
       "      <td>Bukovnik</td>\n",
       "      <td>2016-01-27</td>\n",
       "      <td>sončno</td>\n",
       "      <td>-3</td>\n",
       "      <td>50</td>\n",
       "      <td>{('16.00', '20.00')}</td>\n",
       "      <td>4</td>\n",
       "      <td>{'vlečnica': '1/1'}</td>\n",
       "      <td>100</td>\n",
       "    </tr>\n",
       "  </tbody>\n",
       "</table>\n",
       "</div>"
      ],
      "text/plain": [
       "                     smucisce       datum    vreme  temperatura  sneg  \\\n",
       "cas                                                                     \n",
       "2016-01-24 15:00:00  Bukovnik  2016-01-24   sončno          -10    50   \n",
       "2016-01-25 21:00:00  Bukovnik  2016-01-25  oblačno           -2    50   \n",
       "2016-01-26 09:00:00  Bukovnik  2016-01-26   sončno           -3    50   \n",
       "2016-01-26 15:00:00  Bukovnik  2016-01-26   sončno           -3    50   \n",
       "2016-01-27 09:00:00  Bukovnik  2016-01-27   sončno           -3    50   \n",
       "\n",
       "                                                  obratovanje  odprto  \\\n",
       "cas                                                                     \n",
       "2016-01-24 15:00:00  {('13.00', '20.00'), ('16.00', '20.00')}      11   \n",
       "2016-01-25 21:00:00                      {('16.00', '20.00')}       4   \n",
       "2016-01-26 09:00:00                      {('16.00', '20.00')}       4   \n",
       "2016-01-26 15:00:00                      {('16.00', '20.00')}       4   \n",
       "2016-01-27 09:00:00                      {('16.00', '20.00')}       4   \n",
       "\n",
       "                               sedeznice  proge  \n",
       "cas                                              \n",
       "2016-01-24 15:00:00  {'vlečnica': '1/1'}    100  \n",
       "2016-01-25 21:00:00  {'vlečnica': '1/1'}    100  \n",
       "2016-01-26 09:00:00  {'vlečnica': '1/1'}    100  \n",
       "2016-01-26 15:00:00  {'vlečnica': '1/1'}    100  \n",
       "2016-01-27 09:00:00  {'vlečnica': '1/1'}    100  "
      ]
     },
     "execution_count": 204,
     "metadata": {},
     "output_type": "execute_result"
    }
   ],
   "source": [
    "Bukovnik.head()"
   ]
  },
  {
   "cell_type": "markdown",
   "metadata": {},
   "source": [
    "Primer ene ure:"
   ]
  },
  {
   "cell_type": "code",
   "execution_count": 205,
   "metadata": {
    "collapsed": false
   },
   "outputs": [
    {
     "data": {
      "text/plain": [
       "smucisce                                       Bukovnik\n",
       "datum                                        2016-01-24\n",
       "vreme                                            sončno\n",
       "temperatura                                         -10\n",
       "sneg                                                 50\n",
       "obratovanje    {('13.00', '20.00'), ('16.00', '20.00')}\n",
       "odprto                                               11\n",
       "sedeznice                           {'vlečnica': '1/1'}\n",
       "proge                                               100\n",
       "Name: 2016-01-24 15:00:00, dtype: object"
      ]
     },
     "execution_count": 205,
     "metadata": {},
     "output_type": "execute_result"
    }
   ],
   "source": [
    "Bukovnik.iloc[0]"
   ]
  },
  {
   "cell_type": "markdown",
   "metadata": {},
   "source": [
    "### 1.1.1. povprečne vrednosti po dnevih"
   ]
  },
  {
   "cell_type": "code",
   "execution_count": 206,
   "metadata": {
    "collapsed": false,
    "scrolled": true
   },
   "outputs": [
    {
     "data": {
      "text/html": [
       "<div>\n",
       "<table border=\"1\" class=\"dataframe\">\n",
       "  <thead>\n",
       "    <tr style=\"text-align: right;\">\n",
       "      <th></th>\n",
       "      <th>temperatura</th>\n",
       "      <th>sneg</th>\n",
       "      <th>odprto</th>\n",
       "      <th>proge</th>\n",
       "    </tr>\n",
       "    <tr>\n",
       "      <th>datum</th>\n",
       "      <th></th>\n",
       "      <th></th>\n",
       "      <th></th>\n",
       "      <th></th>\n",
       "    </tr>\n",
       "  </thead>\n",
       "  <tbody>\n",
       "    <tr>\n",
       "      <th>2016-01-24</th>\n",
       "      <td>-10</td>\n",
       "      <td>50</td>\n",
       "      <td>11</td>\n",
       "      <td>100</td>\n",
       "    </tr>\n",
       "    <tr>\n",
       "      <th>2016-01-25</th>\n",
       "      <td>-2</td>\n",
       "      <td>50</td>\n",
       "      <td>4</td>\n",
       "      <td>100</td>\n",
       "    </tr>\n",
       "    <tr>\n",
       "      <th>2016-01-26</th>\n",
       "      <td>-3</td>\n",
       "      <td>50</td>\n",
       "      <td>4</td>\n",
       "      <td>100</td>\n",
       "    </tr>\n",
       "    <tr>\n",
       "      <th>2016-01-27</th>\n",
       "      <td>-3</td>\n",
       "      <td>50</td>\n",
       "      <td>4</td>\n",
       "      <td>100</td>\n",
       "    </tr>\n",
       "    <tr>\n",
       "      <th>2016-01-28</th>\n",
       "      <td>-2</td>\n",
       "      <td>50</td>\n",
       "      <td>4</td>\n",
       "      <td>100</td>\n",
       "    </tr>\n",
       "  </tbody>\n",
       "</table>\n",
       "</div>"
      ],
      "text/plain": [
       "            temperatura  sneg  odprto  proge\n",
       "datum                                       \n",
       "2016-01-24          -10    50      11    100\n",
       "2016-01-25           -2    50       4    100\n",
       "2016-01-26           -3    50       4    100\n",
       "2016-01-27           -3    50       4    100\n",
       "2016-01-28           -2    50       4    100"
      ]
     },
     "execution_count": 206,
     "metadata": {},
     "output_type": "execute_result"
    }
   ],
   "source": [
    "Bukovnik.groupby('datum').mean().head()"
   ]
  },
  {
   "cell_type": "code",
   "execution_count": 207,
   "metadata": {
    "collapsed": false
   },
   "outputs": [
    {
     "data": {
      "text/plain": [
       "<matplotlib.axes._subplots.AxesSubplot at 0x10efc1978>"
      ]
     },
     "execution_count": 207,
     "metadata": {},
     "output_type": "execute_result"
    },
    {
     "data": {
      "image/png": "[encoded data removed]",
      "text/plain": [
       "<matplotlib.figure.Figure at 0x10efc87f0>"
      ]
     },
     "metadata": {},
     "output_type": "display_data"
    }
   ],
   "source": [
    "Bukovnik.groupby('datum').mean().plot()"
   ]
  },
  {
   "cell_type": "markdown",
   "metadata": {},
   "source": [
    "### 1.1.2. tempretatura"
   ]
  },
  {
   "cell_type": "code",
   "execution_count": 208,
   "metadata": {
    "collapsed": false
   },
   "outputs": [
    {
     "data": {
      "text/plain": [
       "<matplotlib.axes._subplots.AxesSubplot at 0x10b1a88d0>"
      ]
     },
     "execution_count": 208,
     "metadata": {},
     "output_type": "execute_result"
    },
    {
     "data": {
      "image/png": "[encoded data removed]",
      "text/plain": [
       "<matplotlib.figure.Figure at 0x10e833fd0>"
      ]
     },
     "metadata": {},
     "output_type": "display_data"
    }
   ],
   "source": [
    "Bukovnik['temperatura'].plot()"
   ]
  },
  {
   "cell_type": "markdown",
   "metadata": {},
   "source": [
    "### 1.1.3. količina snega (v cm)"
   ]
  },
  {
   "cell_type": "code",
   "execution_count": 209,
   "metadata": {
    "collapsed": false
   },
   "outputs": [
    {
     "data": {
      "text/plain": [
       "<matplotlib.axes._subplots.AxesSubplot at 0x10b1bb278>"
      ]
     },
     "execution_count": 209,
     "metadata": {},
     "output_type": "execute_result"
    },
    {
     "data": {
      "image/png": "[encoded data removed]",
      "text/plain": [
       "<matplotlib.figure.Figure at 0x10a68de10>"
      ]
     },
     "metadata": {},
     "output_type": "display_data"
    }
   ],
   "source": [
    "Bukovnik['sneg'].plot()"
   ]
  },
  {
   "cell_type": "markdown",
   "metadata": {},
   "source": [
    "maksimalna količina snega v opazovalnem obdobju:"
   ]
  },
  {
   "cell_type": "code",
   "execution_count": 210,
   "metadata": {
    "collapsed": false
   },
   "outputs": [
    {
     "data": {
      "text/plain": [
       "50"
      ]
     },
     "execution_count": 210,
     "metadata": {},
     "output_type": "execute_result"
    }
   ],
   "source": [
    "Bukovnik['sneg'].max()"
   ]
  },
  {
   "cell_type": "markdown",
   "metadata": {},
   "source": [
    "### 1.1.4. obratovalni čas smučišča v urah "
   ]
  },
  {
   "cell_type": "code",
   "execution_count": 211,
   "metadata": {
    "collapsed": false
   },
   "outputs": [
    {
     "data": {
      "text/plain": [
       "<matplotlib.axes._subplots.AxesSubplot at 0x10a1bdcf8>"
      ]
     },
     "execution_count": 211,
     "metadata": {},
     "output_type": "execute_result"
    },
    {
     "data": {
      "image/png": "[encoded data removed]",
      "text/plain": [
       "<matplotlib.figure.Figure at 0x10a1cb978>"
      ]
     },
     "metadata": {},
     "output_type": "display_data"
    }
   ],
   "source": [
    "Bukovnik['odprto'].plot()"
   ]
  },
  {
   "cell_type": "markdown",
   "metadata": {},
   "source": [
    "### 1.1.5. število odprtih prog (v procentih)"
   ]
  },
  {
   "cell_type": "code",
   "execution_count": 212,
   "metadata": {
    "collapsed": false
   },
   "outputs": [
    {
     "data": {
      "text/plain": [
       "<matplotlib.axes._subplots.AxesSubplot at 0x10a2ebf28>"
      ]
     },
     "execution_count": 212,
     "metadata": {},
     "output_type": "execute_result"
    },
    {
     "data": {
      "image/png": "[encoded data removed]",
      "text/plain": [
       "<matplotlib.figure.Figure at 0x10a5ca198>"
      ]
     },
     "metadata": {},
     "output_type": "display_data"
    }
   ],
   "source": [
    "Bukovnik['proge'].plot()"
   ]
  },
  {
   "cell_type": "markdown",
   "metadata": {},
   "source": [
    "### 1.1.6.  Primerjava"
   ]
  },
  {
   "cell_type": "code",
   "execution_count": 213,
   "metadata": {
    "collapsed": false
   },
   "outputs": [
    {
     "data": {
      "text/html": [
       "<div>\n",
       "<table border=\"1\" class=\"dataframe\">\n",
       "  <thead>\n",
       "    <tr style=\"text-align: right;\">\n",
       "      <th></th>\n",
       "      <th>temperatura</th>\n",
       "      <th>sneg</th>\n",
       "      <th>odprto</th>\n",
       "      <th>proge</th>\n",
       "    </tr>\n",
       "    <tr>\n",
       "      <th>cas</th>\n",
       "      <th></th>\n",
       "      <th></th>\n",
       "      <th></th>\n",
       "      <th></th>\n",
       "    </tr>\n",
       "  </thead>\n",
       "  <tbody>\n",
       "    <tr>\n",
       "      <th>2016-01-24 15:00:00</th>\n",
       "      <td>-10</td>\n",
       "      <td>50</td>\n",
       "      <td>11</td>\n",
       "      <td>100</td>\n",
       "    </tr>\n",
       "    <tr>\n",
       "      <th>2016-01-25 21:00:00</th>\n",
       "      <td>-2</td>\n",
       "      <td>50</td>\n",
       "      <td>4</td>\n",
       "      <td>100</td>\n",
       "    </tr>\n",
       "    <tr>\n",
       "      <th>2016-01-26 09:00:00</th>\n",
       "      <td>-3</td>\n",
       "      <td>50</td>\n",
       "      <td>4</td>\n",
       "      <td>100</td>\n",
       "    </tr>\n",
       "    <tr>\n",
       "      <th>2016-01-26 15:00:00</th>\n",
       "      <td>-3</td>\n",
       "      <td>50</td>\n",
       "      <td>4</td>\n",
       "      <td>100</td>\n",
       "    </tr>\n",
       "    <tr>\n",
       "      <th>2016-01-27 09:00:00</th>\n",
       "      <td>-3</td>\n",
       "      <td>50</td>\n",
       "      <td>4</td>\n",
       "      <td>100</td>\n",
       "    </tr>\n",
       "    <tr>\n",
       "      <th>2016-01-27 12:00:00</th>\n",
       "      <td>-3</td>\n",
       "      <td>50</td>\n",
       "      <td>4</td>\n",
       "      <td>100</td>\n",
       "    </tr>\n",
       "    <tr>\n",
       "      <th>2016-01-27 15:00:00</th>\n",
       "      <td>-3</td>\n",
       "      <td>50</td>\n",
       "      <td>4</td>\n",
       "      <td>100</td>\n",
       "    </tr>\n",
       "    <tr>\n",
       "      <th>2016-01-28 09:00:00</th>\n",
       "      <td>-2</td>\n",
       "      <td>50</td>\n",
       "      <td>4</td>\n",
       "      <td>100</td>\n",
       "    </tr>\n",
       "    <tr>\n",
       "      <th>2016-01-28 12:00:00</th>\n",
       "      <td>-2</td>\n",
       "      <td>50</td>\n",
       "      <td>4</td>\n",
       "      <td>100</td>\n",
       "    </tr>\n",
       "    <tr>\n",
       "      <th>2016-01-28 15:00:00</th>\n",
       "      <td>-2</td>\n",
       "      <td>50</td>\n",
       "      <td>4</td>\n",
       "      <td>100</td>\n",
       "    </tr>\n",
       "  </tbody>\n",
       "</table>\n",
       "</div>"
      ],
      "text/plain": [
       "                     temperatura  sneg  odprto  proge\n",
       "cas                                                  \n",
       "2016-01-24 15:00:00          -10    50      11    100\n",
       "2016-01-25 21:00:00           -2    50       4    100\n",
       "2016-01-26 09:00:00           -3    50       4    100\n",
       "2016-01-26 15:00:00           -3    50       4    100\n",
       "2016-01-27 09:00:00           -3    50       4    100\n",
       "2016-01-27 12:00:00           -3    50       4    100\n",
       "2016-01-27 15:00:00           -3    50       4    100\n",
       "2016-01-28 09:00:00           -2    50       4    100\n",
       "2016-01-28 12:00:00           -2    50       4    100\n",
       "2016-01-28 15:00:00           -2    50       4    100"
      ]
     },
     "execution_count": 213,
     "metadata": {},
     "output_type": "execute_result"
    }
   ],
   "source": [
    "Bukovnik[['temperatura', 'sneg', 'odprto', 'proge']].head(10)"
   ]
  },
  {
   "cell_type": "code",
   "execution_count": 214,
   "metadata": {
    "collapsed": false
   },
   "outputs": [
    {
     "data": {
      "text/plain": [
       "<matplotlib.axes._subplots.AxesSubplot at 0x10a62e0f0>"
      ]
     },
     "execution_count": 214,
     "metadata": {},
     "output_type": "execute_result"
    },
    {
     "data": {
      "image/png": "[encoded data removed]",
      "text/plain": [
       "<matplotlib.figure.Figure at 0x10a634da0>"
      ]
     },
     "metadata": {},
     "output_type": "display_data"
    }
   ],
   "source": [
    "Bukovnik[['temperatura', 'sneg', 'odprto', 'proge']].plot()"
   ]
  },
  {
   "cell_type": "markdown",
   "metadata": {},
   "source": [
    "Iz tega primera je težko sklepati na kakršnokoli povezavo med temperaturo, količino snega, obratovalnim časom ter odprtostjo prog. Poskusimo še z Mariborskim Pohorjem."
   ]
  },
  {
   "cell_type": "markdown",
   "metadata": {},
   "source": [
    "## 1.2. Mariborsko Pohorje "
   ]
  },
  {
   "cell_type": "code",
   "execution_count": 215,
   "metadata": {
    "collapsed": false
   },
   "outputs": [
    {
     "data": {
      "text/html": [
       "<div>\n",
       "<table border=\"1\" class=\"dataframe\">\n",
       "  <thead>\n",
       "    <tr style=\"text-align: right;\">\n",
       "      <th></th>\n",
       "      <th>smucisce</th>\n",
       "      <th>datum</th>\n",
       "      <th>vreme</th>\n",
       "      <th>temperatura</th>\n",
       "      <th>sneg</th>\n",
       "      <th>obratovanje</th>\n",
       "      <th>odprto</th>\n",
       "      <th>sedeznice</th>\n",
       "      <th>proge</th>\n",
       "    </tr>\n",
       "    <tr>\n",
       "      <th>cas</th>\n",
       "      <th></th>\n",
       "      <th></th>\n",
       "      <th></th>\n",
       "      <th></th>\n",
       "      <th></th>\n",
       "      <th></th>\n",
       "      <th></th>\n",
       "      <th></th>\n",
       "      <th></th>\n",
       "    </tr>\n",
       "  </thead>\n",
       "  <tbody>\n",
       "    <tr>\n",
       "      <th>2016-01-24 15:00:00</th>\n",
       "      <td>MariborskoPohorje</td>\n",
       "      <td>2016-01-24</td>\n",
       "      <td>pretežno jasno</td>\n",
       "      <td>-2</td>\n",
       "      <td>45</td>\n",
       "      <td>{('18.00', '21.00'), ('9.00', '16.00')}</td>\n",
       "      <td>10</td>\n",
       "      <td>{'gondola': '1/1', 'sedeznica': '3/5', 'vlečni...</td>\n",
       "      <td>53.33</td>\n",
       "    </tr>\n",
       "    <tr>\n",
       "      <th>2016-01-25 21:00:00</th>\n",
       "      <td>MariborskoPohorje</td>\n",
       "      <td>2016-01-25</td>\n",
       "      <td>pretežno jasno</td>\n",
       "      <td>2</td>\n",
       "      <td>45</td>\n",
       "      <td>{('9.00', '16.00')}</td>\n",
       "      <td>7</td>\n",
       "      <td>{'gondola': '1/1', 'sedeznica': '3/5', 'vlečni...</td>\n",
       "      <td>53.33</td>\n",
       "    </tr>\n",
       "    <tr>\n",
       "      <th>2016-01-26 09:00:00</th>\n",
       "      <td>MariborskoPohorje</td>\n",
       "      <td>2016-01-26</td>\n",
       "      <td>pretežno jasno</td>\n",
       "      <td>5</td>\n",
       "      <td>45</td>\n",
       "      <td>{('9.00', '16.00')}</td>\n",
       "      <td>7</td>\n",
       "      <td>{'gondola': '1/1', 'sedeznica': '3/5', 'vlečni...</td>\n",
       "      <td>53.33</td>\n",
       "    </tr>\n",
       "    <tr>\n",
       "      <th>2016-01-26 15:00:00</th>\n",
       "      <td>MariborskoPohorje</td>\n",
       "      <td>2016-01-26</td>\n",
       "      <td>pretežno jasno</td>\n",
       "      <td>5</td>\n",
       "      <td>45</td>\n",
       "      <td>{('9.00', '16.00')}</td>\n",
       "      <td>7</td>\n",
       "      <td>{'gondola': '1/1', 'sedeznica': '3/5', 'vlečni...</td>\n",
       "      <td>53.33</td>\n",
       "    </tr>\n",
       "    <tr>\n",
       "      <th>2016-01-27 09:00:00</th>\n",
       "      <td>MariborskoPohorje</td>\n",
       "      <td>2016-01-27</td>\n",
       "      <td>pretežno jasno</td>\n",
       "      <td>6</td>\n",
       "      <td>45</td>\n",
       "      <td>{('9.00', '16.00')}</td>\n",
       "      <td>7</td>\n",
       "      <td>{'gondola': '1/1', 'sedeznica': '3/5', 'vlečni...</td>\n",
       "      <td>53.33</td>\n",
       "    </tr>\n",
       "    <tr>\n",
       "      <th>2016-01-27 12:00:00</th>\n",
       "      <td>MariborskoPohorje</td>\n",
       "      <td>2016-01-27</td>\n",
       "      <td>pretežno jasno</td>\n",
       "      <td>6</td>\n",
       "      <td>45</td>\n",
       "      <td>{('9.00', '16.00')}</td>\n",
       "      <td>7</td>\n",
       "      <td>{'gondola': '1/1', 'sedeznica': '3/5', 'vlečni...</td>\n",
       "      <td>53.33</td>\n",
       "    </tr>\n",
       "    <tr>\n",
       "      <th>2016-01-27 15:00:00</th>\n",
       "      <td>MariborskoPohorje</td>\n",
       "      <td>2016-01-27</td>\n",
       "      <td>pretežno jasno</td>\n",
       "      <td>6</td>\n",
       "      <td>45</td>\n",
       "      <td>{('9.00', '16.00')}</td>\n",
       "      <td>7</td>\n",
       "      <td>{'gondola': '1/1', 'sedeznica': '3/5', 'vlečni...</td>\n",
       "      <td>53.33</td>\n",
       "    </tr>\n",
       "    <tr>\n",
       "      <th>2016-01-28 09:00:00</th>\n",
       "      <td>MariborskoPohorje</td>\n",
       "      <td>2016-01-28</td>\n",
       "      <td>sončno</td>\n",
       "      <td>7</td>\n",
       "      <td>45</td>\n",
       "      <td>{('18.00', '21.00'), ('9.00', '16.00')}</td>\n",
       "      <td>10</td>\n",
       "      <td>{'gondola': '1/1', 'sedeznica': '3/5', 'vlečni...</td>\n",
       "      <td>53.33</td>\n",
       "    </tr>\n",
       "    <tr>\n",
       "      <th>2016-01-28 12:00:00</th>\n",
       "      <td>MariborskoPohorje</td>\n",
       "      <td>2016-01-28</td>\n",
       "      <td>sončno</td>\n",
       "      <td>7</td>\n",
       "      <td>45</td>\n",
       "      <td>{('18.00', '21.00'), ('9.00', '16.00')}</td>\n",
       "      <td>10</td>\n",
       "      <td>{'gondola': '1/1', 'sedeznica': '3/5', 'vlečni...</td>\n",
       "      <td>53.33</td>\n",
       "    </tr>\n",
       "  </tbody>\n",
       "</table>\n",
       "</div>"
      ],
      "text/plain": [
       "                              smucisce       datum           vreme  \\\n",
       "cas                                                                  \n",
       "2016-01-24 15:00:00  MariborskoPohorje  2016-01-24  pretežno jasno   \n",
       "2016-01-25 21:00:00  MariborskoPohorje  2016-01-25  pretežno jasno   \n",
       "2016-01-26 09:00:00  MariborskoPohorje  2016-01-26  pretežno jasno   \n",
       "2016-01-26 15:00:00  MariborskoPohorje  2016-01-26  pretežno jasno   \n",
       "2016-01-27 09:00:00  MariborskoPohorje  2016-01-27  pretežno jasno   \n",
       "2016-01-27 12:00:00  MariborskoPohorje  2016-01-27  pretežno jasno   \n",
       "2016-01-27 15:00:00  MariborskoPohorje  2016-01-27  pretežno jasno   \n",
       "2016-01-28 09:00:00  MariborskoPohorje  2016-01-28          sončno   \n",
       "2016-01-28 12:00:00  MariborskoPohorje  2016-01-28          sončno   \n",
       "\n",
       "                     temperatura  sneg  \\\n",
       "cas                                      \n",
       "2016-01-24 15:00:00           -2    45   \n",
       "2016-01-25 21:00:00            2    45   \n",
       "2016-01-26 09:00:00            5    45   \n",
       "2016-01-26 15:00:00            5    45   \n",
       "2016-01-27 09:00:00            6    45   \n",
       "2016-01-27 12:00:00            6    45   \n",
       "2016-01-27 15:00:00            6    45   \n",
       "2016-01-28 09:00:00            7    45   \n",
       "2016-01-28 12:00:00            7    45   \n",
       "\n",
       "                                                 obratovanje  odprto  \\\n",
       "cas                                                                    \n",
       "2016-01-24 15:00:00  {('18.00', '21.00'), ('9.00', '16.00')}      10   \n",
       "2016-01-25 21:00:00                      {('9.00', '16.00')}       7   \n",
       "2016-01-26 09:00:00                      {('9.00', '16.00')}       7   \n",
       "2016-01-26 15:00:00                      {('9.00', '16.00')}       7   \n",
       "2016-01-27 09:00:00                      {('9.00', '16.00')}       7   \n",
       "2016-01-27 12:00:00                      {('9.00', '16.00')}       7   \n",
       "2016-01-27 15:00:00                      {('9.00', '16.00')}       7   \n",
       "2016-01-28 09:00:00  {('18.00', '21.00'), ('9.00', '16.00')}      10   \n",
       "2016-01-28 12:00:00  {('18.00', '21.00'), ('9.00', '16.00')}      10   \n",
       "\n",
       "                                                             sedeznice  proge  \n",
       "cas                                                                            \n",
       "2016-01-24 15:00:00  {'gondola': '1/1', 'sedeznica': '3/5', 'vlečni...  53.33  \n",
       "2016-01-25 21:00:00  {'gondola': '1/1', 'sedeznica': '3/5', 'vlečni...  53.33  \n",
       "2016-01-26 09:00:00  {'gondola': '1/1', 'sedeznica': '3/5', 'vlečni...  53.33  \n",
       "2016-01-26 15:00:00  {'gondola': '1/1', 'sedeznica': '3/5', 'vlečni...  53.33  \n",
       "2016-01-27 09:00:00  {'gondola': '1/1', 'sedeznica': '3/5', 'vlečni...  53.33  \n",
       "2016-01-27 12:00:00  {'gondola': '1/1', 'sedeznica': '3/5', 'vlečni...  53.33  \n",
       "2016-01-27 15:00:00  {'gondola': '1/1', 'sedeznica': '3/5', 'vlečni...  53.33  \n",
       "2016-01-28 09:00:00  {'gondola': '1/1', 'sedeznica': '3/5', 'vlečni...  53.33  \n",
       "2016-01-28 12:00:00  {'gondola': '1/1', 'sedeznica': '3/5', 'vlečni...  53.33  "
      ]
     },
     "execution_count": 215,
     "metadata": {},
     "output_type": "execute_result"
    }
   ],
   "source": [
    "MariborskoPohorje.head(9)"
   ]
  },
  {
   "cell_type": "code",
   "execution_count": 219,
   "metadata": {
    "collapsed": false
   },
   "outputs": [
    {
     "data": {
      "text/plain": [
       "<matplotlib.axes._subplots.AxesSubplot at 0x10c627160>"
      ]
     },
     "execution_count": 219,
     "metadata": {},
     "output_type": "execute_result"
    },
    {
     "data": {
      "image/png": "[encoded data removed]",
      "text/plain": [
       "<matplotlib.figure.Figure at 0x10c66ef60>"
      ]
     },
     "metadata": {},
     "output_type": "display_data"
    }
   ],
   "source": [
    "MariborskoPohorje[['temperatura','sneg','odprto','proge']].plot()"
   ]
  },
  {
   "cell_type": "markdown",
   "metadata": {},
   "source": [
    "primer ene ure:"
   ]
  },
  {
   "cell_type": "code",
   "execution_count": 143,
   "metadata": {
    "collapsed": false,
    "scrolled": true
   },
   "outputs": [
    {
     "data": {
      "text/plain": [
       "smucisce                                       MariborskoPohorje\n",
       "datum                                                 2016-01-28\n",
       "vreme                                                     sončno\n",
       "temperatura                                                    7\n",
       "sneg                                                          45\n",
       "obratovanje              {('18.00', '21.00'), ('9.00', '16.00')}\n",
       "odprto                                                        10\n",
       "sedeznice      {'sedeznica': '3/5', 'vlečnica': '4/9', 'gondo...\n",
       "proge                                                      53.33\n",
       "Name: 2016-01-28 15:00:00, dtype: object"
      ]
     },
     "execution_count": 143,
     "metadata": {},
     "output_type": "execute_result"
    }
   ],
   "source": [
    "MariborskoPohorje.iloc[9]"
   ]
  },
  {
   "cell_type": "markdown",
   "metadata": {},
   "source": [
    "### 1.2.1. povprečne vrednosti po dnevih"
   ]
  },
  {
   "cell_type": "code",
   "execution_count": 144,
   "metadata": {
    "collapsed": false,
    "scrolled": true
   },
   "outputs": [
    {
     "data": {
      "text/html": [
       "<div>\n",
       "<table border=\"1\" class=\"dataframe\">\n",
       "  <thead>\n",
       "    <tr style=\"text-align: right;\">\n",
       "      <th></th>\n",
       "      <th>temperatura</th>\n",
       "      <th>sneg</th>\n",
       "      <th>odprto</th>\n",
       "      <th>proge</th>\n",
       "    </tr>\n",
       "    <tr>\n",
       "      <th>datum</th>\n",
       "      <th></th>\n",
       "      <th></th>\n",
       "      <th></th>\n",
       "      <th></th>\n",
       "    </tr>\n",
       "  </thead>\n",
       "  <tbody>\n",
       "    <tr>\n",
       "      <th>2016-01-24</th>\n",
       "      <td>-2</td>\n",
       "      <td>45</td>\n",
       "      <td>10</td>\n",
       "      <td>53.33</td>\n",
       "    </tr>\n",
       "    <tr>\n",
       "      <th>2016-01-25</th>\n",
       "      <td>2</td>\n",
       "      <td>45</td>\n",
       "      <td>7</td>\n",
       "      <td>53.33</td>\n",
       "    </tr>\n",
       "    <tr>\n",
       "      <th>2016-01-26</th>\n",
       "      <td>5</td>\n",
       "      <td>45</td>\n",
       "      <td>7</td>\n",
       "      <td>53.33</td>\n",
       "    </tr>\n",
       "    <tr>\n",
       "      <th>2016-01-27</th>\n",
       "      <td>6</td>\n",
       "      <td>45</td>\n",
       "      <td>7</td>\n",
       "      <td>53.33</td>\n",
       "    </tr>\n",
       "    <tr>\n",
       "      <th>2016-01-28</th>\n",
       "      <td>7</td>\n",
       "      <td>45</td>\n",
       "      <td>10</td>\n",
       "      <td>53.33</td>\n",
       "    </tr>\n",
       "  </tbody>\n",
       "</table>\n",
       "</div>"
      ],
      "text/plain": [
       "            temperatura  sneg  odprto  proge\n",
       "datum                                       \n",
       "2016-01-24           -2    45      10  53.33\n",
       "2016-01-25            2    45       7  53.33\n",
       "2016-01-26            5    45       7  53.33\n",
       "2016-01-27            6    45       7  53.33\n",
       "2016-01-28            7    45      10  53.33"
      ]
     },
     "execution_count": 144,
     "metadata": {},
     "output_type": "execute_result"
    }
   ],
   "source": [
    "MariborskoPohorje.groupby('datum').mean().head()"
   ]
  },
  {
   "cell_type": "code",
   "execution_count": 145,
   "metadata": {
    "collapsed": false
   },
   "outputs": [
    {
     "data": {
      "text/plain": [
       "<matplotlib.axes._subplots.AxesSubplot at 0x10d07f198>"
      ]
     },
     "execution_count": 145,
     "metadata": {},
     "output_type": "execute_result"
    },
    {
     "data": {
      "image/png": "[encoded data removed]",
      "text/plain": [
       "<matplotlib.figure.Figure at 0x10d054518>"
      ]
     },
     "metadata": {},
     "output_type": "display_data"
    }
   ],
   "source": [
    "MariborskoPohorje.groupby('datum').mean().plot()"
   ]
  },
  {
   "cell_type": "markdown",
   "metadata": {},
   "source": [
    "### 1.2.2. tempretatura"
   ]
  },
  {
   "cell_type": "code",
   "execution_count": 221,
   "metadata": {
    "collapsed": false
   },
   "outputs": [
    {
     "data": {
      "text/plain": [
       "<matplotlib.axes._subplots.AxesSubplot at 0x10c8c5d30>"
      ]
     },
     "execution_count": 221,
     "metadata": {},
     "output_type": "execute_result"
    },
    {
     "data": {
      "image/png": "[encoded data removed]",
      "text/plain": [
       "<matplotlib.figure.Figure at 0x10f030ac8>"
      ]
     },
     "metadata": {},
     "output_type": "display_data"
    }
   ],
   "source": [
    "MariborskoPohorje['temperatura'].plot(color='green')"
   ]
  },
  {
   "cell_type": "markdown",
   "metadata": {},
   "source": [
    "Minimalna in maksimalna temperatura v opazovalnem obdobju:"
   ]
  },
  {
   "cell_type": "code",
   "execution_count": 166,
   "metadata": {
    "collapsed": false
   },
   "outputs": [
    {
     "data": {
      "text/plain": [
       "-4"
      ]
     },
     "execution_count": 166,
     "metadata": {},
     "output_type": "execute_result"
    }
   ],
   "source": [
    "MariborskoPohorje['temperatura'].min()"
   ]
  },
  {
   "cell_type": "code",
   "execution_count": 167,
   "metadata": {
    "collapsed": false
   },
   "outputs": [
    {
     "data": {
      "text/plain": [
       "10"
      ]
     },
     "execution_count": 167,
     "metadata": {},
     "output_type": "execute_result"
    }
   ],
   "source": [
    "MariborskoPohorje['temperatura'].max()"
   ]
  },
  {
   "cell_type": "markdown",
   "metadata": {},
   "source": [
    "### 1.2.3. količina snega (v cm)"
   ]
  },
  {
   "cell_type": "code",
   "execution_count": 222,
   "metadata": {
    "collapsed": false
   },
   "outputs": [
    {
     "data": {
      "text/plain": [
       "<matplotlib.axes._subplots.AxesSubplot at 0x10f057438>"
      ]
     },
     "execution_count": 222,
     "metadata": {},
     "output_type": "execute_result"
    },
    {
     "data": {
      "image/png": "[encoded data removed]",
      "text/plain": [
       "<matplotlib.figure.Figure at 0x10f798c18>"
      ]
     },
     "metadata": {},
     "output_type": "display_data"
    }
   ],
   "source": [
    "MariborskoPohorje['sneg'].plot(color='green')"
   ]
  },
  {
   "cell_type": "code",
   "execution_count": 168,
   "metadata": {
    "collapsed": false
   },
   "outputs": [
    {
     "data": {
      "text/plain": [
       "10"
      ]
     },
     "execution_count": 168,
     "metadata": {},
     "output_type": "execute_result"
    }
   ],
   "source": [
    "MariborskoPohorje['sneg'].min()"
   ]
  },
  {
   "cell_type": "code",
   "execution_count": 170,
   "metadata": {
    "collapsed": false
   },
   "outputs": [
    {
     "data": {
      "text/plain": [
       "60"
      ]
     },
     "execution_count": 170,
     "metadata": {},
     "output_type": "execute_result"
    }
   ],
   "source": [
    "MariborskoPohorje['sneg'].max()"
   ]
  },
  {
   "cell_type": "markdown",
   "metadata": {},
   "source": [
    "### 1.2.4. obratovalni čas smučišča v urah "
   ]
  },
  {
   "cell_type": "code",
   "execution_count": 223,
   "metadata": {
    "collapsed": false
   },
   "outputs": [
    {
     "data": {
      "text/plain": [
       "<matplotlib.axes._subplots.AxesSubplot at 0x10f7cf748>"
      ]
     },
     "execution_count": 223,
     "metadata": {},
     "output_type": "execute_result"
    },
    {
     "data": {
      "image/png": "[encoded data removed]",
      "text/plain": [
       "<matplotlib.figure.Figure at 0x11012c940>"
      ]
     },
     "metadata": {},
     "output_type": "display_data"
    }
   ],
   "source": [
    "MariborskoPohorje['odprto'].plot(color='green')"
   ]
  },
  {
   "cell_type": "code",
   "execution_count": 171,
   "metadata": {
    "collapsed": false,
    "scrolled": true
   },
   "outputs": [
    {
     "data": {
      "text/plain": [
       "7.0"
      ]
     },
     "execution_count": 171,
     "metadata": {},
     "output_type": "execute_result"
    }
   ],
   "source": [
    "MariborskoPohorje['odprto'].min()"
   ]
  },
  {
   "cell_type": "code",
   "execution_count": 172,
   "metadata": {
    "collapsed": false
   },
   "outputs": [
    {
     "data": {
      "text/plain": [
       "10.0"
      ]
     },
     "execution_count": 172,
     "metadata": {},
     "output_type": "execute_result"
    }
   ],
   "source": [
    "MariborskoPohorje['odprto'].max()"
   ]
  },
  {
   "cell_type": "markdown",
   "metadata": {},
   "source": [
    "### 1.2.5. število odprtih prog (v procentih)"
   ]
  },
  {
   "cell_type": "code",
   "execution_count": 224,
   "metadata": {
    "collapsed": false
   },
   "outputs": [
    {
     "data": {
      "text/plain": [
       "<matplotlib.axes._subplots.AxesSubplot at 0x10e9a7940>"
      ]
     },
     "execution_count": 224,
     "metadata": {},
     "output_type": "execute_result"
    },
    {
     "data": {
      "image/png": "[encoded data removed]",
      "text/plain": [
       "<matplotlib.figure.Figure at 0x110a5aef0>"
      ]
     },
     "metadata": {},
     "output_type": "display_data"
    }
   ],
   "source": [
    "MariborskoPohorje['proge'].plot(color='green')"
   ]
  },
  {
   "cell_type": "code",
   "execution_count": 173,
   "metadata": {
    "collapsed": false
   },
   "outputs": [
    {
     "data": {
      "text/plain": [
       "33.329999999999998"
      ]
     },
     "execution_count": 173,
     "metadata": {},
     "output_type": "execute_result"
    }
   ],
   "source": [
    "MariborskoPohorje['proge'].min()"
   ]
  },
  {
   "cell_type": "code",
   "execution_count": 174,
   "metadata": {
    "collapsed": false
   },
   "outputs": [
    {
     "data": {
      "text/plain": [
       "73.329999999999998"
      ]
     },
     "execution_count": 174,
     "metadata": {},
     "output_type": "execute_result"
    }
   ],
   "source": [
    "MariborskoPohorje['proge'].max()"
   ]
  },
  {
   "cell_type": "markdown",
   "metadata": {},
   "source": [
    "# 2. Primerjava med smučišči "
   ]
  },
  {
   "cell_type": "markdown",
   "metadata": {},
   "source": [
    "V ta namen smo pripravili datoteko Skupna.csv"
   ]
  },
  {
   "cell_type": "code",
   "execution_count": 152,
   "metadata": {
    "collapsed": false
   },
   "outputs": [
    {
     "data": {
      "text/html": [
       "<div>\n",
       "<table border=\"1\" class=\"dataframe\">\n",
       "  <thead>\n",
       "    <tr style=\"text-align: right;\">\n",
       "      <th></th>\n",
       "      <th>smucisce</th>\n",
       "      <th>datum</th>\n",
       "      <th>vreme</th>\n",
       "      <th>temperatura</th>\n",
       "      <th>sneg</th>\n",
       "      <th>obratovanje</th>\n",
       "      <th>odprto</th>\n",
       "      <th>sedeznice</th>\n",
       "      <th>proge</th>\n",
       "    </tr>\n",
       "    <tr>\n",
       "      <th>cas</th>\n",
       "      <th></th>\n",
       "      <th></th>\n",
       "      <th></th>\n",
       "      <th></th>\n",
       "      <th></th>\n",
       "      <th></th>\n",
       "      <th></th>\n",
       "      <th></th>\n",
       "      <th></th>\n",
       "    </tr>\n",
       "  </thead>\n",
       "  <tbody>\n",
       "    <tr>\n",
       "      <th>2016-01-24 15:00:00</th>\n",
       "      <td>RTCKrvavec</td>\n",
       "      <td>2016-01-24</td>\n",
       "      <td>sončno</td>\n",
       "      <td>-2</td>\n",
       "      <td>50</td>\n",
       "      <td>{('8.00', '16.00')}</td>\n",
       "      <td>8.0</td>\n",
       "      <td>{'sedeznica': '7/7', 'vlečnica': '3/5', 'gondo...</td>\n",
       "      <td>84.62</td>\n",
       "    </tr>\n",
       "    <tr>\n",
       "      <th>2016-01-24 15:00:00</th>\n",
       "      <td>MariborskoPohorje</td>\n",
       "      <td>2016-01-24</td>\n",
       "      <td>pretežno jasno</td>\n",
       "      <td>-2</td>\n",
       "      <td>45</td>\n",
       "      <td>{('18.00', '21.00'), ('9.00', '16.00')}</td>\n",
       "      <td>10.0</td>\n",
       "      <td>{'sedeznica': '3/5', 'vlečnica': '4/9', 'gondo...</td>\n",
       "      <td>53.33</td>\n",
       "    </tr>\n",
       "    <tr>\n",
       "      <th>2016-01-24 15:00:00</th>\n",
       "      <td>Rogla</td>\n",
       "      <td>2016-01-24</td>\n",
       "      <td>sončno</td>\n",
       "      <td>-3</td>\n",
       "      <td>60</td>\n",
       "      <td>{('9.00', '16.00'), ('17.00', '21.00')}</td>\n",
       "      <td>11.0</td>\n",
       "      <td>{'sedeznica': '2/2', 'vlečnica': '7/10'}</td>\n",
       "      <td>75.00</td>\n",
       "    </tr>\n",
       "    <tr>\n",
       "      <th>2016-01-24 15:00:00</th>\n",
       "      <td>RTCKranjskaGora</td>\n",
       "      <td>2016-01-24</td>\n",
       "      <td>sončno</td>\n",
       "      <td>-4</td>\n",
       "      <td>45</td>\n",
       "      <td>{('19.00', '22.00'), ('9.00', '16.00')}</td>\n",
       "      <td>10.0</td>\n",
       "      <td>{'sedeznica': '4/5', 'vlečnica': '8/13'}</td>\n",
       "      <td>66.67</td>\n",
       "    </tr>\n",
       "    <tr>\n",
       "      <th>2016-01-24 15:00:00</th>\n",
       "      <td>SCCerkno</td>\n",
       "      <td>2016-01-24</td>\n",
       "      <td>pretežno jasno</td>\n",
       "      <td>1</td>\n",
       "      <td>60</td>\n",
       "      <td>{('9.00', '16.00')}</td>\n",
       "      <td>7.0</td>\n",
       "      <td>{'sedeznica': '4/5', 'vlečnica': '2/2'}</td>\n",
       "      <td>85.71</td>\n",
       "    </tr>\n",
       "    <tr>\n",
       "      <th>2016-01-24 15:00:00</th>\n",
       "      <td>ŽičniceVogel</td>\n",
       "      <td>2016-01-24</td>\n",
       "      <td>pretežno jasno</td>\n",
       "      <td>3</td>\n",
       "      <td>40</td>\n",
       "      <td>{('9.00', '16.00')}</td>\n",
       "      <td>7.0</td>\n",
       "      <td>{'sedeznica': '2/4', 'vlečnica': '3/4', 'gondo...</td>\n",
       "      <td>66.67</td>\n",
       "    </tr>\n",
       "    <tr>\n",
       "      <th>2016-01-24 15:00:00</th>\n",
       "      <td>Soriškaplanina</td>\n",
       "      <td>2016-01-24</td>\n",
       "      <td>delno jasno</td>\n",
       "      <td>-2</td>\n",
       "      <td>35</td>\n",
       "      <td>{('9.00', '16.00')}</td>\n",
       "      <td>7.0</td>\n",
       "      <td>{'vlečnica': '2/4'}</td>\n",
       "      <td>50.00</td>\n",
       "    </tr>\n",
       "    <tr>\n",
       "      <th>2016-01-24 15:00:00</th>\n",
       "      <td>GTCKope</td>\n",
       "      <td>2016-01-24</td>\n",
       "      <td>sončno</td>\n",
       "      <td>-3</td>\n",
       "      <td>40</td>\n",
       "      <td>{('9.00', '16.00')}</td>\n",
       "      <td>7.0</td>\n",
       "      <td>{'sedeznica': '2/2', 'vlečnica': '6/6'}</td>\n",
       "      <td>100.00</td>\n",
       "    </tr>\n",
       "    <tr>\n",
       "      <th>2016-01-24 15:00:00</th>\n",
       "      <td>RTCGolte</td>\n",
       "      <td>2016-01-24</td>\n",
       "      <td>sončno</td>\n",
       "      <td>1</td>\n",
       "      <td>45</td>\n",
       "      <td>{('9.00', '16.00')}</td>\n",
       "      <td>7.0</td>\n",
       "      <td>{'sedeznica': '2/3', 'vlečnica': '2/3', 'gondo...</td>\n",
       "      <td>71.43</td>\n",
       "    </tr>\n",
       "    <tr>\n",
       "      <th>2016-01-24 15:00:00</th>\n",
       "      <td>STCStarivrh</td>\n",
       "      <td>2016-01-24</td>\n",
       "      <td>sončno</td>\n",
       "      <td>-1</td>\n",
       "      <td>50</td>\n",
       "      <td>{('19.00', '22.00'), ('9.00', '16.00')}</td>\n",
       "      <td>10.0</td>\n",
       "      <td>{'sedeznica': '1/1', 'vlečnica': '2/3'}</td>\n",
       "      <td>75.00</td>\n",
       "    </tr>\n",
       "    <tr>\n",
       "      <th>2016-01-24 15:00:00</th>\n",
       "      <td>StražaBled</td>\n",
       "      <td>2016-01-24</td>\n",
       "      <td>sončno</td>\n",
       "      <td>-2</td>\n",
       "      <td>30</td>\n",
       "      <td>{('9.00', '16.00'), ('17.00', '20.00')}</td>\n",
       "      <td>10.0</td>\n",
       "      <td>{'sedeznica': '1/1', 'vlečnica': '1/2'}</td>\n",
       "      <td>66.67</td>\n",
       "    </tr>\n",
       "    <tr>\n",
       "      <th>2016-01-24 15:00:00</th>\n",
       "      <td>Javornik</td>\n",
       "      <td>2016-01-24</td>\n",
       "      <td>sončno</td>\n",
       "      <td>-1</td>\n",
       "      <td>40</td>\n",
       "      <td>{('9.00', '16.00'), ('17.00', '21.00')}</td>\n",
       "      <td>11.0</td>\n",
       "      <td>{'vlečnica': '1/2'}</td>\n",
       "      <td>50.00</td>\n",
       "    </tr>\n",
       "    <tr>\n",
       "      <th>2016-01-24 15:00:00</th>\n",
       "      <td>Poseka</td>\n",
       "      <td>2016-01-24</td>\n",
       "      <td>pretežno jasno</td>\n",
       "      <td>-8</td>\n",
       "      <td>40</td>\n",
       "      <td>{('9.00', '16.00')}</td>\n",
       "      <td>7.0</td>\n",
       "      <td>{}</td>\n",
       "      <td>0.00</td>\n",
       "    </tr>\n",
       "    <tr>\n",
       "      <th>2016-01-24 15:00:00</th>\n",
       "      <td>Celjskakoča</td>\n",
       "      <td>2016-01-24</td>\n",
       "      <td>pretežno jasno</td>\n",
       "      <td>1</td>\n",
       "      <td>50</td>\n",
       "      <td>{('9.00', '21.00'), ('17.00', '21.00')}</td>\n",
       "      <td>16.0</td>\n",
       "      <td>{'vlečnica': '2/3'}</td>\n",
       "      <td>66.67</td>\n",
       "    </tr>\n",
       "    <tr>\n",
       "      <th>2016-01-24 15:00:00</th>\n",
       "      <td>RibniškoPohorje</td>\n",
       "      <td>2016-01-24</td>\n",
       "      <td>pretežno jasno</td>\n",
       "      <td>-6</td>\n",
       "      <td>45</td>\n",
       "      <td>{('18.00', '21.00'), ('9.00', '16.00')}</td>\n",
       "      <td>10.0</td>\n",
       "      <td>{'vlečnica': '4/4'}</td>\n",
       "      <td>100.00</td>\n",
       "    </tr>\n",
       "    <tr>\n",
       "      <th>2016-01-24 15:00:00</th>\n",
       "      <td>SKIBorČrnivrh</td>\n",
       "      <td>2016-01-24</td>\n",
       "      <td>pretežno jasno</td>\n",
       "      <td>-4</td>\n",
       "      <td>40</td>\n",
       "      <td>{('9.00', '16.00')}</td>\n",
       "      <td>7.0</td>\n",
       "      <td>{'vlečnica': '2/2'}</td>\n",
       "      <td>100.00</td>\n",
       "    </tr>\n",
       "    <tr>\n",
       "      <th>2016-01-24 15:00:00</th>\n",
       "      <td>ŠCRudno</td>\n",
       "      <td>2016-01-24</td>\n",
       "      <td>sončno</td>\n",
       "      <td>-2</td>\n",
       "      <td>60</td>\n",
       "      <td>{('9.00', '17.00')}</td>\n",
       "      <td>8.0</td>\n",
       "      <td>{'vlečnica': '1/1'}</td>\n",
       "      <td>100.00</td>\n",
       "    </tr>\n",
       "    <tr>\n",
       "      <th>2016-01-24 15:00:00</th>\n",
       "      <td>Bukovnik</td>\n",
       "      <td>2016-01-24</td>\n",
       "      <td>sončno</td>\n",
       "      <td>-10</td>\n",
       "      <td>50</td>\n",
       "      <td>{('13.00', '20.00'), ('16.00', '20.00')}</td>\n",
       "      <td>11.0</td>\n",
       "      <td>{'vlečnica': '1/1'}</td>\n",
       "      <td>100.00</td>\n",
       "    </tr>\n",
       "    <tr>\n",
       "      <th>2016-01-24 15:00:00</th>\n",
       "      <td>Šentjošt</td>\n",
       "      <td>2016-01-24</td>\n",
       "      <td>pretežno jasno</td>\n",
       "      <td>-3</td>\n",
       "      <td>50</td>\n",
       "      <td>{('9.30', '16.30')}</td>\n",
       "      <td>7.0</td>\n",
       "      <td>{'vlečnica': '2/2'}</td>\n",
       "      <td>100.00</td>\n",
       "    </tr>\n",
       "    <tr>\n",
       "      <th>2016-01-25 21:00:00</th>\n",
       "      <td>RTCKrvavec</td>\n",
       "      <td>2016-01-25</td>\n",
       "      <td>pretežno jasno</td>\n",
       "      <td>5</td>\n",
       "      <td>50</td>\n",
       "      <td>{('8.00', '16.00')}</td>\n",
       "      <td>8.0</td>\n",
       "      <td>{'sedeznica': '7/7', 'vlečnica': '3/5', 'gondo...</td>\n",
       "      <td>84.62</td>\n",
       "    </tr>\n",
       "    <tr>\n",
       "      <th>2016-01-25 21:00:00</th>\n",
       "      <td>MariborskoPohorje</td>\n",
       "      <td>2016-01-25</td>\n",
       "      <td>pretežno jasno</td>\n",
       "      <td>2</td>\n",
       "      <td>45</td>\n",
       "      <td>{('9.00', '16.00')}</td>\n",
       "      <td>7.0</td>\n",
       "      <td>{'sedeznica': '3/5', 'vlečnica': '4/9', 'gondo...</td>\n",
       "      <td>53.33</td>\n",
       "    </tr>\n",
       "    <tr>\n",
       "      <th>2016-01-25 21:00:00</th>\n",
       "      <td>Rogla</td>\n",
       "      <td>2016-01-25</td>\n",
       "      <td>pretežno oblačno</td>\n",
       "      <td>3</td>\n",
       "      <td>60</td>\n",
       "      <td>{('9.00', '16.00')}</td>\n",
       "      <td>7.0</td>\n",
       "      <td>{'sedeznica': '2/2', 'vlečnica': '9/10'}</td>\n",
       "      <td>91.67</td>\n",
       "    </tr>\n",
       "    <tr>\n",
       "      <th>2016-01-25 21:00:00</th>\n",
       "      <td>RTCKranjskaGora</td>\n",
       "      <td>2016-01-25</td>\n",
       "      <td>sončno</td>\n",
       "      <td>-3</td>\n",
       "      <td>45</td>\n",
       "      <td>{('9.00', '16.00')}</td>\n",
       "      <td>7.0</td>\n",
       "      <td>{'sedeznica': '4/5', 'vlečnica': '8/13'}</td>\n",
       "      <td>66.67</td>\n",
       "    </tr>\n",
       "    <tr>\n",
       "      <th>2016-01-25 21:00:00</th>\n",
       "      <td>SCCerkno</td>\n",
       "      <td>2016-01-25</td>\n",
       "      <td>pretežno jasno</td>\n",
       "      <td>2</td>\n",
       "      <td>60</td>\n",
       "      <td>{('9.00', '16.00')}</td>\n",
       "      <td>7.0</td>\n",
       "      <td>{'sedeznica': '4/5', 'vlečnica': '2/2'}</td>\n",
       "      <td>85.71</td>\n",
       "    </tr>\n",
       "    <tr>\n",
       "      <th>2016-01-25 21:00:00</th>\n",
       "      <td>ŽičniceVogel</td>\n",
       "      <td>2016-01-25</td>\n",
       "      <td>pretežno jasno</td>\n",
       "      <td>8</td>\n",
       "      <td>40</td>\n",
       "      <td>{('9.00', '16.00')}</td>\n",
       "      <td>7.0</td>\n",
       "      <td>{'sedeznica': '2/4', 'vlečnica': '3/4', 'gondo...</td>\n",
       "      <td>66.67</td>\n",
       "    </tr>\n",
       "    <tr>\n",
       "      <th>2016-01-25 21:00:00</th>\n",
       "      <td>Soriškaplanina</td>\n",
       "      <td>2016-01-25</td>\n",
       "      <td>pretežno jasno</td>\n",
       "      <td>-1</td>\n",
       "      <td>35</td>\n",
       "      <td>{('9.00', '16.00')}</td>\n",
       "      <td>7.0</td>\n",
       "      <td>{'vlečnica': '2/4'}</td>\n",
       "      <td>50.00</td>\n",
       "    </tr>\n",
       "    <tr>\n",
       "      <th>2016-01-25 21:00:00</th>\n",
       "      <td>GTCKope</td>\n",
       "      <td>2016-01-25</td>\n",
       "      <td>sončno</td>\n",
       "      <td>7</td>\n",
       "      <td>40</td>\n",
       "      <td>{('9.00', '16.00')}</td>\n",
       "      <td>7.0</td>\n",
       "      <td>{'sedeznica': '2/2', 'vlečnica': '5/6'}</td>\n",
       "      <td>87.50</td>\n",
       "    </tr>\n",
       "    <tr>\n",
       "      <th>2016-01-25 21:00:00</th>\n",
       "      <td>RTCGolte</td>\n",
       "      <td>2016-01-25</td>\n",
       "      <td>pretežno jasno</td>\n",
       "      <td>7</td>\n",
       "      <td>45</td>\n",
       "      <td>{('9.00', '16.00')}</td>\n",
       "      <td>7.0</td>\n",
       "      <td>{'sedeznica': '2/3', 'vlečnica': '2/3', 'gondo...</td>\n",
       "      <td>71.43</td>\n",
       "    </tr>\n",
       "    <tr>\n",
       "      <th>2016-01-25 21:00:00</th>\n",
       "      <td>STCStarivrh</td>\n",
       "      <td>2016-01-25</td>\n",
       "      <td>pretežno jasno</td>\n",
       "      <td>-1</td>\n",
       "      <td>50</td>\n",
       "      <td>{('19.00', '22.00'), ('9.00', '16.00')}</td>\n",
       "      <td>10.0</td>\n",
       "      <td>{'sedeznica': '1/1', 'vlečnica': '2/3'}</td>\n",
       "      <td>75.00</td>\n",
       "    </tr>\n",
       "    <tr>\n",
       "      <th>2016-01-25 21:00:00</th>\n",
       "      <td>StražaBled</td>\n",
       "      <td>2016-01-25</td>\n",
       "      <td>sončno</td>\n",
       "      <td>0</td>\n",
       "      <td>30</td>\n",
       "      <td>{('9.00', '16.00'), ('17.00', '20.00')}</td>\n",
       "      <td>10.0</td>\n",
       "      <td>{}</td>\n",
       "      <td>0.00</td>\n",
       "    </tr>\n",
       "    <tr>\n",
       "      <th>...</th>\n",
       "      <td>...</td>\n",
       "      <td>...</td>\n",
       "      <td>...</td>\n",
       "      <td>...</td>\n",
       "      <td>...</td>\n",
       "      <td>...</td>\n",
       "      <td>...</td>\n",
       "      <td>...</td>\n",
       "      <td>...</td>\n",
       "    </tr>\n",
       "    <tr>\n",
       "      <th>2016-02-23 14:00:00</th>\n",
       "      <td>SCCerkno</td>\n",
       "      <td>2016-02-23</td>\n",
       "      <td>pretežno oblačno</td>\n",
       "      <td>2</td>\n",
       "      <td>80</td>\n",
       "      <td>{('9.00', '16.00')}</td>\n",
       "      <td>7.0</td>\n",
       "      <td>{'sedeznica': '3/5', 'vlečnica': '1/2'}</td>\n",
       "      <td>57.14</td>\n",
       "    </tr>\n",
       "    <tr>\n",
       "      <th>2016-02-23 14:00:00</th>\n",
       "      <td>ŽičniceVogel</td>\n",
       "      <td>2016-02-23</td>\n",
       "      <td>oblačno, zg. sneg - sp. dež</td>\n",
       "      <td>1</td>\n",
       "      <td>220</td>\n",
       "      <td>{('8.30', '16.00')}</td>\n",
       "      <td>7.5</td>\n",
       "      <td>{'sedeznica': '2/4', 'vlečnica': '2/4', 'gondo...</td>\n",
       "      <td>55.56</td>\n",
       "    </tr>\n",
       "    <tr>\n",
       "      <th>2016-02-23 14:00:00</th>\n",
       "      <td>Soriškaplanina</td>\n",
       "      <td>2016-02-23</td>\n",
       "      <td>pretežno oblačno, vetrovno</td>\n",
       "      <td>2</td>\n",
       "      <td>90</td>\n",
       "      <td>{('9.00', '13.00')}</td>\n",
       "      <td>4.0</td>\n",
       "      <td>{'vlečnica': '3/4'}</td>\n",
       "      <td>75.00</td>\n",
       "    </tr>\n",
       "    <tr>\n",
       "      <th>2016-02-23 14:00:00</th>\n",
       "      <td>GTCKope</td>\n",
       "      <td>2016-02-23</td>\n",
       "      <td>oblačno, vetrovno</td>\n",
       "      <td>4</td>\n",
       "      <td>80</td>\n",
       "      <td>{('18.00', '21.00'), ('9.00', '16.00')}</td>\n",
       "      <td>10.0</td>\n",
       "      <td>{'sedeznica': '2/2', 'vlečnica': '6/6'}</td>\n",
       "      <td>100.00</td>\n",
       "    </tr>\n",
       "    <tr>\n",
       "      <th>2016-02-23 14:00:00</th>\n",
       "      <td>RTCGolte</td>\n",
       "      <td>2016-02-23</td>\n",
       "      <td>oblačno, vetrovno</td>\n",
       "      <td>2</td>\n",
       "      <td>100</td>\n",
       "      <td>{('9.00', '16.00')}</td>\n",
       "      <td>7.0</td>\n",
       "      <td>{'sedeznica': '3/3', 'vlečnica': '3/3', 'gondo...</td>\n",
       "      <td>100.00</td>\n",
       "    </tr>\n",
       "    <tr>\n",
       "      <th>2016-02-23 14:00:00</th>\n",
       "      <td>STCStarivrh</td>\n",
       "      <td>2016-02-23</td>\n",
       "      <td>pretežno oblačno, dežuje</td>\n",
       "      <td>6</td>\n",
       "      <td>50</td>\n",
       "      <td>{('9.00', '16.00')}</td>\n",
       "      <td>7.0</td>\n",
       "      <td>{'sedeznica': '1/1', 'vlečnica': '1/3'}</td>\n",
       "      <td>50.00</td>\n",
       "    </tr>\n",
       "    <tr>\n",
       "      <th>2016-02-23 14:00:00</th>\n",
       "      <td>TrijeKralji</td>\n",
       "      <td>2016-02-23</td>\n",
       "      <td>pretežno oblačno</td>\n",
       "      <td>4</td>\n",
       "      <td>80</td>\n",
       "      <td>{('9.00', '16.00')}</td>\n",
       "      <td>7.0</td>\n",
       "      <td>{'vlečnica': '2/2'}</td>\n",
       "      <td>100.00</td>\n",
       "    </tr>\n",
       "    <tr>\n",
       "      <th>2016-02-23 14:00:00</th>\n",
       "      <td>Poseka</td>\n",
       "      <td>2016-02-23</td>\n",
       "      <td>oblačno</td>\n",
       "      <td>4</td>\n",
       "      <td>25</td>\n",
       "      <td>set()</td>\n",
       "      <td>0.0</td>\n",
       "      <td>{}</td>\n",
       "      <td>0.00</td>\n",
       "    </tr>\n",
       "    <tr>\n",
       "      <th>2016-02-23 14:00:00</th>\n",
       "      <td>Celjskakoča</td>\n",
       "      <td>2016-02-23</td>\n",
       "      <td>delno jasno</td>\n",
       "      <td>5</td>\n",
       "      <td>20</td>\n",
       "      <td>{('9.00', '19.00')}</td>\n",
       "      <td>10.0</td>\n",
       "      <td>{'vlečnica': '1/3'}</td>\n",
       "      <td>33.33</td>\n",
       "    </tr>\n",
       "    <tr>\n",
       "      <th>2016-02-23 14:00:00</th>\n",
       "      <td>MacesnovcRateče</td>\n",
       "      <td>2016-02-23</td>\n",
       "      <td>oblačno</td>\n",
       "      <td>2</td>\n",
       "      <td>30</td>\n",
       "      <td>{('9.00', '16.00')}</td>\n",
       "      <td>7.0</td>\n",
       "      <td>{'sedeznica': '1/1', 'vlečnica': '1/2'}</td>\n",
       "      <td>66.67</td>\n",
       "    </tr>\n",
       "    <tr>\n",
       "      <th>2016-02-23 14:00:00</th>\n",
       "      <td>RibnicanaPohorju</td>\n",
       "      <td>2016-02-23</td>\n",
       "      <td>oblačno</td>\n",
       "      <td>0</td>\n",
       "      <td>30</td>\n",
       "      <td>{('18.00', '21.00'), ('9.00', '16.00')}</td>\n",
       "      <td>10.0</td>\n",
       "      <td>{'vlečnica': '4/4'}</td>\n",
       "      <td>100.00</td>\n",
       "    </tr>\n",
       "    <tr>\n",
       "      <th>2016-02-23 14:00:00</th>\n",
       "      <td>ŠCRudno</td>\n",
       "      <td>2016-02-23</td>\n",
       "      <td>oblačno</td>\n",
       "      <td>5</td>\n",
       "      <td>55</td>\n",
       "      <td>{('16.00', '19.00'), ('15.00', '19.00')}</td>\n",
       "      <td>7.0</td>\n",
       "      <td>{'vlečnica': '1/1'}</td>\n",
       "      <td>100.00</td>\n",
       "    </tr>\n",
       "    <tr>\n",
       "      <th>2016-02-23 14:00:00</th>\n",
       "      <td>Bukovnik</td>\n",
       "      <td>2016-02-23</td>\n",
       "      <td>pretežno oblačno, dežuje</td>\n",
       "      <td>7</td>\n",
       "      <td>30</td>\n",
       "      <td>set()</td>\n",
       "      <td>0.0</td>\n",
       "      <td>{}</td>\n",
       "      <td>0.00</td>\n",
       "    </tr>\n",
       "    <tr>\n",
       "      <th>2016-02-23 15:00:00</th>\n",
       "      <td>RTCKrvavec</td>\n",
       "      <td>2016-02-23</td>\n",
       "      <td>pretežno oblačno, vetrovno</td>\n",
       "      <td>1</td>\n",
       "      <td>140</td>\n",
       "      <td>{('8.00', '16.00')}</td>\n",
       "      <td>8.0</td>\n",
       "      <td>{'sedeznica': '5/7', 'vlečnica': '3/5', 'gondo...</td>\n",
       "      <td>69.23</td>\n",
       "    </tr>\n",
       "    <tr>\n",
       "      <th>2016-02-23 15:00:00</th>\n",
       "      <td>MariborskoPohorje</td>\n",
       "      <td>2016-02-23</td>\n",
       "      <td>pretežno jasno</td>\n",
       "      <td>4</td>\n",
       "      <td>45</td>\n",
       "      <td>{('18.00', '21.00'), ('9.00', '16.00')}</td>\n",
       "      <td>10.0</td>\n",
       "      <td>{'sedeznica': '4/5', 'vlečnica': '5/9', 'gondo...</td>\n",
       "      <td>66.67</td>\n",
       "    </tr>\n",
       "    <tr>\n",
       "      <th>2016-02-23 15:00:00</th>\n",
       "      <td>Rogla</td>\n",
       "      <td>2016-02-23</td>\n",
       "      <td>oblačno</td>\n",
       "      <td>3</td>\n",
       "      <td>110</td>\n",
       "      <td>{('9.00', '16.00'), ('17.00', '21.00')}</td>\n",
       "      <td>11.0</td>\n",
       "      <td>{'sedeznica': '2/2', 'vlečnica': '9/10'}</td>\n",
       "      <td>91.67</td>\n",
       "    </tr>\n",
       "    <tr>\n",
       "      <th>2016-02-23 15:00:00</th>\n",
       "      <td>RTCKranjskaGora</td>\n",
       "      <td>2016-02-23</td>\n",
       "      <td>sončno</td>\n",
       "      <td>6</td>\n",
       "      <td>60</td>\n",
       "      <td>{('19.00', '22.00'), ('9.00', '16.00')}</td>\n",
       "      <td>10.0</td>\n",
       "      <td>{'park': '1/2', 'sedeznica': '5/5', 'vlečnica'...</td>\n",
       "      <td>90.00</td>\n",
       "    </tr>\n",
       "    <tr>\n",
       "      <th>2016-02-23 15:00:00</th>\n",
       "      <td>SCCerkno</td>\n",
       "      <td>2016-02-23</td>\n",
       "      <td>pretežno oblačno</td>\n",
       "      <td>2</td>\n",
       "      <td>80</td>\n",
       "      <td>{('9.00', '16.00')}</td>\n",
       "      <td>7.0</td>\n",
       "      <td>{'sedeznica': '3/5', 'vlečnica': '1/2'}</td>\n",
       "      <td>57.14</td>\n",
       "    </tr>\n",
       "    <tr>\n",
       "      <th>2016-02-23 15:00:00</th>\n",
       "      <td>ŽičniceVogel</td>\n",
       "      <td>2016-02-23</td>\n",
       "      <td>oblačno, zg. sneg - sp. dež</td>\n",
       "      <td>1</td>\n",
       "      <td>220</td>\n",
       "      <td>{('8.30', '16.00')}</td>\n",
       "      <td>7.5</td>\n",
       "      <td>{'sedeznica': '2/4', 'vlečnica': '2/4', 'gondo...</td>\n",
       "      <td>55.56</td>\n",
       "    </tr>\n",
       "    <tr>\n",
       "      <th>2016-02-23 15:00:00</th>\n",
       "      <td>Soriškaplanina</td>\n",
       "      <td>2016-02-23</td>\n",
       "      <td>pretežno oblačno, vetrovno</td>\n",
       "      <td>2</td>\n",
       "      <td>90</td>\n",
       "      <td>{('9.00', '13.00')}</td>\n",
       "      <td>4.0</td>\n",
       "      <td>{'vlečnica': '3/4'}</td>\n",
       "      <td>75.00</td>\n",
       "    </tr>\n",
       "    <tr>\n",
       "      <th>2016-02-23 15:00:00</th>\n",
       "      <td>GTCKope</td>\n",
       "      <td>2016-02-23</td>\n",
       "      <td>oblačno, vetrovno</td>\n",
       "      <td>4</td>\n",
       "      <td>80</td>\n",
       "      <td>{('18.00', '21.00'), ('9.00', '16.00')}</td>\n",
       "      <td>10.0</td>\n",
       "      <td>{'sedeznica': '2/2', 'vlečnica': '6/6'}</td>\n",
       "      <td>100.00</td>\n",
       "    </tr>\n",
       "    <tr>\n",
       "      <th>2016-02-23 15:00:00</th>\n",
       "      <td>RTCGolte</td>\n",
       "      <td>2016-02-23</td>\n",
       "      <td>oblačno, vetrovno</td>\n",
       "      <td>2</td>\n",
       "      <td>100</td>\n",
       "      <td>{('9.00', '16.00')}</td>\n",
       "      <td>7.0</td>\n",
       "      <td>{'sedeznica': '3/3', 'vlečnica': '3/3', 'gondo...</td>\n",
       "      <td>100.00</td>\n",
       "    </tr>\n",
       "    <tr>\n",
       "      <th>2016-02-23 15:00:00</th>\n",
       "      <td>STCStarivrh</td>\n",
       "      <td>2016-02-23</td>\n",
       "      <td>pretežno oblačno, dežuje</td>\n",
       "      <td>6</td>\n",
       "      <td>50</td>\n",
       "      <td>{('9.00', '16.00')}</td>\n",
       "      <td>7.0</td>\n",
       "      <td>{'sedeznica': '1/1', 'vlečnica': '1/3'}</td>\n",
       "      <td>50.00</td>\n",
       "    </tr>\n",
       "    <tr>\n",
       "      <th>2016-02-23 15:00:00</th>\n",
       "      <td>TrijeKralji</td>\n",
       "      <td>2016-02-23</td>\n",
       "      <td>pretežno oblačno</td>\n",
       "      <td>4</td>\n",
       "      <td>80</td>\n",
       "      <td>{('9.00', '16.00')}</td>\n",
       "      <td>7.0</td>\n",
       "      <td>{'vlečnica': '2/2'}</td>\n",
       "      <td>100.00</td>\n",
       "    </tr>\n",
       "    <tr>\n",
       "      <th>2016-02-23 15:00:00</th>\n",
       "      <td>Poseka</td>\n",
       "      <td>2016-02-23</td>\n",
       "      <td>oblačno</td>\n",
       "      <td>4</td>\n",
       "      <td>25</td>\n",
       "      <td>set()</td>\n",
       "      <td>0.0</td>\n",
       "      <td>{}</td>\n",
       "      <td>0.00</td>\n",
       "    </tr>\n",
       "    <tr>\n",
       "      <th>2016-02-23 15:00:00</th>\n",
       "      <td>Celjskakoča</td>\n",
       "      <td>2016-02-23</td>\n",
       "      <td>delno jasno</td>\n",
       "      <td>5</td>\n",
       "      <td>20</td>\n",
       "      <td>{('9.00', '19.00')}</td>\n",
       "      <td>10.0</td>\n",
       "      <td>{'vlečnica': '1/3'}</td>\n",
       "      <td>33.33</td>\n",
       "    </tr>\n",
       "    <tr>\n",
       "      <th>2016-02-23 15:00:00</th>\n",
       "      <td>MacesnovcRateče</td>\n",
       "      <td>2016-02-23</td>\n",
       "      <td>oblačno</td>\n",
       "      <td>2</td>\n",
       "      <td>30</td>\n",
       "      <td>{('9.00', '16.00')}</td>\n",
       "      <td>7.0</td>\n",
       "      <td>{'sedeznica': '1/1', 'vlečnica': '1/2'}</td>\n",
       "      <td>66.67</td>\n",
       "    </tr>\n",
       "    <tr>\n",
       "      <th>2016-02-23 15:00:00</th>\n",
       "      <td>RibnicanaPohorju</td>\n",
       "      <td>2016-02-23</td>\n",
       "      <td>oblačno</td>\n",
       "      <td>0</td>\n",
       "      <td>30</td>\n",
       "      <td>{('18.00', '21.00'), ('9.00', '16.00')}</td>\n",
       "      <td>10.0</td>\n",
       "      <td>{'vlečnica': '4/4'}</td>\n",
       "      <td>100.00</td>\n",
       "    </tr>\n",
       "    <tr>\n",
       "      <th>2016-02-23 15:00:00</th>\n",
       "      <td>ŠCRudno</td>\n",
       "      <td>2016-02-23</td>\n",
       "      <td>oblačno</td>\n",
       "      <td>5</td>\n",
       "      <td>55</td>\n",
       "      <td>{('16.00', '19.00')}</td>\n",
       "      <td>3.0</td>\n",
       "      <td>{}</td>\n",
       "      <td>0.00</td>\n",
       "    </tr>\n",
       "    <tr>\n",
       "      <th>2016-02-23 15:00:00</th>\n",
       "      <td>Bukovnik</td>\n",
       "      <td>2016-02-23</td>\n",
       "      <td>pretežno oblačno, dežuje</td>\n",
       "      <td>7</td>\n",
       "      <td>30</td>\n",
       "      <td>set()</td>\n",
       "      <td>0.0</td>\n",
       "      <td>{}</td>\n",
       "      <td>0.00</td>\n",
       "    </tr>\n",
       "  </tbody>\n",
       "</table>\n",
       "<p>5791 rows × 9 columns</p>\n",
       "</div>"
      ],
      "text/plain": [
       "                              smucisce       datum  \\\n",
       "cas                                                  \n",
       "2016-01-24 15:00:00         RTCKrvavec  2016-01-24   \n",
       "2016-01-24 15:00:00  MariborskoPohorje  2016-01-24   \n",
       "2016-01-24 15:00:00              Rogla  2016-01-24   \n",
       "2016-01-24 15:00:00    RTCKranjskaGora  2016-01-24   \n",
       "2016-01-24 15:00:00           SCCerkno  2016-01-24   \n",
       "2016-01-24 15:00:00       ŽičniceVogel  2016-01-24   \n",
       "2016-01-24 15:00:00     Soriškaplanina  2016-01-24   \n",
       "2016-01-24 15:00:00            GTCKope  2016-01-24   \n",
       "2016-01-24 15:00:00           RTCGolte  2016-01-24   \n",
       "2016-01-24 15:00:00        STCStarivrh  2016-01-24   \n",
       "2016-01-24 15:00:00         StražaBled  2016-01-24   \n",
       "2016-01-24 15:00:00           Javornik  2016-01-24   \n",
       "2016-01-24 15:00:00             Poseka  2016-01-24   \n",
       "2016-01-24 15:00:00        Celjskakoča  2016-01-24   \n",
       "2016-01-24 15:00:00    RibniškoPohorje  2016-01-24   \n",
       "2016-01-24 15:00:00      SKIBorČrnivrh  2016-01-24   \n",
       "2016-01-24 15:00:00            ŠCRudno  2016-01-24   \n",
       "2016-01-24 15:00:00           Bukovnik  2016-01-24   \n",
       "2016-01-24 15:00:00           Šentjošt  2016-01-24   \n",
       "2016-01-25 21:00:00         RTCKrvavec  2016-01-25   \n",
       "2016-01-25 21:00:00  MariborskoPohorje  2016-01-25   \n",
       "2016-01-25 21:00:00              Rogla  2016-01-25   \n",
       "2016-01-25 21:00:00    RTCKranjskaGora  2016-01-25   \n",
       "2016-01-25 21:00:00           SCCerkno  2016-01-25   \n",
       "2016-01-25 21:00:00       ŽičniceVogel  2016-01-25   \n",
       "2016-01-25 21:00:00     Soriškaplanina  2016-01-25   \n",
       "2016-01-25 21:00:00            GTCKope  2016-01-25   \n",
       "2016-01-25 21:00:00           RTCGolte  2016-01-25   \n",
       "2016-01-25 21:00:00        STCStarivrh  2016-01-25   \n",
       "2016-01-25 21:00:00         StražaBled  2016-01-25   \n",
       "...                                ...         ...   \n",
       "2016-02-23 14:00:00           SCCerkno  2016-02-23   \n",
       "2016-02-23 14:00:00       ŽičniceVogel  2016-02-23   \n",
       "2016-02-23 14:00:00     Soriškaplanina  2016-02-23   \n",
       "2016-02-23 14:00:00            GTCKope  2016-02-23   \n",
       "2016-02-23 14:00:00           RTCGolte  2016-02-23   \n",
       "2016-02-23 14:00:00        STCStarivrh  2016-02-23   \n",
       "2016-02-23 14:00:00        TrijeKralji  2016-02-23   \n",
       "2016-02-23 14:00:00             Poseka  2016-02-23   \n",
       "2016-02-23 14:00:00        Celjskakoča  2016-02-23   \n",
       "2016-02-23 14:00:00    MacesnovcRateče  2016-02-23   \n",
       "2016-02-23 14:00:00   RibnicanaPohorju  2016-02-23   \n",
       "2016-02-23 14:00:00            ŠCRudno  2016-02-23   \n",
       "2016-02-23 14:00:00           Bukovnik  2016-02-23   \n",
       "2016-02-23 15:00:00         RTCKrvavec  2016-02-23   \n",
       "2016-02-23 15:00:00  MariborskoPohorje  2016-02-23   \n",
       "2016-02-23 15:00:00              Rogla  2016-02-23   \n",
       "2016-02-23 15:00:00    RTCKranjskaGora  2016-02-23   \n",
       "2016-02-23 15:00:00           SCCerkno  2016-02-23   \n",
       "2016-02-23 15:00:00       ŽičniceVogel  2016-02-23   \n",
       "2016-02-23 15:00:00     Soriškaplanina  2016-02-23   \n",
       "2016-02-23 15:00:00            GTCKope  2016-02-23   \n",
       "2016-02-23 15:00:00           RTCGolte  2016-02-23   \n",
       "2016-02-23 15:00:00        STCStarivrh  2016-02-23   \n",
       "2016-02-23 15:00:00        TrijeKralji  2016-02-23   \n",
       "2016-02-23 15:00:00             Poseka  2016-02-23   \n",
       "2016-02-23 15:00:00        Celjskakoča  2016-02-23   \n",
       "2016-02-23 15:00:00    MacesnovcRateče  2016-02-23   \n",
       "2016-02-23 15:00:00   RibnicanaPohorju  2016-02-23   \n",
       "2016-02-23 15:00:00            ŠCRudno  2016-02-23   \n",
       "2016-02-23 15:00:00           Bukovnik  2016-02-23   \n",
       "\n",
       "                                           vreme  temperatura  sneg  \\\n",
       "cas                                                                   \n",
       "2016-01-24 15:00:00                       sončno           -2    50   \n",
       "2016-01-24 15:00:00               pretežno jasno           -2    45   \n",
       "2016-01-24 15:00:00                       sončno           -3    60   \n",
       "2016-01-24 15:00:00                       sončno           -4    45   \n",
       "2016-01-24 15:00:00               pretežno jasno            1    60   \n",
       "2016-01-24 15:00:00               pretežno jasno            3    40   \n",
       "2016-01-24 15:00:00                  delno jasno           -2    35   \n",
       "2016-01-24 15:00:00                       sončno           -3    40   \n",
       "2016-01-24 15:00:00                       sončno            1    45   \n",
       "2016-01-24 15:00:00                       sončno           -1    50   \n",
       "2016-01-24 15:00:00                       sončno           -2    30   \n",
       "2016-01-24 15:00:00                       sončno           -1    40   \n",
       "2016-01-24 15:00:00               pretežno jasno           -8    40   \n",
       "2016-01-24 15:00:00               pretežno jasno            1    50   \n",
       "2016-01-24 15:00:00               pretežno jasno           -6    45   \n",
       "2016-01-24 15:00:00               pretežno jasno           -4    40   \n",
       "2016-01-24 15:00:00                       sončno           -2    60   \n",
       "2016-01-24 15:00:00                       sončno          -10    50   \n",
       "2016-01-24 15:00:00               pretežno jasno           -3    50   \n",
       "2016-01-25 21:00:00               pretežno jasno            5    50   \n",
       "2016-01-25 21:00:00               pretežno jasno            2    45   \n",
       "2016-01-25 21:00:00             pretežno oblačno            3    60   \n",
       "2016-01-25 21:00:00                       sončno           -3    45   \n",
       "2016-01-25 21:00:00               pretežno jasno            2    60   \n",
       "2016-01-25 21:00:00               pretežno jasno            8    40   \n",
       "2016-01-25 21:00:00               pretežno jasno           -1    35   \n",
       "2016-01-25 21:00:00                       sončno            7    40   \n",
       "2016-01-25 21:00:00               pretežno jasno            7    45   \n",
       "2016-01-25 21:00:00               pretežno jasno           -1    50   \n",
       "2016-01-25 21:00:00                       sončno            0    30   \n",
       "...                                          ...          ...   ...   \n",
       "2016-02-23 14:00:00             pretežno oblačno            2    80   \n",
       "2016-02-23 14:00:00  oblačno, zg. sneg - sp. dež            1   220   \n",
       "2016-02-23 14:00:00   pretežno oblačno, vetrovno            2    90   \n",
       "2016-02-23 14:00:00            oblačno, vetrovno            4    80   \n",
       "2016-02-23 14:00:00            oblačno, vetrovno            2   100   \n",
       "2016-02-23 14:00:00     pretežno oblačno, dežuje            6    50   \n",
       "2016-02-23 14:00:00             pretežno oblačno            4    80   \n",
       "2016-02-23 14:00:00                      oblačno            4    25   \n",
       "2016-02-23 14:00:00                  delno jasno            5    20   \n",
       "2016-02-23 14:00:00                      oblačno            2    30   \n",
       "2016-02-23 14:00:00                      oblačno            0    30   \n",
       "2016-02-23 14:00:00                      oblačno            5    55   \n",
       "2016-02-23 14:00:00     pretežno oblačno, dežuje            7    30   \n",
       "2016-02-23 15:00:00   pretežno oblačno, vetrovno            1   140   \n",
       "2016-02-23 15:00:00               pretežno jasno            4    45   \n",
       "2016-02-23 15:00:00                      oblačno            3   110   \n",
       "2016-02-23 15:00:00                       sončno            6    60   \n",
       "2016-02-23 15:00:00             pretežno oblačno            2    80   \n",
       "2016-02-23 15:00:00  oblačno, zg. sneg - sp. dež            1   220   \n",
       "2016-02-23 15:00:00   pretežno oblačno, vetrovno            2    90   \n",
       "2016-02-23 15:00:00            oblačno, vetrovno            4    80   \n",
       "2016-02-23 15:00:00            oblačno, vetrovno            2   100   \n",
       "2016-02-23 15:00:00     pretežno oblačno, dežuje            6    50   \n",
       "2016-02-23 15:00:00             pretežno oblačno            4    80   \n",
       "2016-02-23 15:00:00                      oblačno            4    25   \n",
       "2016-02-23 15:00:00                  delno jasno            5    20   \n",
       "2016-02-23 15:00:00                      oblačno            2    30   \n",
       "2016-02-23 15:00:00                      oblačno            0    30   \n",
       "2016-02-23 15:00:00                      oblačno            5    55   \n",
       "2016-02-23 15:00:00     pretežno oblačno, dežuje            7    30   \n",
       "\n",
       "                                                  obratovanje  odprto  \\\n",
       "cas                                                                     \n",
       "2016-01-24 15:00:00                       {('8.00', '16.00')}     8.0   \n",
       "2016-01-24 15:00:00   {('18.00', '21.00'), ('9.00', '16.00')}    10.0   \n",
       "2016-01-24 15:00:00   {('9.00', '16.00'), ('17.00', '21.00')}    11.0   \n",
       "2016-01-24 15:00:00   {('19.00', '22.00'), ('9.00', '16.00')}    10.0   \n",
       "2016-01-24 15:00:00                       {('9.00', '16.00')}     7.0   \n",
       "2016-01-24 15:00:00                       {('9.00', '16.00')}     7.0   \n",
       "2016-01-24 15:00:00                       {('9.00', '16.00')}     7.0   \n",
       "2016-01-24 15:00:00                       {('9.00', '16.00')}     7.0   \n",
       "2016-01-24 15:00:00                       {('9.00', '16.00')}     7.0   \n",
       "2016-01-24 15:00:00   {('19.00', '22.00'), ('9.00', '16.00')}    10.0   \n",
       "2016-01-24 15:00:00   {('9.00', '16.00'), ('17.00', '20.00')}    10.0   \n",
       "2016-01-24 15:00:00   {('9.00', '16.00'), ('17.00', '21.00')}    11.0   \n",
       "2016-01-24 15:00:00                       {('9.00', '16.00')}     7.0   \n",
       "2016-01-24 15:00:00   {('9.00', '21.00'), ('17.00', '21.00')}    16.0   \n",
       "2016-01-24 15:00:00   {('18.00', '21.00'), ('9.00', '16.00')}    10.0   \n",
       "2016-01-24 15:00:00                       {('9.00', '16.00')}     7.0   \n",
       "2016-01-24 15:00:00                       {('9.00', '17.00')}     8.0   \n",
       "2016-01-24 15:00:00  {('13.00', '20.00'), ('16.00', '20.00')}    11.0   \n",
       "2016-01-24 15:00:00                       {('9.30', '16.30')}     7.0   \n",
       "2016-01-25 21:00:00                       {('8.00', '16.00')}     8.0   \n",
       "2016-01-25 21:00:00                       {('9.00', '16.00')}     7.0   \n",
       "2016-01-25 21:00:00                       {('9.00', '16.00')}     7.0   \n",
       "2016-01-25 21:00:00                       {('9.00', '16.00')}     7.0   \n",
       "2016-01-25 21:00:00                       {('9.00', '16.00')}     7.0   \n",
       "2016-01-25 21:00:00                       {('9.00', '16.00')}     7.0   \n",
       "2016-01-25 21:00:00                       {('9.00', '16.00')}     7.0   \n",
       "2016-01-25 21:00:00                       {('9.00', '16.00')}     7.0   \n",
       "2016-01-25 21:00:00                       {('9.00', '16.00')}     7.0   \n",
       "2016-01-25 21:00:00   {('19.00', '22.00'), ('9.00', '16.00')}    10.0   \n",
       "2016-01-25 21:00:00   {('9.00', '16.00'), ('17.00', '20.00')}    10.0   \n",
       "...                                                       ...     ...   \n",
       "2016-02-23 14:00:00                       {('9.00', '16.00')}     7.0   \n",
       "2016-02-23 14:00:00                       {('8.30', '16.00')}     7.5   \n",
       "2016-02-23 14:00:00                       {('9.00', '13.00')}     4.0   \n",
       "2016-02-23 14:00:00   {('18.00', '21.00'), ('9.00', '16.00')}    10.0   \n",
       "2016-02-23 14:00:00                       {('9.00', '16.00')}     7.0   \n",
       "2016-02-23 14:00:00                       {('9.00', '16.00')}     7.0   \n",
       "2016-02-23 14:00:00                       {('9.00', '16.00')}     7.0   \n",
       "2016-02-23 14:00:00                                     set()     0.0   \n",
       "2016-02-23 14:00:00                       {('9.00', '19.00')}    10.0   \n",
       "2016-02-23 14:00:00                       {('9.00', '16.00')}     7.0   \n",
       "2016-02-23 14:00:00   {('18.00', '21.00'), ('9.00', '16.00')}    10.0   \n",
       "2016-02-23 14:00:00  {('16.00', '19.00'), ('15.00', '19.00')}     7.0   \n",
       "2016-02-23 14:00:00                                     set()     0.0   \n",
       "2016-02-23 15:00:00                       {('8.00', '16.00')}     8.0   \n",
       "2016-02-23 15:00:00   {('18.00', '21.00'), ('9.00', '16.00')}    10.0   \n",
       "2016-02-23 15:00:00   {('9.00', '16.00'), ('17.00', '21.00')}    11.0   \n",
       "2016-02-23 15:00:00   {('19.00', '22.00'), ('9.00', '16.00')}    10.0   \n",
       "2016-02-23 15:00:00                       {('9.00', '16.00')}     7.0   \n",
       "2016-02-23 15:00:00                       {('8.30', '16.00')}     7.5   \n",
       "2016-02-23 15:00:00                       {('9.00', '13.00')}     4.0   \n",
       "2016-02-23 15:00:00   {('18.00', '21.00'), ('9.00', '16.00')}    10.0   \n",
       "2016-02-23 15:00:00                       {('9.00', '16.00')}     7.0   \n",
       "2016-02-23 15:00:00                       {('9.00', '16.00')}     7.0   \n",
       "2016-02-23 15:00:00                       {('9.00', '16.00')}     7.0   \n",
       "2016-02-23 15:00:00                                     set()     0.0   \n",
       "2016-02-23 15:00:00                       {('9.00', '19.00')}    10.0   \n",
       "2016-02-23 15:00:00                       {('9.00', '16.00')}     7.0   \n",
       "2016-02-23 15:00:00   {('18.00', '21.00'), ('9.00', '16.00')}    10.0   \n",
       "2016-02-23 15:00:00                      {('16.00', '19.00')}     3.0   \n",
       "2016-02-23 15:00:00                                     set()     0.0   \n",
       "\n",
       "                                                             sedeznice   proge  \n",
       "cas                                                                             \n",
       "2016-01-24 15:00:00  {'sedeznica': '7/7', 'vlečnica': '3/5', 'gondo...   84.62  \n",
       "2016-01-24 15:00:00  {'sedeznica': '3/5', 'vlečnica': '4/9', 'gondo...   53.33  \n",
       "2016-01-24 15:00:00           {'sedeznica': '2/2', 'vlečnica': '7/10'}   75.00  \n",
       "2016-01-24 15:00:00           {'sedeznica': '4/5', 'vlečnica': '8/13'}   66.67  \n",
       "2016-01-24 15:00:00            {'sedeznica': '4/5', 'vlečnica': '2/2'}   85.71  \n",
       "2016-01-24 15:00:00  {'sedeznica': '2/4', 'vlečnica': '3/4', 'gondo...   66.67  \n",
       "2016-01-24 15:00:00                                {'vlečnica': '2/4'}   50.00  \n",
       "2016-01-24 15:00:00            {'sedeznica': '2/2', 'vlečnica': '6/6'}  100.00  \n",
       "2016-01-24 15:00:00  {'sedeznica': '2/3', 'vlečnica': '2/3', 'gondo...   71.43  \n",
       "2016-01-24 15:00:00            {'sedeznica': '1/1', 'vlečnica': '2/3'}   75.00  \n",
       "2016-01-24 15:00:00            {'sedeznica': '1/1', 'vlečnica': '1/2'}   66.67  \n",
       "2016-01-24 15:00:00                                {'vlečnica': '1/2'}   50.00  \n",
       "2016-01-24 15:00:00                                                 {}    0.00  \n",
       "2016-01-24 15:00:00                                {'vlečnica': '2/3'}   66.67  \n",
       "2016-01-24 15:00:00                                {'vlečnica': '4/4'}  100.00  \n",
       "2016-01-24 15:00:00                                {'vlečnica': '2/2'}  100.00  \n",
       "2016-01-24 15:00:00                                {'vlečnica': '1/1'}  100.00  \n",
       "2016-01-24 15:00:00                                {'vlečnica': '1/1'}  100.00  \n",
       "2016-01-24 15:00:00                                {'vlečnica': '2/2'}  100.00  \n",
       "2016-01-25 21:00:00  {'sedeznica': '7/7', 'vlečnica': '3/5', 'gondo...   84.62  \n",
       "2016-01-25 21:00:00  {'sedeznica': '3/5', 'vlečnica': '4/9', 'gondo...   53.33  \n",
       "2016-01-25 21:00:00           {'sedeznica': '2/2', 'vlečnica': '9/10'}   91.67  \n",
       "2016-01-25 21:00:00           {'sedeznica': '4/5', 'vlečnica': '8/13'}   66.67  \n",
       "2016-01-25 21:00:00            {'sedeznica': '4/5', 'vlečnica': '2/2'}   85.71  \n",
       "2016-01-25 21:00:00  {'sedeznica': '2/4', 'vlečnica': '3/4', 'gondo...   66.67  \n",
       "2016-01-25 21:00:00                                {'vlečnica': '2/4'}   50.00  \n",
       "2016-01-25 21:00:00            {'sedeznica': '2/2', 'vlečnica': '5/6'}   87.50  \n",
       "2016-01-25 21:00:00  {'sedeznica': '2/3', 'vlečnica': '2/3', 'gondo...   71.43  \n",
       "2016-01-25 21:00:00            {'sedeznica': '1/1', 'vlečnica': '2/3'}   75.00  \n",
       "2016-01-25 21:00:00                                                 {}    0.00  \n",
       "...                                                                ...     ...  \n",
       "2016-02-23 14:00:00            {'sedeznica': '3/5', 'vlečnica': '1/2'}   57.14  \n",
       "2016-02-23 14:00:00  {'sedeznica': '2/4', 'vlečnica': '2/4', 'gondo...   55.56  \n",
       "2016-02-23 14:00:00                                {'vlečnica': '3/4'}   75.00  \n",
       "2016-02-23 14:00:00            {'sedeznica': '2/2', 'vlečnica': '6/6'}  100.00  \n",
       "2016-02-23 14:00:00  {'sedeznica': '3/3', 'vlečnica': '3/3', 'gondo...  100.00  \n",
       "2016-02-23 14:00:00            {'sedeznica': '1/1', 'vlečnica': '1/3'}   50.00  \n",
       "2016-02-23 14:00:00                                {'vlečnica': '2/2'}  100.00  \n",
       "2016-02-23 14:00:00                                                 {}    0.00  \n",
       "2016-02-23 14:00:00                                {'vlečnica': '1/3'}   33.33  \n",
       "2016-02-23 14:00:00            {'sedeznica': '1/1', 'vlečnica': '1/2'}   66.67  \n",
       "2016-02-23 14:00:00                                {'vlečnica': '4/4'}  100.00  \n",
       "2016-02-23 14:00:00                                {'vlečnica': '1/1'}  100.00  \n",
       "2016-02-23 14:00:00                                                 {}    0.00  \n",
       "2016-02-23 15:00:00  {'sedeznica': '5/7', 'vlečnica': '3/5', 'gondo...   69.23  \n",
       "2016-02-23 15:00:00  {'sedeznica': '4/5', 'vlečnica': '5/9', 'gondo...   66.67  \n",
       "2016-02-23 15:00:00           {'sedeznica': '2/2', 'vlečnica': '9/10'}   91.67  \n",
       "2016-02-23 15:00:00  {'park': '1/2', 'sedeznica': '5/5', 'vlečnica'...   90.00  \n",
       "2016-02-23 15:00:00            {'sedeznica': '3/5', 'vlečnica': '1/2'}   57.14  \n",
       "2016-02-23 15:00:00  {'sedeznica': '2/4', 'vlečnica': '2/4', 'gondo...   55.56  \n",
       "2016-02-23 15:00:00                                {'vlečnica': '3/4'}   75.00  \n",
       "2016-02-23 15:00:00            {'sedeznica': '2/2', 'vlečnica': '6/6'}  100.00  \n",
       "2016-02-23 15:00:00  {'sedeznica': '3/3', 'vlečnica': '3/3', 'gondo...  100.00  \n",
       "2016-02-23 15:00:00            {'sedeznica': '1/1', 'vlečnica': '1/3'}   50.00  \n",
       "2016-02-23 15:00:00                                {'vlečnica': '2/2'}  100.00  \n",
       "2016-02-23 15:00:00                                                 {}    0.00  \n",
       "2016-02-23 15:00:00                                {'vlečnica': '1/3'}   33.33  \n",
       "2016-02-23 15:00:00            {'sedeznica': '1/1', 'vlečnica': '1/2'}   66.67  \n",
       "2016-02-23 15:00:00                                {'vlečnica': '4/4'}  100.00  \n",
       "2016-02-23 15:00:00                                                 {}    0.00  \n",
       "2016-02-23 15:00:00                                                 {}    0.00  \n",
       "\n",
       "[5791 rows x 9 columns]"
      ]
     },
     "execution_count": 152,
     "metadata": {},
     "output_type": "execute_result"
    }
   ],
   "source": [
    "Skupna"
   ]
  },
  {
   "cell_type": "markdown",
   "metadata": {},
   "source": [
    "## 2.1. Povprečne vrednosti"
   ]
  },
  {
   "cell_type": "markdown",
   "metadata": {},
   "source": [
    "Povprečne vrednosti temperature, količine snega, obratovalnega časa (odprto), procenta odprtih prog (proge)"
   ]
  },
  {
   "cell_type": "code",
   "execution_count": 153,
   "metadata": {
    "collapsed": false
   },
   "outputs": [
    {
     "data": {
      "text/html": [
       "<div>\n",
       "<table border=\"1\" class=\"dataframe\">\n",
       "  <thead>\n",
       "    <tr style=\"text-align: right;\">\n",
       "      <th></th>\n",
       "      <th>temperatura</th>\n",
       "      <th>sneg</th>\n",
       "      <th>odprto</th>\n",
       "      <th>proge</th>\n",
       "    </tr>\n",
       "    <tr>\n",
       "      <th>smucisce</th>\n",
       "      <th></th>\n",
       "      <th></th>\n",
       "      <th></th>\n",
       "      <th></th>\n",
       "    </tr>\n",
       "  </thead>\n",
       "  <tbody>\n",
       "    <tr>\n",
       "      <th>Bukovnik</th>\n",
       "      <td>0.077253</td>\n",
       "      <td>31.952790</td>\n",
       "      <td>6.021459</td>\n",
       "      <td>84.549356</td>\n",
       "    </tr>\n",
       "    <tr>\n",
       "      <th>Celjskakoča</th>\n",
       "      <td>2.274194</td>\n",
       "      <td>27.677419</td>\n",
       "      <td>6.912903</td>\n",
       "      <td>47.528806</td>\n",
       "    </tr>\n",
       "    <tr>\n",
       "      <th>GTCKope</th>\n",
       "      <td>0.370031</td>\n",
       "      <td>50.259939</td>\n",
       "      <td>9.180428</td>\n",
       "      <td>82.632691</td>\n",
       "    </tr>\n",
       "    <tr>\n",
       "      <th>Javornik</th>\n",
       "      <td>-0.478022</td>\n",
       "      <td>18.763736</td>\n",
       "      <td>5.631868</td>\n",
       "      <td>34.615385</td>\n",
       "    </tr>\n",
       "    <tr>\n",
       "      <th>MacesnovcRateče</th>\n",
       "      <td>0.234568</td>\n",
       "      <td>27.654321</td>\n",
       "      <td>7.703704</td>\n",
       "      <td>74.488148</td>\n",
       "    </tr>\n",
       "    <tr>\n",
       "      <th>MariborskoPohorje</th>\n",
       "      <td>1.197531</td>\n",
       "      <td>47.515432</td>\n",
       "      <td>9.370370</td>\n",
       "      <td>62.038025</td>\n",
       "    </tr>\n",
       "    <tr>\n",
       "      <th>Poseka</th>\n",
       "      <td>0.804054</td>\n",
       "      <td>29.513514</td>\n",
       "      <td>1.864865</td>\n",
       "      <td>22.297297</td>\n",
       "    </tr>\n",
       "    <tr>\n",
       "      <th>RTCGolte</th>\n",
       "      <td>0.070988</td>\n",
       "      <td>67.373457</td>\n",
       "      <td>7.000000</td>\n",
       "      <td>89.195833</td>\n",
       "    </tr>\n",
       "    <tr>\n",
       "      <th>RTCKranjskaGora</th>\n",
       "      <td>1.159875</td>\n",
       "      <td>47.664577</td>\n",
       "      <td>9.764890</td>\n",
       "      <td>69.056113</td>\n",
       "    </tr>\n",
       "    <tr>\n",
       "      <th>RTCKrvavec</th>\n",
       "      <td>-1.052147</td>\n",
       "      <td>79.386503</td>\n",
       "      <td>8.000000</td>\n",
       "      <td>82.729202</td>\n",
       "    </tr>\n",
       "    <tr>\n",
       "      <th>RibnicanaPohorju</th>\n",
       "      <td>-0.306667</td>\n",
       "      <td>26.416667</td>\n",
       "      <td>9.590000</td>\n",
       "      <td>95.000000</td>\n",
       "    </tr>\n",
       "    <tr>\n",
       "      <th>Ribniškakoča</th>\n",
       "      <td>-2.904762</td>\n",
       "      <td>52.857143</td>\n",
       "      <td>0.971429</td>\n",
       "      <td>16.190476</td>\n",
       "    </tr>\n",
       "    <tr>\n",
       "      <th>RibniškoPohorje</th>\n",
       "      <td>-6.000000</td>\n",
       "      <td>45.000000</td>\n",
       "      <td>10.000000</td>\n",
       "      <td>100.000000</td>\n",
       "    </tr>\n",
       "    <tr>\n",
       "      <th>Rogla</th>\n",
       "      <td>-0.175926</td>\n",
       "      <td>57.731481</td>\n",
       "      <td>10.518519</td>\n",
       "      <td>91.618549</td>\n",
       "    </tr>\n",
       "    <tr>\n",
       "      <th>SCCerkno</th>\n",
       "      <td>0.245399</td>\n",
       "      <td>69.463190</td>\n",
       "      <td>6.656442</td>\n",
       "      <td>73.703834</td>\n",
       "    </tr>\n",
       "    <tr>\n",
       "      <th>SKIBorČrnivrh</th>\n",
       "      <td>1.221106</td>\n",
       "      <td>23.542714</td>\n",
       "      <td>4.819095</td>\n",
       "      <td>41.708543</td>\n",
       "    </tr>\n",
       "    <tr>\n",
       "      <th>STCStarivrh</th>\n",
       "      <td>1.938650</td>\n",
       "      <td>41.717791</td>\n",
       "      <td>8.509202</td>\n",
       "      <td>57.438282</td>\n",
       "    </tr>\n",
       "    <tr>\n",
       "      <th>Soriškaplanina</th>\n",
       "      <td>-0.521886</td>\n",
       "      <td>62.356902</td>\n",
       "      <td>6.417508</td>\n",
       "      <td>83.771044</td>\n",
       "    </tr>\n",
       "    <tr>\n",
       "      <th>StražaBled</th>\n",
       "      <td>2.419753</td>\n",
       "      <td>21.358025</td>\n",
       "      <td>2.271605</td>\n",
       "      <td>10.699630</td>\n",
       "    </tr>\n",
       "    <tr>\n",
       "      <th>TrijeKralji</th>\n",
       "      <td>0.737452</td>\n",
       "      <td>48.532819</td>\n",
       "      <td>7.000000</td>\n",
       "      <td>100.000000</td>\n",
       "    </tr>\n",
       "    <tr>\n",
       "      <th>ŠCRudno</th>\n",
       "      <td>1.042071</td>\n",
       "      <td>49.142395</td>\n",
       "      <td>7.656958</td>\n",
       "      <td>84.789644</td>\n",
       "    </tr>\n",
       "    <tr>\n",
       "      <th>Šentjošt</th>\n",
       "      <td>2.206422</td>\n",
       "      <td>14.302752</td>\n",
       "      <td>4.243119</td>\n",
       "      <td>51.146789</td>\n",
       "    </tr>\n",
       "    <tr>\n",
       "      <th>ŽičniceVogel</th>\n",
       "      <td>0.015432</td>\n",
       "      <td>109.453704</td>\n",
       "      <td>7.333333</td>\n",
       "      <td>83.546636</td>\n",
       "    </tr>\n",
       "  </tbody>\n",
       "</table>\n",
       "</div>"
      ],
      "text/plain": [
       "                   temperatura        sneg     odprto       proge\n",
       "smucisce                                                         \n",
       "Bukovnik              0.077253   31.952790   6.021459   84.549356\n",
       "Celjskakoča           2.274194   27.677419   6.912903   47.528806\n",
       "GTCKope               0.370031   50.259939   9.180428   82.632691\n",
       "Javornik             -0.478022   18.763736   5.631868   34.615385\n",
       "MacesnovcRateče       0.234568   27.654321   7.703704   74.488148\n",
       "MariborskoPohorje     1.197531   47.515432   9.370370   62.038025\n",
       "Poseka                0.804054   29.513514   1.864865   22.297297\n",
       "RTCGolte              0.070988   67.373457   7.000000   89.195833\n",
       "RTCKranjskaGora       1.159875   47.664577   9.764890   69.056113\n",
       "RTCKrvavec           -1.052147   79.386503   8.000000   82.729202\n",
       "RibnicanaPohorju     -0.306667   26.416667   9.590000   95.000000\n",
       "Ribniškakoča         -2.904762   52.857143   0.971429   16.190476\n",
       "RibniškoPohorje      -6.000000   45.000000  10.000000  100.000000\n",
       "Rogla                -0.175926   57.731481  10.518519   91.618549\n",
       "SCCerkno              0.245399   69.463190   6.656442   73.703834\n",
       "SKIBorČrnivrh         1.221106   23.542714   4.819095   41.708543\n",
       "STCStarivrh           1.938650   41.717791   8.509202   57.438282\n",
       "Soriškaplanina       -0.521886   62.356902   6.417508   83.771044\n",
       "StražaBled            2.419753   21.358025   2.271605   10.699630\n",
       "TrijeKralji           0.737452   48.532819   7.000000  100.000000\n",
       "ŠCRudno               1.042071   49.142395   7.656958   84.789644\n",
       "Šentjošt              2.206422   14.302752   4.243119   51.146789\n",
       "ŽičniceVogel          0.015432  109.453704   7.333333   83.546636"
      ]
     },
     "execution_count": 153,
     "metadata": {},
     "output_type": "execute_result"
    }
   ],
   "source": [
    "Skupna.groupby('smucisce').mean()"
   ]
  },
  {
   "cell_type": "code",
   "execution_count": 154,
   "metadata": {
    "collapsed": false
   },
   "outputs": [
    {
     "data": {
      "text/plain": [
       "<matplotlib.axes._subplots.AxesSubplot at 0x10d887320>"
      ]
     },
     "execution_count": 154,
     "metadata": {},
     "output_type": "execute_result"
    },
    {
     "data": {
      "image/png": "[encoded data removed]",
      "text/plain": [
       "<matplotlib.figure.Figure at 0x10d8c8198>"
      ]
     },
     "metadata": {},
     "output_type": "display_data"
    }
   ],
   "source": [
    "Skupna.groupby('smucisce').mean().plot()"
   ]
  },
  {
   "cell_type": "code",
   "execution_count": 261,
   "metadata": {
    "collapsed": false
   },
   "outputs": [],
   "source": [
    "Primerjava=pd.merge(MariborskoPohorje,Rogla, on='datum')"
   ]
  },
  {
   "cell_type": "code",
   "execution_count": 274,
   "metadata": {
    "collapsed": false
   },
   "outputs": [
    {
     "data": {
      "text/plain": [
       "<pandas.core.indexing._iLocIndexer at 0x112290748>"
      ]
     },
     "execution_count": 274,
     "metadata": {},
     "output_type": "execute_result"
    }
   ],
   "source": [
    "Primerjava"
   ]
  },
  {
   "cell_type": "markdown",
   "metadata": {},
   "source": [
    "## 2.2. Minimalne in Maksimalne vrednosti\n",
    "### Koliko in kje\n",
    "### 2.2.1. Temperatura"
   ]
  },
  {
   "cell_type": "markdown",
   "metadata": {},
   "source": [
    "Kje je bila dosežena najnižje temperatura v tem obdobju? Koliko je bilo pri tej temperaturi sneg in kakšno je bilo vreme?  "
   ]
  },
  {
   "cell_type": "code",
   "execution_count": 194,
   "metadata": {
    "collapsed": false
   },
   "outputs": [
    {
     "data": {
      "text/plain": [
       "-10"
      ]
     },
     "execution_count": 194,
     "metadata": {},
     "output_type": "execute_result"
    }
   ],
   "source": [
    "Skupna['temperatura'].min()"
   ]
  },
  {
   "cell_type": "code",
   "execution_count": 195,
   "metadata": {
    "collapsed": false
   },
   "outputs": [
    {
     "data": {
      "text/plain": [
       "14"
      ]
     },
     "execution_count": 195,
     "metadata": {},
     "output_type": "execute_result"
    }
   ],
   "source": [
    "Skupna['temperatura'].max()"
   ]
  },
  {
   "cell_type": "markdown",
   "metadata": {},
   "source": [
    "### 2.2.2. Količina snega"
   ]
  },
  {
   "cell_type": "code",
   "execution_count": 193,
   "metadata": {
    "collapsed": false
   },
   "outputs": [
    {
     "data": {
      "text/plain": [
       "sneg                     0\n",
       "temperatura            -10\n",
       "smucisce          Bukovnik\n",
       "vreme          delno jasno\n",
       "dtype: object"
      ]
     },
     "execution_count": 193,
     "metadata": {},
     "output_type": "execute_result"
    }
   ],
   "source": [
    "Skupna[['sneg','temperatura','smucisce','vreme']].min()"
   ]
  },
  {
   "cell_type": "code",
   "execution_count": 191,
   "metadata": {
    "collapsed": false
   },
   "outputs": [
    {
     "data": {
      "text/plain": [
       "sneg                                            235\n",
       "temperatura                                      14\n",
       "smucisce                               ŽičniceVogel\n",
       "vreme          visoka oblačnost, zg. sneg - sp. dež\n",
       "dtype: object"
      ]
     },
     "execution_count": 191,
     "metadata": {},
     "output_type": "execute_result"
    }
   ],
   "source": [
    "Skupna[['sneg','temperatura','smucisce','vreme']].max()"
   ]
  },
  {
   "cell_type": "markdown",
   "metadata": {},
   "source": [
    "# 3. Ostale analize"
   ]
  },
  {
   "cell_type": "code",
   "execution_count": null,
   "metadata": {
    "collapsed": true
   },
   "outputs": [],
   "source": []
  }
 ],
 "metadata": {
  "kernelspec": {
   "display_name": "Python 3",
   "language": "python",
   "name": "python3"
  },
  "language_info": {
   "codemirror_mode": {
    "name": "ipython",
    "version": 3
   },
   "file_extension": ".py",
   "mimetype": "text/x-python",
   "name": "python",
   "nbconvert_exporter": "python",
   "pygments_lexer": "ipython3",
   "version": "3.5.1"
  }
 },
 "nbformat": 4,
 "nbformat_minor": 0
}
