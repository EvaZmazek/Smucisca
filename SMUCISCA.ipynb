{
 "cells": [
  {
   "cell_type": "markdown",
   "metadata": {},
   "source": [
    "# Smucisca"
   ]
  },
  {
   "cell_type": "markdown",
   "metadata": {},
   "source": [
    "## Projekt pri predmetu Programiranje 1"
   ]
  },
  {
   "cell_type": "markdown",
   "metadata": {},
   "source": [
    "#### Zajeti podatki:"
   ]
  },
  {
   "cell_type": "markdown",
   "metadata": {},
   "source": [
    "❄︎ datum in ura   \n",
    "❄︎ ime smučišča  \n",
    "❄︎ vreme  \n",
    "❄︎ temperatura  \n",
    "❄︎ količina snega (v cm)  \n",
    "❄︎ odpiralni čas smučišča in zapiralni čas smučišča (v stolpcu obratovanje v obliki parov (odpiralni čas, zapiralni čas)   ter  v stolpcu odprto, ki pove koliko ur je bilo odprto smucisce)  \n",
    "❄︎ delovanje gondol/sedežnic/vlečnic/parkov (v stolpcu sedeznice v obliki seznama in v stolpcu proge, ki pove koliko procentov vseh prog je bilo odprtih)\n",
    "\n",
    "Podatki so bili zajeti na strani [snezni telefon](http://snezni-telefon.si) ."
   ]
  },
  {
   "cell_type": "markdown",
   "metadata": {},
   "source": [
    "#### Predvidena analiza:"
   ]
  },
  {
   "cell_type": "markdown",
   "metadata": {},
   "source": [
    "❄︎ kakšne so povezave temperature, količine snega, obratovalnim časom ter odprtostjo prog na posameznih smučiščih?  \n",
    "❄︎ v katerem obdobju je bilo na Slovenskih smučiščih največ snega?  \n",
    "❄︎ koliko je količina snega odvisna od temperature in vremena?  \n",
    "❄︎ koliko je od količine snega/ temperature/ vremena odvisen obratovalni čas smučišča?  \n",
    "❄︎ katero smučišče ima največji povprečen obratovalni čas? Katero smučišče "
   ]
  },
  {
   "cell_type": "markdown",
   "metadata": {},
   "source": [
    "### Analiza podatkov slovenskih smučišč je razdeljena na tri večje skope:"
   ]
  },
  {
   "cell_type": "markdown",
   "metadata": {},
   "source": [
    "❄︎ analiza podatov po posameznih smučiščih  \n",
    "❄︎ primerjava med smučišči  \n",
    "❄︎ ostale primerjave (odvisnost količine snega od temperature, vremena, koliko sta temperatura in vreme povezana)"
   ]
  },
  {
   "cell_type": "code",
   "execution_count": 201,
   "metadata": {
    "collapsed": true
   },
   "outputs": [],
   "source": [
    "%matplotlib inline\n",
    "\n",
    "import matplotlib\n",
    "import pandas as pd\n",
    "import matplotlib.pyplot as plt\n",
    "\n",
    "matplotlib.style.use('ggplot') #naredi lepše grafe\n",
    "plt.rcParams['figure.figsize'] = (15, 5)"
   ]
  },
  {
   "cell_type": "markdown",
   "metadata": {},
   "source": [
    "Pripravi skupno datoteko:"
   ]
  },
  {
   "cell_type": "code",
   "execution_count": 345,
   "metadata": {
    "collapsed": false
   },
   "outputs": [],
   "source": [
    "Skupna=pd.read_csv('projekt-programiranje1/csv_datoteke/skupna.csv', parse_dates=['cas'],index_col='cas')"
   ]
  },
  {
   "cell_type": "markdown",
   "metadata": {},
   "source": [
    "Pripravi datoteke po posameznih smuciscih:"
   ]
  },
  {
   "cell_type": "code",
   "execution_count": 346,
   "metadata": {
    "collapsed": false
   },
   "outputs": [],
   "source": [
    "Bukovnik = pd.read_csv('projekt-programiranje1/csv_datoteke/posamezna_smucisca/Bukovnik.csv',parse_dates=['cas'],index_col='cas')\n",
    "CeljskaKoča = pd.read_csv('projekt-programiranje1/csv_datoteke/posamezna_smucisca/CeljskaKoča.csv',parse_dates=['cas'],index_col='cas')\n",
    "GTCKope = pd.read_csv('projekt-programiranje1/csv_datoteke/posamezna_smucisca/GTCKope.csv',parse_dates=['cas'],index_col='cas')\n",
    "Javornik = pd.read_csv('projekt-programiranje1/csv_datoteke/posamezna_smucisca/Javornik.csv',parse_dates=['cas'],index_col='cas')\n",
    "MacesnovcRateče = pd.read_csv('projekt-programiranje1/csv_datoteke/posamezna_smucisca/MacesnovcRateče.csv',parse_dates=['cas'],index_col='cas')\n",
    "MariborskoPohorje = pd.read_csv('projekt-programiranje1/csv_datoteke/posamezna_smucisca/MariborskoPohorje.csv',parse_dates=['cas'],index_col='cas')\n",
    "Poseka = pd.read_csv('projekt-programiranje1/csv_datoteke/posamezna_smucisca/Poseka.csv',parse_dates=['cas'],index_col='cas')\n",
    "RibnicanaPohorju = pd.read_csv('projekt-programiranje1/csv_datoteke/posamezna_smucisca/RibnicanaPohorju.csv',parse_dates=['cas'],index_col='cas')\n",
    "Ribniškakoča = pd.read_csv('projekt-programiranje1/csv_datoteke/posamezna_smucisca/Ribniškakoča.csv',parse_dates=['cas'],index_col='cas')\n",
    "Rogla = pd.read_csv('projekt-programiranje1/csv_datoteke/posamezna_smucisca/Rogla.csv',parse_dates=['cas'],index_col='cas')\n",
    "RTCGolte = pd.read_csv('projekt-programiranje1/csv_datoteke/posamezna_smucisca/RTCGolte.csv',parse_dates=['cas'],index_col='cas')\n",
    "RTCKranjskaGora = pd.read_csv('projekt-programiranje1/csv_datoteke/posamezna_smucisca/RTCKranjskaGora.csv',parse_dates=['cas'],index_col='cas')\n",
    "RTCKrvavec = pd.read_csv('projekt-programiranje1/csv_datoteke/posamezna_smucisca/RTCKrvavec.csv',parse_dates=['cas'],index_col='cas')\n",
    "SCCerkno = pd.read_csv('projekt-programiranje1/csv_datoteke/posamezna_smucisca/SCCerkno.csv',parse_dates=['cas'],index_col='cas')\n",
    "ŠCRudno = pd.read_csv('projekt-programiranje1/csv_datoteke/posamezna_smucisca/ŠCRudno.csv',parse_dates=['cas'],index_col='cas')\n",
    "Šentjošt = pd.read_csv('projekt-programiranje1/csv_datoteke/posamezna_smucisca/Šentjošt.csv',parse_dates=['cas'],index_col='cas')\n",
    "SKIBorČrnivrh = pd.read_csv('projekt-programiranje1/csv_datoteke/posamezna_smucisca/SKIBorČrnivrh.csv',parse_dates=['cas'],index_col='cas')\n",
    "Soriškaplanina = pd.read_csv('projekt-programiranje1/csv_datoteke/posamezna_smucisca/Soriškaplanina.csv',parse_dates=['cas'],index_col='cas')\n",
    "STCStarivrh = pd.read_csv('projekt-programiranje1/csv_datoteke/posamezna_smucisca/STCStarivrh.csv',parse_dates=['cas'],index_col='cas')\n",
    "StražaBled = pd.read_csv('projekt-programiranje1/csv_datoteke/posamezna_smucisca/StražaBled.csv',parse_dates=['cas'],index_col='cas')\n",
    "TrijeKralji = pd.read_csv('projekt-programiranje1/csv_datoteke/posamezna_smucisca/TrijeKralji.csv',parse_dates=['cas'],index_col='cas')\n",
    "ŽičniceVogel = pd.read_csv('projekt-programiranje1/csv_datoteke/posamezna_smucisca/ŽičniceVogel.csv',parse_dates=['cas'],index_col='cas')"
   ]
  },
  {
   "cell_type": "markdown",
   "metadata": {},
   "source": [
    "# 1. Analiza po posameznih smučiščih"
   ]
  },
  {
   "cell_type": "markdown",
   "metadata": {},
   "source": [
    "Na začetku bomo navedli dva primera slovenskih smučišč (enega bolj 'zanimivega' in enega malo manj).\n",
    "Poskušali bomo najti kakšno povezavo med temperaturo, količino snega, obratovalnim časom in številom odprtih prog."
   ]
  },
  {
   "cell_type": "markdown",
   "metadata": {},
   "source": [
    "## 1.1. Bukovnik"
   ]
  },
  {
   "cell_type": "markdown",
   "metadata": {},
   "source": [
    "V csv datoteki Bukovnik so shranjeni podatki o tem smučišču v obliki take tabele:"
   ]
  },
  {
   "cell_type": "code",
   "execution_count": 347,
   "metadata": {
    "collapsed": false,
    "scrolled": true
   },
   "outputs": [
    {
     "data": {
      "text/html": [
       "<div>\n",
       "<table border=\"1\" class=\"dataframe\">\n",
       "  <thead>\n",
       "    <tr style=\"text-align: right;\">\n",
       "      <th></th>\n",
       "      <th>smucisce</th>\n",
       "      <th>datum</th>\n",
       "      <th>vreme</th>\n",
       "      <th>temperatura</th>\n",
       "      <th>sneg</th>\n",
       "      <th>obratovanje</th>\n",
       "      <th>odprto</th>\n",
       "      <th>sedeznice</th>\n",
       "      <th>proge</th>\n",
       "    </tr>\n",
       "    <tr>\n",
       "      <th>cas</th>\n",
       "      <th></th>\n",
       "      <th></th>\n",
       "      <th></th>\n",
       "      <th></th>\n",
       "      <th></th>\n",
       "      <th></th>\n",
       "      <th></th>\n",
       "      <th></th>\n",
       "      <th></th>\n",
       "    </tr>\n",
       "  </thead>\n",
       "  <tbody>\n",
       "    <tr>\n",
       "      <th>2016-02-06 16:14:00</th>\n",
       "      <td>Bukovnik</td>\n",
       "      <td>2016-02-06</td>\n",
       "      <td>sončno</td>\n",
       "      <td>-3</td>\n",
       "      <td>40</td>\n",
       "      <td>{('17.00', '21.00'), ('9.00', '13.00')}</td>\n",
       "      <td>8</td>\n",
       "      <td>{'vlečnica': '1/1'}</td>\n",
       "      <td>100</td>\n",
       "    </tr>\n",
       "    <tr>\n",
       "      <th>2016-02-07 16:05:00</th>\n",
       "      <td>Bukovnik</td>\n",
       "      <td>2016-02-07</td>\n",
       "      <td>pretežno oblačno</td>\n",
       "      <td>0</td>\n",
       "      <td>40</td>\n",
       "      <td>{('17.00', '21.00'), ('9.00', '13.00')}</td>\n",
       "      <td>8</td>\n",
       "      <td>{'vlečnica': '1/1'}</td>\n",
       "      <td>100</td>\n",
       "    </tr>\n",
       "    <tr>\n",
       "      <th>2016-02-07 18:14:00</th>\n",
       "      <td>Bukovnik</td>\n",
       "      <td>2016-02-07</td>\n",
       "      <td>pretežno oblačno</td>\n",
       "      <td>0</td>\n",
       "      <td>40</td>\n",
       "      <td>{('17.00', '21.00'), ('9.00', '13.00')}</td>\n",
       "      <td>8</td>\n",
       "      <td>{'vlečnica': '1/1'}</td>\n",
       "      <td>100</td>\n",
       "    </tr>\n",
       "    <tr>\n",
       "      <th>2016-02-07 18:15:00</th>\n",
       "      <td>Bukovnik</td>\n",
       "      <td>2016-02-07</td>\n",
       "      <td>pretežno oblačno</td>\n",
       "      <td>0</td>\n",
       "      <td>40</td>\n",
       "      <td>{('17.00', '21.00'), ('9.00', '13.00')}</td>\n",
       "      <td>8</td>\n",
       "      <td>{'vlečnica': '1/1'}</td>\n",
       "      <td>100</td>\n",
       "    </tr>\n",
       "    <tr>\n",
       "      <th>2016-02-07 19:00:00</th>\n",
       "      <td>Bukovnik</td>\n",
       "      <td>2016-02-07</td>\n",
       "      <td>pretežno oblačno</td>\n",
       "      <td>0</td>\n",
       "      <td>40</td>\n",
       "      <td>{('17.00', '21.00'), ('9.00', '13.00')}</td>\n",
       "      <td>8</td>\n",
       "      <td>{'vlečnica': '1/1'}</td>\n",
       "      <td>100</td>\n",
       "    </tr>\n",
       "  </tbody>\n",
       "</table>\n",
       "</div>"
      ],
      "text/plain": [
       "                     smucisce       datum             vreme  temperatura  \\\n",
       "cas                                                                        \n",
       "2016-02-06 16:14:00  Bukovnik  2016-02-06            sončno           -3   \n",
       "2016-02-07 16:05:00  Bukovnik  2016-02-07  pretežno oblačno            0   \n",
       "2016-02-07 18:14:00  Bukovnik  2016-02-07  pretežno oblačno            0   \n",
       "2016-02-07 18:15:00  Bukovnik  2016-02-07  pretežno oblačno            0   \n",
       "2016-02-07 19:00:00  Bukovnik  2016-02-07  pretežno oblačno            0   \n",
       "\n",
       "                     sneg                              obratovanje  odprto  \\\n",
       "cas                                                                          \n",
       "2016-02-06 16:14:00    40  {('17.00', '21.00'), ('9.00', '13.00')}       8   \n",
       "2016-02-07 16:05:00    40  {('17.00', '21.00'), ('9.00', '13.00')}       8   \n",
       "2016-02-07 18:14:00    40  {('17.00', '21.00'), ('9.00', '13.00')}       8   \n",
       "2016-02-07 18:15:00    40  {('17.00', '21.00'), ('9.00', '13.00')}       8   \n",
       "2016-02-07 19:00:00    40  {('17.00', '21.00'), ('9.00', '13.00')}       8   \n",
       "\n",
       "                               sedeznice  proge  \n",
       "cas                                              \n",
       "2016-02-06 16:14:00  {'vlečnica': '1/1'}    100  \n",
       "2016-02-07 16:05:00  {'vlečnica': '1/1'}    100  \n",
       "2016-02-07 18:14:00  {'vlečnica': '1/1'}    100  \n",
       "2016-02-07 18:15:00  {'vlečnica': '1/1'}    100  \n",
       "2016-02-07 19:00:00  {'vlečnica': '1/1'}    100  "
      ]
     },
     "execution_count": 347,
     "metadata": {},
     "output_type": "execute_result"
    }
   ],
   "source": [
    "Bukovnik.head()"
   ]
  },
  {
   "cell_type": "markdown",
   "metadata": {},
   "source": [
    "Primer ene ure:"
   ]
  },
  {
   "cell_type": "code",
   "execution_count": 348,
   "metadata": {
    "collapsed": false
   },
   "outputs": [
    {
     "data": {
      "text/plain": [
       "smucisce                                      Bukovnik\n",
       "datum                                       2016-02-06\n",
       "vreme                                           sončno\n",
       "temperatura                                         -3\n",
       "sneg                                                40\n",
       "obratovanje    {('17.00', '21.00'), ('9.00', '13.00')}\n",
       "odprto                                               8\n",
       "sedeznice                          {'vlečnica': '1/1'}\n",
       "proge                                              100\n",
       "Name: 2016-02-06 16:14:00, dtype: object"
      ]
     },
     "execution_count": 348,
     "metadata": {},
     "output_type": "execute_result"
    }
   ],
   "source": [
    "Bukovnik.iloc[0]"
   ]
  },
  {
   "cell_type": "markdown",
   "metadata": {},
   "source": [
    "### 1.1.1. povprečne vrednosti po dnevih"
   ]
  },
  {
   "cell_type": "code",
   "execution_count": 349,
   "metadata": {
    "collapsed": false,
    "scrolled": true
   },
   "outputs": [
    {
     "data": {
      "text/html": [
       "<div>\n",
       "<table border=\"1\" class=\"dataframe\">\n",
       "  <thead>\n",
       "    <tr style=\"text-align: right;\">\n",
       "      <th></th>\n",
       "      <th>temperatura</th>\n",
       "      <th>sneg</th>\n",
       "      <th>odprto</th>\n",
       "      <th>proge</th>\n",
       "    </tr>\n",
       "    <tr>\n",
       "      <th>datum</th>\n",
       "      <th></th>\n",
       "      <th></th>\n",
       "      <th></th>\n",
       "      <th></th>\n",
       "    </tr>\n",
       "  </thead>\n",
       "  <tbody>\n",
       "    <tr>\n",
       "      <th>2016-02-06</th>\n",
       "      <td>-3</td>\n",
       "      <td>40</td>\n",
       "      <td>8</td>\n",
       "      <td>100</td>\n",
       "    </tr>\n",
       "    <tr>\n",
       "      <th>2016-02-07</th>\n",
       "      <td>0</td>\n",
       "      <td>40</td>\n",
       "      <td>8</td>\n",
       "      <td>100</td>\n",
       "    </tr>\n",
       "    <tr>\n",
       "      <th>2016-02-08</th>\n",
       "      <td>5</td>\n",
       "      <td>30</td>\n",
       "      <td>4</td>\n",
       "      <td>0</td>\n",
       "    </tr>\n",
       "    <tr>\n",
       "      <th>2016-02-11</th>\n",
       "      <td>-2</td>\n",
       "      <td>30</td>\n",
       "      <td>4</td>\n",
       "      <td>100</td>\n",
       "    </tr>\n",
       "    <tr>\n",
       "      <th>2016-02-12</th>\n",
       "      <td>-2</td>\n",
       "      <td>30</td>\n",
       "      <td>4</td>\n",
       "      <td>100</td>\n",
       "    </tr>\n",
       "  </tbody>\n",
       "</table>\n",
       "</div>"
      ],
      "text/plain": [
       "            temperatura  sneg  odprto  proge\n",
       "datum                                       \n",
       "2016-02-06           -3    40       8    100\n",
       "2016-02-07            0    40       8    100\n",
       "2016-02-08            5    30       4      0\n",
       "2016-02-11           -2    30       4    100\n",
       "2016-02-12           -2    30       4    100"
      ]
     },
     "execution_count": 349,
     "metadata": {},
     "output_type": "execute_result"
    }
   ],
   "source": [
    "Bukovnik.groupby('datum').mean().head()"
   ]
  },
  {
   "cell_type": "code",
   "execution_count": 350,
   "metadata": {
    "collapsed": false
   },
   "outputs": [
    {
     "data": {
      "text/plain": [
       "<matplotlib.axes._subplots.AxesSubplot at 0x115176f28>"
      ]
     },
     "execution_count": 350,
     "metadata": {},
     "output_type": "execute_result"
    },
    {
     "data": {
      "image/png": "[encoded data removed]",
      "text/plain": [
       "<matplotlib.figure.Figure at 0x1151a1ba8>"
      ]
     },
     "metadata": {},
     "output_type": "display_data"
    }
   ],
   "source": [
    "Bukovnik.groupby('datum').mean().plot()"
   ]
  },
  {
   "cell_type": "markdown",
   "metadata": {},
   "source": [
    "### 1.1.2. tempretatura"
   ]
  },
  {
   "cell_type": "code",
   "execution_count": 351,
   "metadata": {
    "collapsed": false
   },
   "outputs": [
    {
     "data": {
      "text/plain": [
       "<matplotlib.axes._subplots.AxesSubplot at 0x1153e74a8>"
      ]
     },
     "execution_count": 351,
     "metadata": {},
     "output_type": "execute_result"
    },
    {
     "data": {
      "image/png": "[encoded data removed]",
      "text/plain": [
       "<matplotlib.figure.Figure at 0x1150f7550>"
      ]
     },
     "metadata": {},
     "output_type": "display_data"
    }
   ],
   "source": [
    "Bukovnik['temperatura'].plot()"
   ]
  },
  {
   "cell_type": "markdown",
   "metadata": {},
   "source": [
    "maksimalna temperatura v opazovalnem obdobju:"
   ]
  },
  {
   "cell_type": "code",
   "execution_count": 352,
   "metadata": {
    "collapsed": false
   },
   "outputs": [
    {
     "data": {
      "text/plain": [
       "7"
      ]
     },
     "execution_count": 352,
     "metadata": {},
     "output_type": "execute_result"
    }
   ],
   "source": [
    "Bukovnik['temperatura'].max()"
   ]
  },
  {
   "cell_type": "markdown",
   "metadata": {},
   "source": [
    "minimalna temperatura v opazovalnem obdobju:"
   ]
  },
  {
   "cell_type": "code",
   "execution_count": 353,
   "metadata": {
    "collapsed": false
   },
   "outputs": [
    {
     "data": {
      "text/plain": [
       "-3"
      ]
     },
     "execution_count": 353,
     "metadata": {},
     "output_type": "execute_result"
    }
   ],
   "source": [
    "Bukovnik['temperatura'].min()"
   ]
  },
  {
   "cell_type": "markdown",
   "metadata": {},
   "source": [
    "### 1.1.3. količina snega (v cm)"
   ]
  },
  {
   "cell_type": "markdown",
   "metadata": {},
   "source": [
    "maksimalna količina snega v opazovalnem obdobju:"
   ]
  },
  {
   "cell_type": "code",
   "execution_count": 355,
   "metadata": {
    "collapsed": false
   },
   "outputs": [
    {
     "data": {
      "text/plain": [
       "40"
      ]
     },
     "execution_count": 355,
     "metadata": {},
     "output_type": "execute_result"
    }
   ],
   "source": [
    "Bukovnik['sneg'].max()"
   ]
  },
  {
   "cell_type": "markdown",
   "metadata": {},
   "source": [
    "minimalna količina snega v opazovalnem obdobju:"
   ]
  },
  {
   "cell_type": "code",
   "execution_count": 356,
   "metadata": {
    "collapsed": false
   },
   "outputs": [
    {
     "data": {
      "text/plain": [
       "5"
      ]
     },
     "execution_count": 356,
     "metadata": {},
     "output_type": "execute_result"
    }
   ],
   "source": [
    "Bukovnik['sneg'].min()"
   ]
  },
  {
   "cell_type": "markdown",
   "metadata": {},
   "source": [
    "### 1.1.4. obratovalni čas smučišča v urah "
   ]
  },
  {
   "cell_type": "markdown",
   "metadata": {},
   "source": [
    "maksimalen obratovalni čas v opazovalnem obdobju:"
   ]
  },
  {
   "cell_type": "code",
   "execution_count": 358,
   "metadata": {
    "collapsed": false
   },
   "outputs": [
    {
     "data": {
      "text/plain": [
       "8.0"
      ]
     },
     "execution_count": 358,
     "metadata": {},
     "output_type": "execute_result"
    }
   ],
   "source": [
    "Bukovnik['odprto'].max()"
   ]
  },
  {
   "cell_type": "markdown",
   "metadata": {},
   "source": [
    "minimalen obratovalni čas v opazovalnem obdobju:"
   ]
  },
  {
   "cell_type": "code",
   "execution_count": 359,
   "metadata": {
    "collapsed": false
   },
   "outputs": [
    {
     "data": {
      "text/plain": [
       "0.0"
      ]
     },
     "execution_count": 359,
     "metadata": {},
     "output_type": "execute_result"
    }
   ],
   "source": [
    "Bukovnik['odprto'].min()"
   ]
  },
  {
   "cell_type": "markdown",
   "metadata": {},
   "source": [
    "### 1.1.5.  Primerjava"
   ]
  },
  {
   "cell_type": "code",
   "execution_count": 360,
   "metadata": {
    "collapsed": true
   },
   "outputs": [
    {
     "data": {
      "text/html": [
       "<div>\n",
       "<table border=\"1\" class=\"dataframe\">\n",
       "  <thead>\n",
       "    <tr style=\"text-align: right;\">\n",
       "      <th></th>\n",
       "      <th>temperatura</th>\n",
       "      <th>sneg</th>\n",
       "      <th>odprto</th>\n",
       "      <th>proge</th>\n",
       "    </tr>\n",
       "    <tr>\n",
       "      <th>cas</th>\n",
       "      <th></th>\n",
       "      <th></th>\n",
       "      <th></th>\n",
       "      <th></th>\n",
       "    </tr>\n",
       "  </thead>\n",
       "  <tbody>\n",
       "    <tr>\n",
       "      <th>2016-02-06 16:14:00</th>\n",
       "      <td>-3</td>\n",
       "      <td>40</td>\n",
       "      <td>8</td>\n",
       "      <td>100</td>\n",
       "    </tr>\n",
       "    <tr>\n",
       "      <th>2016-02-07 16:05:00</th>\n",
       "      <td>0</td>\n",
       "      <td>40</td>\n",
       "      <td>8</td>\n",
       "      <td>100</td>\n",
       "    </tr>\n",
       "    <tr>\n",
       "      <th>2016-02-07 18:14:00</th>\n",
       "      <td>0</td>\n",
       "      <td>40</td>\n",
       "      <td>8</td>\n",
       "      <td>100</td>\n",
       "    </tr>\n",
       "    <tr>\n",
       "      <th>2016-02-07 18:15:00</th>\n",
       "      <td>0</td>\n",
       "      <td>40</td>\n",
       "      <td>8</td>\n",
       "      <td>100</td>\n",
       "    </tr>\n",
       "    <tr>\n",
       "      <th>2016-02-07 19:00:00</th>\n",
       "      <td>0</td>\n",
       "      <td>40</td>\n",
       "      <td>8</td>\n",
       "      <td>100</td>\n",
       "    </tr>\n",
       "    <tr>\n",
       "      <th>2016-02-07 20:00:00</th>\n",
       "      <td>0</td>\n",
       "      <td>40</td>\n",
       "      <td>8</td>\n",
       "      <td>100</td>\n",
       "    </tr>\n",
       "    <tr>\n",
       "      <th>2016-02-07 21:00:00</th>\n",
       "      <td>0</td>\n",
       "      <td>40</td>\n",
       "      <td>8</td>\n",
       "      <td>100</td>\n",
       "    </tr>\n",
       "    <tr>\n",
       "      <th>2016-02-07 22:00:00</th>\n",
       "      <td>0</td>\n",
       "      <td>40</td>\n",
       "      <td>8</td>\n",
       "      <td>100</td>\n",
       "    </tr>\n",
       "    <tr>\n",
       "      <th>2016-02-07 23:00:00</th>\n",
       "      <td>0</td>\n",
       "      <td>40</td>\n",
       "      <td>8</td>\n",
       "      <td>100</td>\n",
       "    </tr>\n",
       "    <tr>\n",
       "      <th>2016-02-08 08:00:00</th>\n",
       "      <td>5</td>\n",
       "      <td>30</td>\n",
       "      <td>4</td>\n",
       "      <td>0</td>\n",
       "    </tr>\n",
       "  </tbody>\n",
       "</table>\n",
       "</div>"
      ],
      "text/plain": [
       "                     temperatura  sneg  odprto  proge\n",
       "cas                                                  \n",
       "2016-02-06 16:14:00           -3    40       8    100\n",
       "2016-02-07 16:05:00            0    40       8    100\n",
       "2016-02-07 18:14:00            0    40       8    100\n",
       "2016-02-07 18:15:00            0    40       8    100\n",
       "2016-02-07 19:00:00            0    40       8    100\n",
       "2016-02-07 20:00:00            0    40       8    100\n",
       "2016-02-07 21:00:00            0    40       8    100\n",
       "2016-02-07 22:00:00            0    40       8    100\n",
       "2016-02-07 23:00:00            0    40       8    100\n",
       "2016-02-08 08:00:00            5    30       4      0"
      ]
     },
     "execution_count": 360,
     "metadata": {},
     "output_type": "execute_result"
    }
   ],
   "source": [
    "Bukovnik[['temperatura', 'sneg', 'odprto', 'proge']].head(10)"
   ]
  },
  {
   "cell_type": "code",
   "execution_count": 361,
   "metadata": {
    "collapsed": false
   },
   "outputs": [
    {
     "data": {
      "text/plain": [
       "<matplotlib.axes._subplots.AxesSubplot at 0x10a464e80>"
      ]
     },
     "execution_count": 361,
     "metadata": {},
     "output_type": "execute_result"
    },
    {
     "data": {
      "image/png": "[encoded data removed]",
      "text/plain": [
       "<matplotlib.figure.Figure at 0x115510b38>"
      ]
     },
     "metadata": {},
     "output_type": "display_data"
    }
   ],
   "source": [
    "Bukovnik[['temperatura', 'sneg', 'odprto', 'proge']].plot()"
   ]
  },
  {
   "cell_type": "markdown",
   "metadata": {},
   "source": [
    "Iz tega primera je težko sklepati na kakršnokoli povezavo med temperaturo, količino snega, obratovalnim časom ter odprtostjo prog. Poskusimo še z Mariborskim Pohorjem."
   ]
  },
  {
   "cell_type": "markdown",
   "metadata": {},
   "source": [
    "## 1.2. Mariborsko Pohorje "
   ]
  },
  {
   "cell_type": "markdown",
   "metadata": {},
   "source": [
    "Že iz tabele je razvidno, da so se razmere na Mariborskem Pohurju bolj spreminjale kot na smučišču Bukovnik (različna dolžina dolžina obratovalnega časa, različno število odprtih prog), zato je to Smučišče bolj zanimivo za analizo."
   ]
  },
  {
   "cell_type": "code",
   "execution_count": 362,
   "metadata": {
    "collapsed": false,
    "scrolled": true
   },
   "outputs": [
    {
     "data": {
      "text/html": [
       "<div>\n",
       "<table border=\"1\" class=\"dataframe\">\n",
       "  <thead>\n",
       "    <tr style=\"text-align: right;\">\n",
       "      <th></th>\n",
       "      <th>smucisce</th>\n",
       "      <th>datum</th>\n",
       "      <th>vreme</th>\n",
       "      <th>temperatura</th>\n",
       "      <th>sneg</th>\n",
       "      <th>obratovanje</th>\n",
       "      <th>odprto</th>\n",
       "      <th>sedeznice</th>\n",
       "      <th>proge</th>\n",
       "    </tr>\n",
       "    <tr>\n",
       "      <th>cas</th>\n",
       "      <th></th>\n",
       "      <th></th>\n",
       "      <th></th>\n",
       "      <th></th>\n",
       "      <th></th>\n",
       "      <th></th>\n",
       "      <th></th>\n",
       "      <th></th>\n",
       "      <th></th>\n",
       "    </tr>\n",
       "  </thead>\n",
       "  <tbody>\n",
       "    <tr>\n",
       "      <th>2016-02-06 16:14:00</th>\n",
       "      <td>MariborskoPohorje</td>\n",
       "      <td>2016-02-06</td>\n",
       "      <td>sončno</td>\n",
       "      <td>1</td>\n",
       "      <td>55</td>\n",
       "      <td>{('9.00', '16.00'), ('18.00', '21.00')}</td>\n",
       "      <td>10</td>\n",
       "      <td>{'sedeznica': '4/5', 'vlečnica': '4/9', 'gondo...</td>\n",
       "      <td>60.00</td>\n",
       "    </tr>\n",
       "    <tr>\n",
       "      <th>2016-02-07 16:05:00</th>\n",
       "      <td>MariborskoPohorje</td>\n",
       "      <td>2016-02-07</td>\n",
       "      <td>sončno</td>\n",
       "      <td>3</td>\n",
       "      <td>55</td>\n",
       "      <td>{('9.00', '16.00'), ('18.00', '21.00')}</td>\n",
       "      <td>10</td>\n",
       "      <td>{'sedeznica': '3/5', 'vlečnica': '4/9', 'gondo...</td>\n",
       "      <td>53.33</td>\n",
       "    </tr>\n",
       "    <tr>\n",
       "      <th>2016-02-07 18:14:00</th>\n",
       "      <td>MariborskoPohorje</td>\n",
       "      <td>2016-02-07</td>\n",
       "      <td>sončno</td>\n",
       "      <td>3</td>\n",
       "      <td>55</td>\n",
       "      <td>{('9.00', '16.00'), ('18.00', '21.00')}</td>\n",
       "      <td>10</td>\n",
       "      <td>{'sedeznica': '3/5', 'vlečnica': '4/9', 'gondo...</td>\n",
       "      <td>53.33</td>\n",
       "    </tr>\n",
       "    <tr>\n",
       "      <th>2016-02-07 18:15:00</th>\n",
       "      <td>MariborskoPohorje</td>\n",
       "      <td>2016-02-07</td>\n",
       "      <td>sončno</td>\n",
       "      <td>3</td>\n",
       "      <td>55</td>\n",
       "      <td>{('9.00', '16.00'), ('18.00', '21.00')}</td>\n",
       "      <td>10</td>\n",
       "      <td>{'sedeznica': '3/5', 'vlečnica': '4/9', 'gondo...</td>\n",
       "      <td>53.33</td>\n",
       "    </tr>\n",
       "    <tr>\n",
       "      <th>2016-02-07 19:00:00</th>\n",
       "      <td>MariborskoPohorje</td>\n",
       "      <td>2016-02-07</td>\n",
       "      <td>sončno</td>\n",
       "      <td>3</td>\n",
       "      <td>55</td>\n",
       "      <td>{('9.00', '16.00'), ('18.00', '21.00')}</td>\n",
       "      <td>10</td>\n",
       "      <td>{'sedeznica': '3/5', 'vlečnica': '4/9', 'gondo...</td>\n",
       "      <td>53.33</td>\n",
       "    </tr>\n",
       "    <tr>\n",
       "      <th>2016-02-07 20:00:00</th>\n",
       "      <td>MariborskoPohorje</td>\n",
       "      <td>2016-02-07</td>\n",
       "      <td>sončno</td>\n",
       "      <td>3</td>\n",
       "      <td>55</td>\n",
       "      <td>{('9.00', '16.00'), ('18.00', '21.00')}</td>\n",
       "      <td>10</td>\n",
       "      <td>{'sedeznica': '3/5', 'vlečnica': '4/9', 'gondo...</td>\n",
       "      <td>53.33</td>\n",
       "    </tr>\n",
       "    <tr>\n",
       "      <th>2016-02-07 21:00:00</th>\n",
       "      <td>MariborskoPohorje</td>\n",
       "      <td>2016-02-07</td>\n",
       "      <td>sončno</td>\n",
       "      <td>3</td>\n",
       "      <td>55</td>\n",
       "      <td>{('9.00', '16.00'), ('18.00', '21.00')}</td>\n",
       "      <td>10</td>\n",
       "      <td>{'sedeznica': '3/5', 'vlečnica': '4/9', 'gondo...</td>\n",
       "      <td>53.33</td>\n",
       "    </tr>\n",
       "    <tr>\n",
       "      <th>2016-02-07 22:00:00</th>\n",
       "      <td>MariborskoPohorje</td>\n",
       "      <td>2016-02-07</td>\n",
       "      <td>sončno</td>\n",
       "      <td>3</td>\n",
       "      <td>55</td>\n",
       "      <td>{('9.00', '16.00'), ('18.00', '21.00')}</td>\n",
       "      <td>10</td>\n",
       "      <td>{'sedeznica': '3/5', 'vlečnica': '4/9', 'gondo...</td>\n",
       "      <td>53.33</td>\n",
       "    </tr>\n",
       "    <tr>\n",
       "      <th>2016-02-07 23:00:00</th>\n",
       "      <td>MariborskoPohorje</td>\n",
       "      <td>2016-02-07</td>\n",
       "      <td>sončno</td>\n",
       "      <td>3</td>\n",
       "      <td>55</td>\n",
       "      <td>{('9.00', '16.00'), ('18.00', '21.00')}</td>\n",
       "      <td>10</td>\n",
       "      <td>{'sedeznica': '3/5', 'vlečnica': '4/9', 'gondo...</td>\n",
       "      <td>53.33</td>\n",
       "    </tr>\n",
       "    <tr>\n",
       "      <th>2016-02-08 06:00:00</th>\n",
       "      <td>MariborskoPohorje</td>\n",
       "      <td>2016-02-08</td>\n",
       "      <td>sončno</td>\n",
       "      <td>4</td>\n",
       "      <td>55</td>\n",
       "      <td>{('9.00', '16.00')}</td>\n",
       "      <td>7</td>\n",
       "      <td>{'sedeznica': '4/5', 'vlečnica': '4/9', 'gondo...</td>\n",
       "      <td>60.00</td>\n",
       "    </tr>\n",
       "    <tr>\n",
       "      <th>2016-02-08 07:00:00</th>\n",
       "      <td>MariborskoPohorje</td>\n",
       "      <td>2016-02-08</td>\n",
       "      <td>sončno</td>\n",
       "      <td>4</td>\n",
       "      <td>55</td>\n",
       "      <td>{('9.00', '16.00')}</td>\n",
       "      <td>7</td>\n",
       "      <td>{'sedeznica': '4/5', 'vlečnica': '4/9', 'gondo...</td>\n",
       "      <td>60.00</td>\n",
       "    </tr>\n",
       "    <tr>\n",
       "      <th>2016-02-08 08:00:00</th>\n",
       "      <td>MariborskoPohorje</td>\n",
       "      <td>2016-02-08</td>\n",
       "      <td>sončno</td>\n",
       "      <td>4</td>\n",
       "      <td>55</td>\n",
       "      <td>{('9.00', '16.00')}</td>\n",
       "      <td>7</td>\n",
       "      <td>{'sedeznica': '4/5', 'vlečnica': '4/9', 'gondo...</td>\n",
       "      <td>60.00</td>\n",
       "    </tr>\n",
       "    <tr>\n",
       "      <th>2016-02-08 09:00:00</th>\n",
       "      <td>MariborskoPohorje</td>\n",
       "      <td>2016-02-08</td>\n",
       "      <td>sončno</td>\n",
       "      <td>4</td>\n",
       "      <td>55</td>\n",
       "      <td>{('9.00', '16.00')}</td>\n",
       "      <td>7</td>\n",
       "      <td>{'sedeznica': '3/5', 'vlečnica': '4/9', 'gondo...</td>\n",
       "      <td>53.33</td>\n",
       "    </tr>\n",
       "    <tr>\n",
       "      <th>2016-02-08 10:00:00</th>\n",
       "      <td>MariborskoPohorje</td>\n",
       "      <td>2016-02-08</td>\n",
       "      <td>sončno</td>\n",
       "      <td>4</td>\n",
       "      <td>55</td>\n",
       "      <td>{('9.00', '16.00')}</td>\n",
       "      <td>7</td>\n",
       "      <td>{'sedeznica': '3/5', 'vlečnica': '4/9', 'gondo...</td>\n",
       "      <td>53.33</td>\n",
       "    </tr>\n",
       "    <tr>\n",
       "      <th>2016-02-08 11:00:00</th>\n",
       "      <td>MariborskoPohorje</td>\n",
       "      <td>2016-02-08</td>\n",
       "      <td>sončno</td>\n",
       "      <td>4</td>\n",
       "      <td>55</td>\n",
       "      <td>{('9.00', '16.00')}</td>\n",
       "      <td>7</td>\n",
       "      <td>{'sedeznica': '3/5', 'vlečnica': '4/9', 'gondo...</td>\n",
       "      <td>53.33</td>\n",
       "    </tr>\n",
       "    <tr>\n",
       "      <th>2016-02-08 12:00:00</th>\n",
       "      <td>MariborskoPohorje</td>\n",
       "      <td>2016-02-08</td>\n",
       "      <td>sončno</td>\n",
       "      <td>4</td>\n",
       "      <td>55</td>\n",
       "      <td>{('9.00', '16.00')}</td>\n",
       "      <td>7</td>\n",
       "      <td>{'sedeznica': '3/5', 'vlečnica': '4/9', 'gondo...</td>\n",
       "      <td>53.33</td>\n",
       "    </tr>\n",
       "    <tr>\n",
       "      <th>2016-02-08 13:00:00</th>\n",
       "      <td>MariborskoPohorje</td>\n",
       "      <td>2016-02-08</td>\n",
       "      <td>sončno</td>\n",
       "      <td>4</td>\n",
       "      <td>55</td>\n",
       "      <td>{('9.00', '16.00')}</td>\n",
       "      <td>7</td>\n",
       "      <td>{'sedeznica': '4/5', 'vlečnica': '4/9', 'gondo...</td>\n",
       "      <td>60.00</td>\n",
       "    </tr>\n",
       "    <tr>\n",
       "      <th>2016-02-08 14:00:00</th>\n",
       "      <td>MariborskoPohorje</td>\n",
       "      <td>2016-02-08</td>\n",
       "      <td>sončno</td>\n",
       "      <td>4</td>\n",
       "      <td>55</td>\n",
       "      <td>{('9.00', '16.00')}</td>\n",
       "      <td>7</td>\n",
       "      <td>{'sedeznica': '4/5', 'vlečnica': '4/9', 'gondo...</td>\n",
       "      <td>60.00</td>\n",
       "    </tr>\n",
       "    <tr>\n",
       "      <th>2016-02-08 15:00:00</th>\n",
       "      <td>MariborskoPohorje</td>\n",
       "      <td>2016-02-08</td>\n",
       "      <td>sončno</td>\n",
       "      <td>4</td>\n",
       "      <td>55</td>\n",
       "      <td>{('9.00', '16.00')}</td>\n",
       "      <td>7</td>\n",
       "      <td>{'sedeznica': '4/5', 'vlečnica': '4/9', 'gondo...</td>\n",
       "      <td>60.00</td>\n",
       "    </tr>\n",
       "    <tr>\n",
       "      <th>2016-02-08 16:00:00</th>\n",
       "      <td>MariborskoPohorje</td>\n",
       "      <td>2016-02-08</td>\n",
       "      <td>sončno</td>\n",
       "      <td>4</td>\n",
       "      <td>55</td>\n",
       "      <td>{('9.00', '16.00')}</td>\n",
       "      <td>7</td>\n",
       "      <td>{'sedeznica': '4/5', 'vlečnica': '4/9', 'gondo...</td>\n",
       "      <td>60.00</td>\n",
       "    </tr>\n",
       "    <tr>\n",
       "      <th>2016-02-08 17:00:00</th>\n",
       "      <td>MariborskoPohorje</td>\n",
       "      <td>2016-02-08</td>\n",
       "      <td>sončno</td>\n",
       "      <td>4</td>\n",
       "      <td>55</td>\n",
       "      <td>{('9.00', '16.00')}</td>\n",
       "      <td>7</td>\n",
       "      <td>{'sedeznica': '4/5', 'vlečnica': '4/9', 'gondo...</td>\n",
       "      <td>60.00</td>\n",
       "    </tr>\n",
       "    <tr>\n",
       "      <th>2016-02-08 18:00:00</th>\n",
       "      <td>MariborskoPohorje</td>\n",
       "      <td>2016-02-08</td>\n",
       "      <td>sončno</td>\n",
       "      <td>4</td>\n",
       "      <td>55</td>\n",
       "      <td>{('9.00', '16.00')}</td>\n",
       "      <td>7</td>\n",
       "      <td>{'sedeznica': '4/5', 'vlečnica': '4/9', 'gondo...</td>\n",
       "      <td>60.00</td>\n",
       "    </tr>\n",
       "    <tr>\n",
       "      <th>2016-02-08 19:00:00</th>\n",
       "      <td>MariborskoPohorje</td>\n",
       "      <td>2016-02-08</td>\n",
       "      <td>sončno</td>\n",
       "      <td>4</td>\n",
       "      <td>55</td>\n",
       "      <td>{('9.00', '16.00')}</td>\n",
       "      <td>7</td>\n",
       "      <td>{'sedeznica': '4/5', 'vlečnica': '4/9', 'gondo...</td>\n",
       "      <td>60.00</td>\n",
       "    </tr>\n",
       "    <tr>\n",
       "      <th>2016-02-08 20:00:00</th>\n",
       "      <td>MariborskoPohorje</td>\n",
       "      <td>2016-02-08</td>\n",
       "      <td>sončno</td>\n",
       "      <td>4</td>\n",
       "      <td>55</td>\n",
       "      <td>{('9.00', '16.00')}</td>\n",
       "      <td>7</td>\n",
       "      <td>{'sedeznica': '4/5', 'vlečnica': '4/9', 'gondo...</td>\n",
       "      <td>60.00</td>\n",
       "    </tr>\n",
       "    <tr>\n",
       "      <th>2016-02-08 21:00:00</th>\n",
       "      <td>MariborskoPohorje</td>\n",
       "      <td>2016-02-08</td>\n",
       "      <td>sončno</td>\n",
       "      <td>4</td>\n",
       "      <td>55</td>\n",
       "      <td>{('9.00', '16.00')}</td>\n",
       "      <td>7</td>\n",
       "      <td>{'sedeznica': '4/5', 'vlečnica': '4/9', 'gondo...</td>\n",
       "      <td>60.00</td>\n",
       "    </tr>\n",
       "    <tr>\n",
       "      <th>2016-02-08 22:00:00</th>\n",
       "      <td>MariborskoPohorje</td>\n",
       "      <td>2016-02-08</td>\n",
       "      <td>sončno</td>\n",
       "      <td>4</td>\n",
       "      <td>55</td>\n",
       "      <td>{('9.00', '16.00')}</td>\n",
       "      <td>7</td>\n",
       "      <td>{'sedeznica': '4/5', 'vlečnica': '4/9', 'gondo...</td>\n",
       "      <td>60.00</td>\n",
       "    </tr>\n",
       "    <tr>\n",
       "      <th>2016-02-08 23:00:00</th>\n",
       "      <td>MariborskoPohorje</td>\n",
       "      <td>2016-02-08</td>\n",
       "      <td>sončno</td>\n",
       "      <td>4</td>\n",
       "      <td>55</td>\n",
       "      <td>{('9.00', '16.00')}</td>\n",
       "      <td>7</td>\n",
       "      <td>{'sedeznica': '4/5', 'vlečnica': '4/9', 'gondo...</td>\n",
       "      <td>60.00</td>\n",
       "    </tr>\n",
       "    <tr>\n",
       "      <th>2016-02-09 06:00:00</th>\n",
       "      <td>MariborskoPohorje</td>\n",
       "      <td>2016-02-09</td>\n",
       "      <td>oblačno</td>\n",
       "      <td>3</td>\n",
       "      <td>45</td>\n",
       "      <td>{('9.00', '16.00')}</td>\n",
       "      <td>7</td>\n",
       "      <td>{'sedeznica': '4/5', 'vlečnica': '4/9', 'gondo...</td>\n",
       "      <td>60.00</td>\n",
       "    </tr>\n",
       "    <tr>\n",
       "      <th>2016-02-09 07:00:00</th>\n",
       "      <td>MariborskoPohorje</td>\n",
       "      <td>2016-02-09</td>\n",
       "      <td>oblačno</td>\n",
       "      <td>3</td>\n",
       "      <td>45</td>\n",
       "      <td>{('9.00', '16.00')}</td>\n",
       "      <td>7</td>\n",
       "      <td>{'sedeznica': '4/5', 'vlečnica': '4/9', 'gondo...</td>\n",
       "      <td>60.00</td>\n",
       "    </tr>\n",
       "    <tr>\n",
       "      <th>2016-02-09 08:00:00</th>\n",
       "      <td>MariborskoPohorje</td>\n",
       "      <td>2016-02-09</td>\n",
       "      <td>oblačno</td>\n",
       "      <td>3</td>\n",
       "      <td>45</td>\n",
       "      <td>{('9.00', '16.00')}</td>\n",
       "      <td>7</td>\n",
       "      <td>{'sedeznica': '4/5', 'vlečnica': '4/9', 'gondo...</td>\n",
       "      <td>60.00</td>\n",
       "    </tr>\n",
       "    <tr>\n",
       "      <th>...</th>\n",
       "      <td>...</td>\n",
       "      <td>...</td>\n",
       "      <td>...</td>\n",
       "      <td>...</td>\n",
       "      <td>...</td>\n",
       "      <td>...</td>\n",
       "      <td>...</td>\n",
       "      <td>...</td>\n",
       "      <td>...</td>\n",
       "    </tr>\n",
       "    <tr>\n",
       "      <th>2016-03-06 06:00:00</th>\n",
       "      <td>MariborskoPohorje</td>\n",
       "      <td>2016-03-06</td>\n",
       "      <td>delno jasno</td>\n",
       "      <td>1</td>\n",
       "      <td>65</td>\n",
       "      <td>{('9.00', '16.00')}</td>\n",
       "      <td>7</td>\n",
       "      <td>{'sedeznica': '3/5', 'vlečnica': '7/9', 'gondo...</td>\n",
       "      <td>73.33</td>\n",
       "    </tr>\n",
       "    <tr>\n",
       "      <th>2016-03-06 07:00:00</th>\n",
       "      <td>MariborskoPohorje</td>\n",
       "      <td>2016-03-06</td>\n",
       "      <td>delno jasno</td>\n",
       "      <td>1</td>\n",
       "      <td>65</td>\n",
       "      <td>{('9.00', '16.00')}</td>\n",
       "      <td>7</td>\n",
       "      <td>{'sedeznica': '3/5', 'vlečnica': '7/9', 'gondo...</td>\n",
       "      <td>73.33</td>\n",
       "    </tr>\n",
       "    <tr>\n",
       "      <th>2016-03-06 08:00:00</th>\n",
       "      <td>MariborskoPohorje</td>\n",
       "      <td>2016-03-06</td>\n",
       "      <td>delno jasno</td>\n",
       "      <td>1</td>\n",
       "      <td>65</td>\n",
       "      <td>{('9.00', '16.00')}</td>\n",
       "      <td>7</td>\n",
       "      <td>{'sedeznica': '3/5', 'vlečnica': '7/9', 'gondo...</td>\n",
       "      <td>73.33</td>\n",
       "    </tr>\n",
       "    <tr>\n",
       "      <th>2016-03-06 09:00:00</th>\n",
       "      <td>MariborskoPohorje</td>\n",
       "      <td>2016-03-06</td>\n",
       "      <td>delno jasno</td>\n",
       "      <td>1</td>\n",
       "      <td>65</td>\n",
       "      <td>{('9.00', '16.00')}</td>\n",
       "      <td>7</td>\n",
       "      <td>{'sedeznica': '3/5', 'vlečnica': '7/9', 'gondo...</td>\n",
       "      <td>73.33</td>\n",
       "    </tr>\n",
       "    <tr>\n",
       "      <th>2016-03-06 10:00:00</th>\n",
       "      <td>MariborskoPohorje</td>\n",
       "      <td>2016-03-06</td>\n",
       "      <td>delno jasno</td>\n",
       "      <td>1</td>\n",
       "      <td>65</td>\n",
       "      <td>{('9.00', '16.00')}</td>\n",
       "      <td>7</td>\n",
       "      <td>{'sedeznica': '3/5', 'vlečnica': '7/9', 'gondo...</td>\n",
       "      <td>73.33</td>\n",
       "    </tr>\n",
       "    <tr>\n",
       "      <th>2016-03-06 11:00:00</th>\n",
       "      <td>MariborskoPohorje</td>\n",
       "      <td>2016-03-06</td>\n",
       "      <td>delno jasno</td>\n",
       "      <td>1</td>\n",
       "      <td>65</td>\n",
       "      <td>{('9.00', '16.00')}</td>\n",
       "      <td>7</td>\n",
       "      <td>{'sedeznica': '3/5', 'vlečnica': '7/9', 'gondo...</td>\n",
       "      <td>73.33</td>\n",
       "    </tr>\n",
       "    <tr>\n",
       "      <th>2016-03-06 12:00:00</th>\n",
       "      <td>MariborskoPohorje</td>\n",
       "      <td>2016-03-06</td>\n",
       "      <td>delno jasno</td>\n",
       "      <td>1</td>\n",
       "      <td>65</td>\n",
       "      <td>{('9.00', '16.00')}</td>\n",
       "      <td>7</td>\n",
       "      <td>{'sedeznica': '3/5', 'vlečnica': '7/9', 'gondo...</td>\n",
       "      <td>73.33</td>\n",
       "    </tr>\n",
       "    <tr>\n",
       "      <th>2016-03-06 13:00:00</th>\n",
       "      <td>MariborskoPohorje</td>\n",
       "      <td>2016-03-06</td>\n",
       "      <td>delno jasno</td>\n",
       "      <td>1</td>\n",
       "      <td>65</td>\n",
       "      <td>{('9.00', '16.00')}</td>\n",
       "      <td>7</td>\n",
       "      <td>{'sedeznica': '3/5', 'vlečnica': '7/9', 'gondo...</td>\n",
       "      <td>73.33</td>\n",
       "    </tr>\n",
       "    <tr>\n",
       "      <th>2016-03-06 14:00:00</th>\n",
       "      <td>MariborskoPohorje</td>\n",
       "      <td>2016-03-06</td>\n",
       "      <td>delno jasno</td>\n",
       "      <td>1</td>\n",
       "      <td>65</td>\n",
       "      <td>{('9.00', '16.00')}</td>\n",
       "      <td>7</td>\n",
       "      <td>{'sedeznica': '3/5', 'vlečnica': '7/9', 'gondo...</td>\n",
       "      <td>73.33</td>\n",
       "    </tr>\n",
       "    <tr>\n",
       "      <th>2016-03-06 15:00:00</th>\n",
       "      <td>MariborskoPohorje</td>\n",
       "      <td>2016-03-06</td>\n",
       "      <td>delno jasno</td>\n",
       "      <td>1</td>\n",
       "      <td>65</td>\n",
       "      <td>{('9.00', '16.00')}</td>\n",
       "      <td>7</td>\n",
       "      <td>{'sedeznica': '3/5', 'vlečnica': '7/9', 'gondo...</td>\n",
       "      <td>73.33</td>\n",
       "    </tr>\n",
       "    <tr>\n",
       "      <th>2016-03-06 16:00:00</th>\n",
       "      <td>MariborskoPohorje</td>\n",
       "      <td>2016-03-06</td>\n",
       "      <td>delno jasno</td>\n",
       "      <td>1</td>\n",
       "      <td>65</td>\n",
       "      <td>{('9.00', '16.00')}</td>\n",
       "      <td>7</td>\n",
       "      <td>{'sedeznica': '3/5', 'vlečnica': '7/9', 'gondo...</td>\n",
       "      <td>73.33</td>\n",
       "    </tr>\n",
       "    <tr>\n",
       "      <th>2016-03-06 17:00:00</th>\n",
       "      <td>MariborskoPohorje</td>\n",
       "      <td>2016-03-06</td>\n",
       "      <td>delno jasno</td>\n",
       "      <td>1</td>\n",
       "      <td>65</td>\n",
       "      <td>{('9.00', '16.00')}</td>\n",
       "      <td>7</td>\n",
       "      <td>{'sedeznica': '3/5', 'vlečnica': '7/9', 'gondo...</td>\n",
       "      <td>73.33</td>\n",
       "    </tr>\n",
       "    <tr>\n",
       "      <th>2016-03-06 18:00:00</th>\n",
       "      <td>MariborskoPohorje</td>\n",
       "      <td>2016-03-06</td>\n",
       "      <td>delno jasno</td>\n",
       "      <td>1</td>\n",
       "      <td>65</td>\n",
       "      <td>{('9.00', '16.00')}</td>\n",
       "      <td>7</td>\n",
       "      <td>{'sedeznica': '3/5', 'vlečnica': '7/9', 'gondo...</td>\n",
       "      <td>73.33</td>\n",
       "    </tr>\n",
       "    <tr>\n",
       "      <th>2016-03-06 19:00:00</th>\n",
       "      <td>MariborskoPohorje</td>\n",
       "      <td>2016-03-06</td>\n",
       "      <td>delno jasno</td>\n",
       "      <td>1</td>\n",
       "      <td>65</td>\n",
       "      <td>{('9.00', '16.00')}</td>\n",
       "      <td>7</td>\n",
       "      <td>{'sedeznica': '3/5', 'vlečnica': '7/9', 'gondo...</td>\n",
       "      <td>73.33</td>\n",
       "    </tr>\n",
       "    <tr>\n",
       "      <th>2016-03-06 20:00:00</th>\n",
       "      <td>MariborskoPohorje</td>\n",
       "      <td>2016-03-06</td>\n",
       "      <td>delno jasno</td>\n",
       "      <td>1</td>\n",
       "      <td>65</td>\n",
       "      <td>{('9.00', '16.00')}</td>\n",
       "      <td>7</td>\n",
       "      <td>{'sedeznica': '3/5', 'vlečnica': '7/9', 'gondo...</td>\n",
       "      <td>73.33</td>\n",
       "    </tr>\n",
       "    <tr>\n",
       "      <th>2016-03-06 21:00:00</th>\n",
       "      <td>MariborskoPohorje</td>\n",
       "      <td>2016-03-06</td>\n",
       "      <td>delno jasno</td>\n",
       "      <td>1</td>\n",
       "      <td>65</td>\n",
       "      <td>{('9.00', '16.00')}</td>\n",
       "      <td>7</td>\n",
       "      <td>{'sedeznica': '3/5', 'vlečnica': '7/9', 'gondo...</td>\n",
       "      <td>73.33</td>\n",
       "    </tr>\n",
       "    <tr>\n",
       "      <th>2016-03-06 22:00:00</th>\n",
       "      <td>MariborskoPohorje</td>\n",
       "      <td>2016-03-06</td>\n",
       "      <td>delno jasno</td>\n",
       "      <td>1</td>\n",
       "      <td>65</td>\n",
       "      <td>{('9.00', '16.00')}</td>\n",
       "      <td>7</td>\n",
       "      <td>{'sedeznica': '3/5', 'vlečnica': '7/9', 'gondo...</td>\n",
       "      <td>73.33</td>\n",
       "    </tr>\n",
       "    <tr>\n",
       "      <th>2016-03-06 23:00:00</th>\n",
       "      <td>MariborskoPohorje</td>\n",
       "      <td>2016-03-06</td>\n",
       "      <td>delno jasno</td>\n",
       "      <td>1</td>\n",
       "      <td>65</td>\n",
       "      <td>{('9.00', '16.00')}</td>\n",
       "      <td>7</td>\n",
       "      <td>{'sedeznica': '3/5', 'vlečnica': '7/9', 'gondo...</td>\n",
       "      <td>73.33</td>\n",
       "    </tr>\n",
       "    <tr>\n",
       "      <th>2016-03-07 00:00:00</th>\n",
       "      <td>MariborskoPohorje</td>\n",
       "      <td>2016-03-07</td>\n",
       "      <td>delno jasno</td>\n",
       "      <td>1</td>\n",
       "      <td>65</td>\n",
       "      <td>{('9.00', '16.00')}</td>\n",
       "      <td>7</td>\n",
       "      <td>{'sedeznica': '3/5', 'vlečnica': '7/9', 'gondo...</td>\n",
       "      <td>73.33</td>\n",
       "    </tr>\n",
       "    <tr>\n",
       "      <th>2016-03-07 06:00:00</th>\n",
       "      <td>MariborskoPohorje</td>\n",
       "      <td>2016-03-07</td>\n",
       "      <td>delno jasno</td>\n",
       "      <td>-3</td>\n",
       "      <td>65</td>\n",
       "      <td>{('9.00', '16.00')}</td>\n",
       "      <td>7</td>\n",
       "      <td>{'sedeznica': '3/5', 'vlečnica': '7/9', 'gondo...</td>\n",
       "      <td>73.33</td>\n",
       "    </tr>\n",
       "    <tr>\n",
       "      <th>2016-03-07 07:00:00</th>\n",
       "      <td>MariborskoPohorje</td>\n",
       "      <td>2016-03-07</td>\n",
       "      <td>sneži</td>\n",
       "      <td>-3</td>\n",
       "      <td>65</td>\n",
       "      <td>{('9.00', '16.00')}</td>\n",
       "      <td>7</td>\n",
       "      <td>{'sedeznica': '3/5', 'vlečnica': '7/9', 'gondo...</td>\n",
       "      <td>73.33</td>\n",
       "    </tr>\n",
       "    <tr>\n",
       "      <th>2016-03-07 08:00:00</th>\n",
       "      <td>MariborskoPohorje</td>\n",
       "      <td>2016-03-07</td>\n",
       "      <td>sneži</td>\n",
       "      <td>-3</td>\n",
       "      <td>65</td>\n",
       "      <td>{('9.00', '16.00')}</td>\n",
       "      <td>7</td>\n",
       "      <td>{'sedeznica': '3/5', 'vlečnica': '7/9', 'gondo...</td>\n",
       "      <td>73.33</td>\n",
       "    </tr>\n",
       "    <tr>\n",
       "      <th>2016-03-07 09:00:00</th>\n",
       "      <td>MariborskoPohorje</td>\n",
       "      <td>2016-03-07</td>\n",
       "      <td>sneži</td>\n",
       "      <td>-3</td>\n",
       "      <td>10</td>\n",
       "      <td>{('9.00', '16.00')}</td>\n",
       "      <td>7</td>\n",
       "      <td>{'sedeznica': '3/5', 'vlečnica': '7/9', 'gondo...</td>\n",
       "      <td>73.33</td>\n",
       "    </tr>\n",
       "    <tr>\n",
       "      <th>2016-03-07 10:00:00</th>\n",
       "      <td>MariborskoPohorje</td>\n",
       "      <td>2016-03-07</td>\n",
       "      <td>sneži</td>\n",
       "      <td>-3</td>\n",
       "      <td>10</td>\n",
       "      <td>{('9.00', '16.00')}</td>\n",
       "      <td>7</td>\n",
       "      <td>{'sedeznica': '3/5', 'vlečnica': '7/9', 'gondo...</td>\n",
       "      <td>73.33</td>\n",
       "    </tr>\n",
       "    <tr>\n",
       "      <th>2016-03-07 11:00:00</th>\n",
       "      <td>MariborskoPohorje</td>\n",
       "      <td>2016-03-07</td>\n",
       "      <td>sneži</td>\n",
       "      <td>-3</td>\n",
       "      <td>10</td>\n",
       "      <td>{('9.00', '16.00')}</td>\n",
       "      <td>7</td>\n",
       "      <td>{'sedeznica': '3/5', 'vlečnica': '7/9', 'gondo...</td>\n",
       "      <td>73.33</td>\n",
       "    </tr>\n",
       "    <tr>\n",
       "      <th>2016-03-07 12:00:00</th>\n",
       "      <td>MariborskoPohorje</td>\n",
       "      <td>2016-03-07</td>\n",
       "      <td>sneži</td>\n",
       "      <td>-3</td>\n",
       "      <td>10</td>\n",
       "      <td>{('9.00', '16.00')}</td>\n",
       "      <td>7</td>\n",
       "      <td>{'sedeznica': '3/5', 'vlečnica': '7/9', 'gondo...</td>\n",
       "      <td>73.33</td>\n",
       "    </tr>\n",
       "    <tr>\n",
       "      <th>2016-03-07 13:00:00</th>\n",
       "      <td>MariborskoPohorje</td>\n",
       "      <td>2016-03-07</td>\n",
       "      <td>sneži</td>\n",
       "      <td>-3</td>\n",
       "      <td>10</td>\n",
       "      <td>{('9.00', '16.00')}</td>\n",
       "      <td>7</td>\n",
       "      <td>{'sedeznica': '3/5', 'vlečnica': '7/9', 'gondo...</td>\n",
       "      <td>73.33</td>\n",
       "    </tr>\n",
       "    <tr>\n",
       "      <th>2016-03-07 14:00:00</th>\n",
       "      <td>MariborskoPohorje</td>\n",
       "      <td>2016-03-07</td>\n",
       "      <td>sneži</td>\n",
       "      <td>-3</td>\n",
       "      <td>10</td>\n",
       "      <td>{('9.00', '16.00')}</td>\n",
       "      <td>7</td>\n",
       "      <td>{'sedeznica': '3/5', 'vlečnica': '7/9', 'gondo...</td>\n",
       "      <td>73.33</td>\n",
       "    </tr>\n",
       "    <tr>\n",
       "      <th>2016-03-07 15:00:00</th>\n",
       "      <td>MariborskoPohorje</td>\n",
       "      <td>2016-03-07</td>\n",
       "      <td>sneži</td>\n",
       "      <td>-3</td>\n",
       "      <td>10</td>\n",
       "      <td>{('9.00', '16.00')}</td>\n",
       "      <td>7</td>\n",
       "      <td>{'sedeznica': '3/5', 'vlečnica': '7/9', 'gondo...</td>\n",
       "      <td>73.33</td>\n",
       "    </tr>\n",
       "    <tr>\n",
       "      <th>2016-03-07 16:00:00</th>\n",
       "      <td>MariborskoPohorje</td>\n",
       "      <td>2016-03-07</td>\n",
       "      <td>sneži</td>\n",
       "      <td>-3</td>\n",
       "      <td>10</td>\n",
       "      <td>{('9.00', '16.00')}</td>\n",
       "      <td>7</td>\n",
       "      <td>{'sedeznica': '3/5', 'vlečnica': '7/9', 'gondo...</td>\n",
       "      <td>73.33</td>\n",
       "    </tr>\n",
       "  </tbody>\n",
       "</table>\n",
       "<p>528 rows × 9 columns</p>\n",
       "</div>"
      ],
      "text/plain": [
       "                              smucisce       datum        vreme  temperatura  \\\n",
       "cas                                                                            \n",
       "2016-02-06 16:14:00  MariborskoPohorje  2016-02-06       sončno            1   \n",
       "2016-02-07 16:05:00  MariborskoPohorje  2016-02-07       sončno            3   \n",
       "2016-02-07 18:14:00  MariborskoPohorje  2016-02-07       sončno            3   \n",
       "2016-02-07 18:15:00  MariborskoPohorje  2016-02-07       sončno            3   \n",
       "2016-02-07 19:00:00  MariborskoPohorje  2016-02-07       sončno            3   \n",
       "2016-02-07 20:00:00  MariborskoPohorje  2016-02-07       sončno            3   \n",
       "2016-02-07 21:00:00  MariborskoPohorje  2016-02-07       sončno            3   \n",
       "2016-02-07 22:00:00  MariborskoPohorje  2016-02-07       sončno            3   \n",
       "2016-02-07 23:00:00  MariborskoPohorje  2016-02-07       sončno            3   \n",
       "2016-02-08 06:00:00  MariborskoPohorje  2016-02-08       sončno            4   \n",
       "2016-02-08 07:00:00  MariborskoPohorje  2016-02-08       sončno            4   \n",
       "2016-02-08 08:00:00  MariborskoPohorje  2016-02-08       sončno            4   \n",
       "2016-02-08 09:00:00  MariborskoPohorje  2016-02-08       sončno            4   \n",
       "2016-02-08 10:00:00  MariborskoPohorje  2016-02-08       sončno            4   \n",
       "2016-02-08 11:00:00  MariborskoPohorje  2016-02-08       sončno            4   \n",
       "2016-02-08 12:00:00  MariborskoPohorje  2016-02-08       sončno            4   \n",
       "2016-02-08 13:00:00  MariborskoPohorje  2016-02-08       sončno            4   \n",
       "2016-02-08 14:00:00  MariborskoPohorje  2016-02-08       sončno            4   \n",
       "2016-02-08 15:00:00  MariborskoPohorje  2016-02-08       sončno            4   \n",
       "2016-02-08 16:00:00  MariborskoPohorje  2016-02-08       sončno            4   \n",
       "2016-02-08 17:00:00  MariborskoPohorje  2016-02-08       sončno            4   \n",
       "2016-02-08 18:00:00  MariborskoPohorje  2016-02-08       sončno            4   \n",
       "2016-02-08 19:00:00  MariborskoPohorje  2016-02-08       sončno            4   \n",
       "2016-02-08 20:00:00  MariborskoPohorje  2016-02-08       sončno            4   \n",
       "2016-02-08 21:00:00  MariborskoPohorje  2016-02-08       sončno            4   \n",
       "2016-02-08 22:00:00  MariborskoPohorje  2016-02-08       sončno            4   \n",
       "2016-02-08 23:00:00  MariborskoPohorje  2016-02-08       sončno            4   \n",
       "2016-02-09 06:00:00  MariborskoPohorje  2016-02-09      oblačno            3   \n",
       "2016-02-09 07:00:00  MariborskoPohorje  2016-02-09      oblačno            3   \n",
       "2016-02-09 08:00:00  MariborskoPohorje  2016-02-09      oblačno            3   \n",
       "...                                ...         ...          ...          ...   \n",
       "2016-03-06 06:00:00  MariborskoPohorje  2016-03-06  delno jasno            1   \n",
       "2016-03-06 07:00:00  MariborskoPohorje  2016-03-06  delno jasno            1   \n",
       "2016-03-06 08:00:00  MariborskoPohorje  2016-03-06  delno jasno            1   \n",
       "2016-03-06 09:00:00  MariborskoPohorje  2016-03-06  delno jasno            1   \n",
       "2016-03-06 10:00:00  MariborskoPohorje  2016-03-06  delno jasno            1   \n",
       "2016-03-06 11:00:00  MariborskoPohorje  2016-03-06  delno jasno            1   \n",
       "2016-03-06 12:00:00  MariborskoPohorje  2016-03-06  delno jasno            1   \n",
       "2016-03-06 13:00:00  MariborskoPohorje  2016-03-06  delno jasno            1   \n",
       "2016-03-06 14:00:00  MariborskoPohorje  2016-03-06  delno jasno            1   \n",
       "2016-03-06 15:00:00  MariborskoPohorje  2016-03-06  delno jasno            1   \n",
       "2016-03-06 16:00:00  MariborskoPohorje  2016-03-06  delno jasno            1   \n",
       "2016-03-06 17:00:00  MariborskoPohorje  2016-03-06  delno jasno            1   \n",
       "2016-03-06 18:00:00  MariborskoPohorje  2016-03-06  delno jasno            1   \n",
       "2016-03-06 19:00:00  MariborskoPohorje  2016-03-06  delno jasno            1   \n",
       "2016-03-06 20:00:00  MariborskoPohorje  2016-03-06  delno jasno            1   \n",
       "2016-03-06 21:00:00  MariborskoPohorje  2016-03-06  delno jasno            1   \n",
       "2016-03-06 22:00:00  MariborskoPohorje  2016-03-06  delno jasno            1   \n",
       "2016-03-06 23:00:00  MariborskoPohorje  2016-03-06  delno jasno            1   \n",
       "2016-03-07 00:00:00  MariborskoPohorje  2016-03-07  delno jasno            1   \n",
       "2016-03-07 06:00:00  MariborskoPohorje  2016-03-07  delno jasno           -3   \n",
       "2016-03-07 07:00:00  MariborskoPohorje  2016-03-07        sneži           -3   \n",
       "2016-03-07 08:00:00  MariborskoPohorje  2016-03-07        sneži           -3   \n",
       "2016-03-07 09:00:00  MariborskoPohorje  2016-03-07        sneži           -3   \n",
       "2016-03-07 10:00:00  MariborskoPohorje  2016-03-07        sneži           -3   \n",
       "2016-03-07 11:00:00  MariborskoPohorje  2016-03-07        sneži           -3   \n",
       "2016-03-07 12:00:00  MariborskoPohorje  2016-03-07        sneži           -3   \n",
       "2016-03-07 13:00:00  MariborskoPohorje  2016-03-07        sneži           -3   \n",
       "2016-03-07 14:00:00  MariborskoPohorje  2016-03-07        sneži           -3   \n",
       "2016-03-07 15:00:00  MariborskoPohorje  2016-03-07        sneži           -3   \n",
       "2016-03-07 16:00:00  MariborskoPohorje  2016-03-07        sneži           -3   \n",
       "\n",
       "                     sneg                              obratovanje  odprto  \\\n",
       "cas                                                                          \n",
       "2016-02-06 16:14:00    55  {('9.00', '16.00'), ('18.00', '21.00')}      10   \n",
       "2016-02-07 16:05:00    55  {('9.00', '16.00'), ('18.00', '21.00')}      10   \n",
       "2016-02-07 18:14:00    55  {('9.00', '16.00'), ('18.00', '21.00')}      10   \n",
       "2016-02-07 18:15:00    55  {('9.00', '16.00'), ('18.00', '21.00')}      10   \n",
       "2016-02-07 19:00:00    55  {('9.00', '16.00'), ('18.00', '21.00')}      10   \n",
       "2016-02-07 20:00:00    55  {('9.00', '16.00'), ('18.00', '21.00')}      10   \n",
       "2016-02-07 21:00:00    55  {('9.00', '16.00'), ('18.00', '21.00')}      10   \n",
       "2016-02-07 22:00:00    55  {('9.00', '16.00'), ('18.00', '21.00')}      10   \n",
       "2016-02-07 23:00:00    55  {('9.00', '16.00'), ('18.00', '21.00')}      10   \n",
       "2016-02-08 06:00:00    55                      {('9.00', '16.00')}       7   \n",
       "2016-02-08 07:00:00    55                      {('9.00', '16.00')}       7   \n",
       "2016-02-08 08:00:00    55                      {('9.00', '16.00')}       7   \n",
       "2016-02-08 09:00:00    55                      {('9.00', '16.00')}       7   \n",
       "2016-02-08 10:00:00    55                      {('9.00', '16.00')}       7   \n",
       "2016-02-08 11:00:00    55                      {('9.00', '16.00')}       7   \n",
       "2016-02-08 12:00:00    55                      {('9.00', '16.00')}       7   \n",
       "2016-02-08 13:00:00    55                      {('9.00', '16.00')}       7   \n",
       "2016-02-08 14:00:00    55                      {('9.00', '16.00')}       7   \n",
       "2016-02-08 15:00:00    55                      {('9.00', '16.00')}       7   \n",
       "2016-02-08 16:00:00    55                      {('9.00', '16.00')}       7   \n",
       "2016-02-08 17:00:00    55                      {('9.00', '16.00')}       7   \n",
       "2016-02-08 18:00:00    55                      {('9.00', '16.00')}       7   \n",
       "2016-02-08 19:00:00    55                      {('9.00', '16.00')}       7   \n",
       "2016-02-08 20:00:00    55                      {('9.00', '16.00')}       7   \n",
       "2016-02-08 21:00:00    55                      {('9.00', '16.00')}       7   \n",
       "2016-02-08 22:00:00    55                      {('9.00', '16.00')}       7   \n",
       "2016-02-08 23:00:00    55                      {('9.00', '16.00')}       7   \n",
       "2016-02-09 06:00:00    45                      {('9.00', '16.00')}       7   \n",
       "2016-02-09 07:00:00    45                      {('9.00', '16.00')}       7   \n",
       "2016-02-09 08:00:00    45                      {('9.00', '16.00')}       7   \n",
       "...                   ...                                      ...     ...   \n",
       "2016-03-06 06:00:00    65                      {('9.00', '16.00')}       7   \n",
       "2016-03-06 07:00:00    65                      {('9.00', '16.00')}       7   \n",
       "2016-03-06 08:00:00    65                      {('9.00', '16.00')}       7   \n",
       "2016-03-06 09:00:00    65                      {('9.00', '16.00')}       7   \n",
       "2016-03-06 10:00:00    65                      {('9.00', '16.00')}       7   \n",
       "2016-03-06 11:00:00    65                      {('9.00', '16.00')}       7   \n",
       "2016-03-06 12:00:00    65                      {('9.00', '16.00')}       7   \n",
       "2016-03-06 13:00:00    65                      {('9.00', '16.00')}       7   \n",
       "2016-03-06 14:00:00    65                      {('9.00', '16.00')}       7   \n",
       "2016-03-06 15:00:00    65                      {('9.00', '16.00')}       7   \n",
       "2016-03-06 16:00:00    65                      {('9.00', '16.00')}       7   \n",
       "2016-03-06 17:00:00    65                      {('9.00', '16.00')}       7   \n",
       "2016-03-06 18:00:00    65                      {('9.00', '16.00')}       7   \n",
       "2016-03-06 19:00:00    65                      {('9.00', '16.00')}       7   \n",
       "2016-03-06 20:00:00    65                      {('9.00', '16.00')}       7   \n",
       "2016-03-06 21:00:00    65                      {('9.00', '16.00')}       7   \n",
       "2016-03-06 22:00:00    65                      {('9.00', '16.00')}       7   \n",
       "2016-03-06 23:00:00    65                      {('9.00', '16.00')}       7   \n",
       "2016-03-07 00:00:00    65                      {('9.00', '16.00')}       7   \n",
       "2016-03-07 06:00:00    65                      {('9.00', '16.00')}       7   \n",
       "2016-03-07 07:00:00    65                      {('9.00', '16.00')}       7   \n",
       "2016-03-07 08:00:00    65                      {('9.00', '16.00')}       7   \n",
       "2016-03-07 09:00:00    10                      {('9.00', '16.00')}       7   \n",
       "2016-03-07 10:00:00    10                      {('9.00', '16.00')}       7   \n",
       "2016-03-07 11:00:00    10                      {('9.00', '16.00')}       7   \n",
       "2016-03-07 12:00:00    10                      {('9.00', '16.00')}       7   \n",
       "2016-03-07 13:00:00    10                      {('9.00', '16.00')}       7   \n",
       "2016-03-07 14:00:00    10                      {('9.00', '16.00')}       7   \n",
       "2016-03-07 15:00:00    10                      {('9.00', '16.00')}       7   \n",
       "2016-03-07 16:00:00    10                      {('9.00', '16.00')}       7   \n",
       "\n",
       "                                                             sedeznice  proge  \n",
       "cas                                                                            \n",
       "2016-02-06 16:14:00  {'sedeznica': '4/5', 'vlečnica': '4/9', 'gondo...  60.00  \n",
       "2016-02-07 16:05:00  {'sedeznica': '3/5', 'vlečnica': '4/9', 'gondo...  53.33  \n",
       "2016-02-07 18:14:00  {'sedeznica': '3/5', 'vlečnica': '4/9', 'gondo...  53.33  \n",
       "2016-02-07 18:15:00  {'sedeznica': '3/5', 'vlečnica': '4/9', 'gondo...  53.33  \n",
       "2016-02-07 19:00:00  {'sedeznica': '3/5', 'vlečnica': '4/9', 'gondo...  53.33  \n",
       "2016-02-07 20:00:00  {'sedeznica': '3/5', 'vlečnica': '4/9', 'gondo...  53.33  \n",
       "2016-02-07 21:00:00  {'sedeznica': '3/5', 'vlečnica': '4/9', 'gondo...  53.33  \n",
       "2016-02-07 22:00:00  {'sedeznica': '3/5', 'vlečnica': '4/9', 'gondo...  53.33  \n",
       "2016-02-07 23:00:00  {'sedeznica': '3/5', 'vlečnica': '4/9', 'gondo...  53.33  \n",
       "2016-02-08 06:00:00  {'sedeznica': '4/5', 'vlečnica': '4/9', 'gondo...  60.00  \n",
       "2016-02-08 07:00:00  {'sedeznica': '4/5', 'vlečnica': '4/9', 'gondo...  60.00  \n",
       "2016-02-08 08:00:00  {'sedeznica': '4/5', 'vlečnica': '4/9', 'gondo...  60.00  \n",
       "2016-02-08 09:00:00  {'sedeznica': '3/5', 'vlečnica': '4/9', 'gondo...  53.33  \n",
       "2016-02-08 10:00:00  {'sedeznica': '3/5', 'vlečnica': '4/9', 'gondo...  53.33  \n",
       "2016-02-08 11:00:00  {'sedeznica': '3/5', 'vlečnica': '4/9', 'gondo...  53.33  \n",
       "2016-02-08 12:00:00  {'sedeznica': '3/5', 'vlečnica': '4/9', 'gondo...  53.33  \n",
       "2016-02-08 13:00:00  {'sedeznica': '4/5', 'vlečnica': '4/9', 'gondo...  60.00  \n",
       "2016-02-08 14:00:00  {'sedeznica': '4/5', 'vlečnica': '4/9', 'gondo...  60.00  \n",
       "2016-02-08 15:00:00  {'sedeznica': '4/5', 'vlečnica': '4/9', 'gondo...  60.00  \n",
       "2016-02-08 16:00:00  {'sedeznica': '4/5', 'vlečnica': '4/9', 'gondo...  60.00  \n",
       "2016-02-08 17:00:00  {'sedeznica': '4/5', 'vlečnica': '4/9', 'gondo...  60.00  \n",
       "2016-02-08 18:00:00  {'sedeznica': '4/5', 'vlečnica': '4/9', 'gondo...  60.00  \n",
       "2016-02-08 19:00:00  {'sedeznica': '4/5', 'vlečnica': '4/9', 'gondo...  60.00  \n",
       "2016-02-08 20:00:00  {'sedeznica': '4/5', 'vlečnica': '4/9', 'gondo...  60.00  \n",
       "2016-02-08 21:00:00  {'sedeznica': '4/5', 'vlečnica': '4/9', 'gondo...  60.00  \n",
       "2016-02-08 22:00:00  {'sedeznica': '4/5', 'vlečnica': '4/9', 'gondo...  60.00  \n",
       "2016-02-08 23:00:00  {'sedeznica': '4/5', 'vlečnica': '4/9', 'gondo...  60.00  \n",
       "2016-02-09 06:00:00  {'sedeznica': '4/5', 'vlečnica': '4/9', 'gondo...  60.00  \n",
       "2016-02-09 07:00:00  {'sedeznica': '4/5', 'vlečnica': '4/9', 'gondo...  60.00  \n",
       "2016-02-09 08:00:00  {'sedeznica': '4/5', 'vlečnica': '4/9', 'gondo...  60.00  \n",
       "...                                                                ...    ...  \n",
       "2016-03-06 06:00:00  {'sedeznica': '3/5', 'vlečnica': '7/9', 'gondo...  73.33  \n",
       "2016-03-06 07:00:00  {'sedeznica': '3/5', 'vlečnica': '7/9', 'gondo...  73.33  \n",
       "2016-03-06 08:00:00  {'sedeznica': '3/5', 'vlečnica': '7/9', 'gondo...  73.33  \n",
       "2016-03-06 09:00:00  {'sedeznica': '3/5', 'vlečnica': '7/9', 'gondo...  73.33  \n",
       "2016-03-06 10:00:00  {'sedeznica': '3/5', 'vlečnica': '7/9', 'gondo...  73.33  \n",
       "2016-03-06 11:00:00  {'sedeznica': '3/5', 'vlečnica': '7/9', 'gondo...  73.33  \n",
       "2016-03-06 12:00:00  {'sedeznica': '3/5', 'vlečnica': '7/9', 'gondo...  73.33  \n",
       "2016-03-06 13:00:00  {'sedeznica': '3/5', 'vlečnica': '7/9', 'gondo...  73.33  \n",
       "2016-03-06 14:00:00  {'sedeznica': '3/5', 'vlečnica': '7/9', 'gondo...  73.33  \n",
       "2016-03-06 15:00:00  {'sedeznica': '3/5', 'vlečnica': '7/9', 'gondo...  73.33  \n",
       "2016-03-06 16:00:00  {'sedeznica': '3/5', 'vlečnica': '7/9', 'gondo...  73.33  \n",
       "2016-03-06 17:00:00  {'sedeznica': '3/5', 'vlečnica': '7/9', 'gondo...  73.33  \n",
       "2016-03-06 18:00:00  {'sedeznica': '3/5', 'vlečnica': '7/9', 'gondo...  73.33  \n",
       "2016-03-06 19:00:00  {'sedeznica': '3/5', 'vlečnica': '7/9', 'gondo...  73.33  \n",
       "2016-03-06 20:00:00  {'sedeznica': '3/5', 'vlečnica': '7/9', 'gondo...  73.33  \n",
       "2016-03-06 21:00:00  {'sedeznica': '3/5', 'vlečnica': '7/9', 'gondo...  73.33  \n",
       "2016-03-06 22:00:00  {'sedeznica': '3/5', 'vlečnica': '7/9', 'gondo...  73.33  \n",
       "2016-03-06 23:00:00  {'sedeznica': '3/5', 'vlečnica': '7/9', 'gondo...  73.33  \n",
       "2016-03-07 00:00:00  {'sedeznica': '3/5', 'vlečnica': '7/9', 'gondo...  73.33  \n",
       "2016-03-07 06:00:00  {'sedeznica': '3/5', 'vlečnica': '7/9', 'gondo...  73.33  \n",
       "2016-03-07 07:00:00  {'sedeznica': '3/5', 'vlečnica': '7/9', 'gondo...  73.33  \n",
       "2016-03-07 08:00:00  {'sedeznica': '3/5', 'vlečnica': '7/9', 'gondo...  73.33  \n",
       "2016-03-07 09:00:00  {'sedeznica': '3/5', 'vlečnica': '7/9', 'gondo...  73.33  \n",
       "2016-03-07 10:00:00  {'sedeznica': '3/5', 'vlečnica': '7/9', 'gondo...  73.33  \n",
       "2016-03-07 11:00:00  {'sedeznica': '3/5', 'vlečnica': '7/9', 'gondo...  73.33  \n",
       "2016-03-07 12:00:00  {'sedeznica': '3/5', 'vlečnica': '7/9', 'gondo...  73.33  \n",
       "2016-03-07 13:00:00  {'sedeznica': '3/5', 'vlečnica': '7/9', 'gondo...  73.33  \n",
       "2016-03-07 14:00:00  {'sedeznica': '3/5', 'vlečnica': '7/9', 'gondo...  73.33  \n",
       "2016-03-07 15:00:00  {'sedeznica': '3/5', 'vlečnica': '7/9', 'gondo...  73.33  \n",
       "2016-03-07 16:00:00  {'sedeznica': '3/5', 'vlečnica': '7/9', 'gondo...  73.33  \n",
       "\n",
       "[528 rows x 9 columns]"
      ]
     },
     "execution_count": 362,
     "metadata": {},
     "output_type": "execute_result"
    }
   ],
   "source": [
    "MariborskoPohorje"
   ]
  },
  {
   "cell_type": "code",
   "execution_count": 364,
   "metadata": {
    "collapsed": false
   },
   "outputs": [
    {
     "data": {
      "text/plain": [
       "<matplotlib.axes._subplots.AxesSubplot at 0x10c803d30>"
      ]
     },
     "execution_count": 364,
     "metadata": {},
     "output_type": "execute_result"
    },
    {
     "data": {
      "image/png": "[encoded data removed]",
      "text/plain": [
       "<matplotlib.figure.Figure at 0x10c6fde80>"
      ]
     },
     "metadata": {},
     "output_type": "display_data"
    }
   ],
   "source": [
    "MariborskoPohorje[['temperatura','sneg','odprto','proge']].plot()"
   ]
  },
  {
   "cell_type": "markdown",
   "metadata": {},
   "source": [
    "primer ene ure:"
   ]
  },
  {
   "cell_type": "code",
   "execution_count": 365,
   "metadata": {
    "collapsed": false,
    "scrolled": true
   },
   "outputs": [
    {
     "data": {
      "text/plain": [
       "smucisce                                       MariborskoPohorje\n",
       "datum                                                 2016-02-08\n",
       "vreme                                                     sončno\n",
       "temperatura                                                    4\n",
       "sneg                                                          55\n",
       "obratovanje                                  {('9.00', '16.00')}\n",
       "odprto                                                         7\n",
       "sedeznice      {'sedeznica': '4/5', 'vlečnica': '4/9', 'gondo...\n",
       "proge                                                         60\n",
       "Name: 2016-02-08 06:00:00, dtype: object"
      ]
     },
     "execution_count": 365,
     "metadata": {},
     "output_type": "execute_result"
    }
   ],
   "source": [
    "MariborskoPohorje.iloc[9]"
   ]
  },
  {
   "cell_type": "markdown",
   "metadata": {},
   "source": [
    "### 1.2.1. povprečne vrednosti po dnevih"
   ]
  },
  {
   "cell_type": "code",
   "execution_count": 366,
   "metadata": {
    "collapsed": false,
    "scrolled": true
   },
   "outputs": [
    {
     "data": {
      "text/html": [
       "<div>\n",
       "<table border=\"1\" class=\"dataframe\">\n",
       "  <thead>\n",
       "    <tr style=\"text-align: right;\">\n",
       "      <th></th>\n",
       "      <th>temperatura</th>\n",
       "      <th>sneg</th>\n",
       "      <th>odprto</th>\n",
       "      <th>proge</th>\n",
       "    </tr>\n",
       "    <tr>\n",
       "      <th>datum</th>\n",
       "      <th></th>\n",
       "      <th></th>\n",
       "      <th></th>\n",
       "      <th></th>\n",
       "    </tr>\n",
       "  </thead>\n",
       "  <tbody>\n",
       "    <tr>\n",
       "      <th>2016-02-06</th>\n",
       "      <td>1.000000</td>\n",
       "      <td>55.000000</td>\n",
       "      <td>10</td>\n",
       "      <td>60.000000</td>\n",
       "    </tr>\n",
       "    <tr>\n",
       "      <th>2016-02-07</th>\n",
       "      <td>3.000000</td>\n",
       "      <td>55.000000</td>\n",
       "      <td>10</td>\n",
       "      <td>53.330000</td>\n",
       "    </tr>\n",
       "    <tr>\n",
       "      <th>2016-02-08</th>\n",
       "      <td>4.000000</td>\n",
       "      <td>55.000000</td>\n",
       "      <td>7</td>\n",
       "      <td>58.517778</td>\n",
       "    </tr>\n",
       "    <tr>\n",
       "      <th>2016-02-09</th>\n",
       "      <td>3.000000</td>\n",
       "      <td>45.000000</td>\n",
       "      <td>7</td>\n",
       "      <td>60.000000</td>\n",
       "    </tr>\n",
       "    <tr>\n",
       "      <th>2016-02-10</th>\n",
       "      <td>-2.722222</td>\n",
       "      <td>53.888889</td>\n",
       "      <td>7</td>\n",
       "      <td>41.851667</td>\n",
       "    </tr>\n",
       "  </tbody>\n",
       "</table>\n",
       "</div>"
      ],
      "text/plain": [
       "            temperatura       sneg  odprto      proge\n",
       "datum                                                \n",
       "2016-02-06     1.000000  55.000000      10  60.000000\n",
       "2016-02-07     3.000000  55.000000      10  53.330000\n",
       "2016-02-08     4.000000  55.000000       7  58.517778\n",
       "2016-02-09     3.000000  45.000000       7  60.000000\n",
       "2016-02-10    -2.722222  53.888889       7  41.851667"
      ]
     },
     "execution_count": 366,
     "metadata": {},
     "output_type": "execute_result"
    }
   ],
   "source": [
    "MariborskoPohorje.groupby('datum').mean().head()"
   ]
  },
  {
   "cell_type": "code",
   "execution_count": 367,
   "metadata": {
    "collapsed": false
   },
   "outputs": [
    {
     "data": {
      "text/plain": [
       "<matplotlib.axes._subplots.AxesSubplot at 0x11573db70>"
      ]
     },
     "execution_count": 367,
     "metadata": {},
     "output_type": "execute_result"
    },
    {
     "data": {
      "image/png": "[encoded data removed]",
      "text/plain": [
       "<matplotlib.figure.Figure at 0x11572c7f0>"
      ]
     },
     "metadata": {},
     "output_type": "display_data"
    }
   ],
   "source": [
    "MariborskoPohorje.groupby('datum').mean().plot()"
   ]
  },
  {
   "cell_type": "markdown",
   "metadata": {},
   "source": [
    "V tem primeru že lahko sklepamo na manjšo povezavo med temperaturo in odprtimi progami (mogoče tudi s količino snega)"
   ]
  },
  {
   "cell_type": "markdown",
   "metadata": {},
   "source": [
    "### 1.2.2. tempretatura"
   ]
  },
  {
   "cell_type": "code",
   "execution_count": 368,
   "metadata": {
    "collapsed": false
   },
   "outputs": [
    {
     "data": {
      "text/plain": [
       "<matplotlib.axes._subplots.AxesSubplot at 0x115b37c18>"
      ]
     },
     "execution_count": 368,
     "metadata": {},
     "output_type": "execute_result"
    },
    {
     "data": {
      "image/png": "[encoded data removed]",
      "text/plain": [
       "<matplotlib.figure.Figure at 0x1160709e8>"
      ]
     },
     "metadata": {},
     "output_type": "display_data"
    }
   ],
   "source": [
    "MariborskoPohorje['temperatura'].plot(color='green')"
   ]
  },
  {
   "cell_type": "markdown",
   "metadata": {},
   "source": [
    "Minimalna in maksimalna temperatura v opazovalnem obdobju:"
   ]
  },
  {
   "cell_type": "code",
   "execution_count": 369,
   "metadata": {
    "collapsed": false
   },
   "outputs": [
    {
     "data": {
      "text/plain": [
       "-5"
      ]
     },
     "execution_count": 369,
     "metadata": {},
     "output_type": "execute_result"
    }
   ],
   "source": [
    "MariborskoPohorje['temperatura'].min()"
   ]
  },
  {
   "cell_type": "code",
   "execution_count": 370,
   "metadata": {
    "collapsed": false
   },
   "outputs": [
    {
     "data": {
      "text/plain": [
       "8"
      ]
     },
     "execution_count": 370,
     "metadata": {},
     "output_type": "execute_result"
    }
   ],
   "source": [
    "MariborskoPohorje['temperatura'].max()"
   ]
  },
  {
   "cell_type": "markdown",
   "metadata": {},
   "source": [
    "### 1.2.3. količina snega (v cm)"
   ]
  },
  {
   "cell_type": "code",
   "execution_count": 371,
   "metadata": {
    "collapsed": false
   },
   "outputs": [
    {
     "data": {
      "text/plain": [
       "<matplotlib.axes._subplots.AxesSubplot at 0x1160aacc0>"
      ]
     },
     "execution_count": 371,
     "metadata": {},
     "output_type": "execute_result"
    },
    {
     "data": {
      "image/png": "[encoded data removed]",
      "text/plain": [
       "<matplotlib.figure.Figure at 0x116959358>"
      ]
     },
     "metadata": {},
     "output_type": "display_data"
    }
   ],
   "source": [
    "MariborskoPohorje['sneg'].plot(color='green')"
   ]
  },
  {
   "cell_type": "code",
   "execution_count": 372,
   "metadata": {
    "collapsed": false
   },
   "outputs": [
    {
     "data": {
      "text/plain": [
       "5"
      ]
     },
     "execution_count": 372,
     "metadata": {},
     "output_type": "execute_result"
    }
   ],
   "source": [
    "MariborskoPohorje['sneg'].min()"
   ]
  },
  {
   "cell_type": "code",
   "execution_count": 373,
   "metadata": {
    "collapsed": false
   },
   "outputs": [
    {
     "data": {
      "text/plain": [
       "65"
      ]
     },
     "execution_count": 373,
     "metadata": {},
     "output_type": "execute_result"
    }
   ],
   "source": [
    "MariborskoPohorje['sneg'].max()"
   ]
  },
  {
   "cell_type": "markdown",
   "metadata": {},
   "source": [
    "### 1.2.4. obratovalni čas smučišča v urah "
   ]
  },
  {
   "cell_type": "code",
   "execution_count": 375,
   "metadata": {
    "collapsed": false,
    "scrolled": true
   },
   "outputs": [
    {
     "data": {
      "text/plain": [
       "10.0"
      ]
     },
     "execution_count": 375,
     "metadata": {},
     "output_type": "execute_result"
    }
   ],
   "source": [
    "MariborskoPohorje['odprto'].max()"
   ]
  },
  {
   "cell_type": "code",
   "execution_count": 376,
   "metadata": {
    "collapsed": false
   },
   "outputs": [
    {
     "data": {
      "text/plain": [
       "3.0"
      ]
     },
     "execution_count": 376,
     "metadata": {},
     "output_type": "execute_result"
    }
   ],
   "source": [
    "MariborskoPohorje['odprto'].min()"
   ]
  },
  {
   "cell_type": "markdown",
   "metadata": {},
   "source": [
    "### 1.2.5. število odprtih prog (v procentih)"
   ]
  },
  {
   "cell_type": "code",
   "execution_count": 377,
   "metadata": {
    "collapsed": false
   },
   "outputs": [
    {
     "data": {
      "text/plain": [
       "<matplotlib.axes._subplots.AxesSubplot at 0x1170136a0>"
      ]
     },
     "execution_count": 377,
     "metadata": {},
     "output_type": "execute_result"
    },
    {
     "data": {
      "image/png": "[encoded data removed]",
      "text/plain": [
       "<matplotlib.figure.Figure at 0x11701d710>"
      ]
     },
     "metadata": {},
     "output_type": "display_data"
    }
   ],
   "source": [
    "MariborskoPohorje['proge'].plot(color='green')"
   ]
  },
  {
   "cell_type": "code",
   "execution_count": 378,
   "metadata": {
    "collapsed": false
   },
   "outputs": [
    {
     "data": {
      "text/plain": [
       "0.0"
      ]
     },
     "execution_count": 378,
     "metadata": {},
     "output_type": "execute_result"
    }
   ],
   "source": [
    "MariborskoPohorje['proge'].min()"
   ]
  },
  {
   "cell_type": "code",
   "execution_count": 379,
   "metadata": {
    "collapsed": false
   },
   "outputs": [
    {
     "data": {
      "text/plain": [
       "73.329999999999998"
      ]
     },
     "execution_count": 379,
     "metadata": {},
     "output_type": "execute_result"
    }
   ],
   "source": [
    "MariborskoPohorje['proge'].max()"
   ]
  },
  {
   "cell_type": "markdown",
   "metadata": {},
   "source": [
    "Podobno analizo bi lahko naredili tudi za ostala smučišča, vendar zaradi bolše preglednosti to izpustimo."
   ]
  },
  {
   "cell_type": "markdown",
   "metadata": {},
   "source": [
    "# 2. Primerjava med smučišči "
   ]
  },
  {
   "cell_type": "markdown",
   "metadata": {},
   "source": [
    "V ta namen smo pripravili datoteko Skupna.csv"
   ]
  },
  {
   "cell_type": "code",
   "execution_count": 380,
   "metadata": {
    "collapsed": false
   },
   "outputs": [
    {
     "data": {
      "text/html": [
       "<div>\n",
       "<table border=\"1\" class=\"dataframe\">\n",
       "  <thead>\n",
       "    <tr style=\"text-align: right;\">\n",
       "      <th></th>\n",
       "      <th>smucisce</th>\n",
       "      <th>datum</th>\n",
       "      <th>vreme</th>\n",
       "      <th>temperatura</th>\n",
       "      <th>sneg</th>\n",
       "      <th>obratovanje</th>\n",
       "      <th>odprto</th>\n",
       "      <th>sedeznice</th>\n",
       "      <th>proge</th>\n",
       "    </tr>\n",
       "    <tr>\n",
       "      <th>cas</th>\n",
       "      <th></th>\n",
       "      <th></th>\n",
       "      <th></th>\n",
       "      <th></th>\n",
       "      <th></th>\n",
       "      <th></th>\n",
       "      <th></th>\n",
       "      <th></th>\n",
       "      <th></th>\n",
       "    </tr>\n",
       "  </thead>\n",
       "  <tbody>\n",
       "    <tr>\n",
       "      <th>2016-02-06 16:14:00</th>\n",
       "      <td>RTCKrvavec</td>\n",
       "      <td>2016-02-06</td>\n",
       "      <td>sončno</td>\n",
       "      <td>0</td>\n",
       "      <td>55</td>\n",
       "      <td>{('8.00', '16.00')}</td>\n",
       "      <td>8.0</td>\n",
       "      <td>{'sedeznica': '7/7', 'vlečnica': '3/5', 'gondo...</td>\n",
       "      <td>84.62</td>\n",
       "    </tr>\n",
       "    <tr>\n",
       "      <th>2016-02-06 16:14:00</th>\n",
       "      <td>MariborskoPohorje</td>\n",
       "      <td>2016-02-06</td>\n",
       "      <td>sončno</td>\n",
       "      <td>1</td>\n",
       "      <td>55</td>\n",
       "      <td>{('9.00', '16.00'), ('18.00', '21.00')}</td>\n",
       "      <td>10.0</td>\n",
       "      <td>{'sedeznica': '4/5', 'vlečnica': '4/9', 'gondo...</td>\n",
       "      <td>60.00</td>\n",
       "    </tr>\n",
       "    <tr>\n",
       "      <th>2016-02-06 16:14:00</th>\n",
       "      <td>Rogla</td>\n",
       "      <td>2016-02-06</td>\n",
       "      <td>sončno</td>\n",
       "      <td>0</td>\n",
       "      <td>55</td>\n",
       "      <td>{('17.00', '21.00'), ('9.00', '16.00')}</td>\n",
       "      <td>11.0</td>\n",
       "      <td>{'sedeznica': '2/2', 'vlečnica': '9/10'}</td>\n",
       "      <td>91.67</td>\n",
       "    </tr>\n",
       "    <tr>\n",
       "      <th>2016-02-06 16:14:00</th>\n",
       "      <td>RTCKranjskaGora</td>\n",
       "      <td>2016-02-06</td>\n",
       "      <td>sončno</td>\n",
       "      <td>1</td>\n",
       "      <td>40</td>\n",
       "      <td>{('19.00', '22.00'), ('9.00', '16.00')}</td>\n",
       "      <td>10.0</td>\n",
       "      <td>{'park': '1/2', 'vlečnica': '8/13', 'sedeznica...</td>\n",
       "      <td>65.00</td>\n",
       "    </tr>\n",
       "    <tr>\n",
       "      <th>2016-02-06 16:14:00</th>\n",
       "      <td>SCCerkno</td>\n",
       "      <td>2016-02-06</td>\n",
       "      <td>sončno</td>\n",
       "      <td>-2</td>\n",
       "      <td>55</td>\n",
       "      <td>{('9.00', '16.00')}</td>\n",
       "      <td>7.0</td>\n",
       "      <td>{'sedeznica': '4/5', 'vlečnica': '2/2'}</td>\n",
       "      <td>85.71</td>\n",
       "    </tr>\n",
       "    <tr>\n",
       "      <th>2016-02-06 16:14:00</th>\n",
       "      <td>ŽičniceVogel</td>\n",
       "      <td>2016-02-06</td>\n",
       "      <td>sončno</td>\n",
       "      <td>0</td>\n",
       "      <td>50</td>\n",
       "      <td>{('8.00', '16.00')}</td>\n",
       "      <td>8.0</td>\n",
       "      <td>{'sedeznica': '2/4', 'vlečnica': '2/4', 'gondo...</td>\n",
       "      <td>55.56</td>\n",
       "    </tr>\n",
       "    <tr>\n",
       "      <th>2016-02-06 16:14:00</th>\n",
       "      <td>Soriškaplanina</td>\n",
       "      <td>2016-02-06</td>\n",
       "      <td>sončno</td>\n",
       "      <td>0</td>\n",
       "      <td>25</td>\n",
       "      <td>{('9.00', '16.00')}</td>\n",
       "      <td>7.0</td>\n",
       "      <td>{'vlečnica': '2/4'}</td>\n",
       "      <td>50.00</td>\n",
       "    </tr>\n",
       "    <tr>\n",
       "      <th>2016-02-06 16:14:00</th>\n",
       "      <td>GTCKope</td>\n",
       "      <td>2016-02-06</td>\n",
       "      <td>pretežno jasno</td>\n",
       "      <td>3</td>\n",
       "      <td>45</td>\n",
       "      <td>{('9.00', '16.00'), ('18.00', '22.00')}</td>\n",
       "      <td>11.0</td>\n",
       "      <td>{'sedeznica': '2/2', 'vlečnica': '5/6'}</td>\n",
       "      <td>87.50</td>\n",
       "    </tr>\n",
       "    <tr>\n",
       "      <th>2016-02-06 16:14:00</th>\n",
       "      <td>RTCGolte</td>\n",
       "      <td>2016-02-06</td>\n",
       "      <td>sončno</td>\n",
       "      <td>0</td>\n",
       "      <td>40</td>\n",
       "      <td>{('9.00', '16.00')}</td>\n",
       "      <td>7.0</td>\n",
       "      <td>{'sedeznica': '3/3', 'vlečnica': '2/3', 'gondo...</td>\n",
       "      <td>85.71</td>\n",
       "    </tr>\n",
       "    <tr>\n",
       "      <th>2016-02-06 16:14:00</th>\n",
       "      <td>STCStarivrh</td>\n",
       "      <td>2016-02-06</td>\n",
       "      <td>sončno</td>\n",
       "      <td>-1</td>\n",
       "      <td>35</td>\n",
       "      <td>{('19.00', '22.00'), ('9.00', '16.00')}</td>\n",
       "      <td>10.0</td>\n",
       "      <td>{'sedeznica': '1/1', 'vlečnica': '1/3'}</td>\n",
       "      <td>50.00</td>\n",
       "    </tr>\n",
       "    <tr>\n",
       "      <th>2016-02-06 16:14:00</th>\n",
       "      <td>StražaBled</td>\n",
       "      <td>2016-02-06</td>\n",
       "      <td>sončno</td>\n",
       "      <td>2</td>\n",
       "      <td>25</td>\n",
       "      <td>{('17.00', '20.00')}</td>\n",
       "      <td>3.0</td>\n",
       "      <td>{'sedeznica': '1/1', 'vlečnica': '2/2'}</td>\n",
       "      <td>100.00</td>\n",
       "    </tr>\n",
       "    <tr>\n",
       "      <th>2016-02-06 16:14:00</th>\n",
       "      <td>TrijeKralji</td>\n",
       "      <td>2016-02-06</td>\n",
       "      <td>sončno</td>\n",
       "      <td>-1</td>\n",
       "      <td>50</td>\n",
       "      <td>{('9.00', '16.00')}</td>\n",
       "      <td>7.0</td>\n",
       "      <td>{'vlečnica': '2/2'}</td>\n",
       "      <td>100.00</td>\n",
       "    </tr>\n",
       "    <tr>\n",
       "      <th>2016-02-06 16:14:00</th>\n",
       "      <td>Celjskakoča</td>\n",
       "      <td>2016-02-06</td>\n",
       "      <td>delno jasno</td>\n",
       "      <td>0</td>\n",
       "      <td>30</td>\n",
       "      <td>{('9.00', '21.00'), ('17.00', '21.00')}</td>\n",
       "      <td>16.0</td>\n",
       "      <td>{'vlečnica': '2/3'}</td>\n",
       "      <td>66.67</td>\n",
       "    </tr>\n",
       "    <tr>\n",
       "      <th>2016-02-06 16:14:00</th>\n",
       "      <td>RibnicanaPohorju</td>\n",
       "      <td>2016-02-06</td>\n",
       "      <td>pretežno oblačno</td>\n",
       "      <td>0</td>\n",
       "      <td>45</td>\n",
       "      <td>{('9.00', '16.00'), ('18.00', '21.00')}</td>\n",
       "      <td>10.0</td>\n",
       "      <td>{'vlečnica': '4/4'}</td>\n",
       "      <td>100.00</td>\n",
       "    </tr>\n",
       "    <tr>\n",
       "      <th>2016-02-06 16:14:00</th>\n",
       "      <td>SKIBorČrnivrh</td>\n",
       "      <td>2016-02-06</td>\n",
       "      <td>pretežno jasno</td>\n",
       "      <td>0</td>\n",
       "      <td>5</td>\n",
       "      <td>set()</td>\n",
       "      <td>0.0</td>\n",
       "      <td>{}</td>\n",
       "      <td>0.00</td>\n",
       "    </tr>\n",
       "    <tr>\n",
       "      <th>2016-02-06 16:14:00</th>\n",
       "      <td>ŠCRudno</td>\n",
       "      <td>2016-02-06</td>\n",
       "      <td>sončno</td>\n",
       "      <td>-3</td>\n",
       "      <td>45</td>\n",
       "      <td>{('9.00', '17.00')}</td>\n",
       "      <td>8.0</td>\n",
       "      <td>{'vlečnica': '1/1'}</td>\n",
       "      <td>100.00</td>\n",
       "    </tr>\n",
       "    <tr>\n",
       "      <th>2016-02-06 16:14:00</th>\n",
       "      <td>Bukovnik</td>\n",
       "      <td>2016-02-06</td>\n",
       "      <td>sončno</td>\n",
       "      <td>-3</td>\n",
       "      <td>40</td>\n",
       "      <td>{('17.00', '21.00'), ('9.00', '13.00')}</td>\n",
       "      <td>8.0</td>\n",
       "      <td>{'vlečnica': '1/1'}</td>\n",
       "      <td>100.00</td>\n",
       "    </tr>\n",
       "    <tr>\n",
       "      <th>2016-02-06 16:14:00</th>\n",
       "      <td>Šentjošt</td>\n",
       "      <td>2016-02-06</td>\n",
       "      <td>sončno</td>\n",
       "      <td>6</td>\n",
       "      <td>0</td>\n",
       "      <td>set()</td>\n",
       "      <td>0.0</td>\n",
       "      <td>{}</td>\n",
       "      <td>0.00</td>\n",
       "    </tr>\n",
       "    <tr>\n",
       "      <th>2016-02-07 16:05:00</th>\n",
       "      <td>RTCKrvavec</td>\n",
       "      <td>2016-02-07</td>\n",
       "      <td>pretežno oblačno, vetrovno</td>\n",
       "      <td>-2</td>\n",
       "      <td>55</td>\n",
       "      <td>{('8.00', '16.00')}</td>\n",
       "      <td>8.0</td>\n",
       "      <td>{'sedeznica': '3/7', 'vlečnica': '3/5', 'gondo...</td>\n",
       "      <td>53.85</td>\n",
       "    </tr>\n",
       "    <tr>\n",
       "      <th>2016-02-07 16:05:00</th>\n",
       "      <td>MariborskoPohorje</td>\n",
       "      <td>2016-02-07</td>\n",
       "      <td>sončno</td>\n",
       "      <td>3</td>\n",
       "      <td>55</td>\n",
       "      <td>{('9.00', '16.00'), ('18.00', '21.00')}</td>\n",
       "      <td>10.0</td>\n",
       "      <td>{'sedeznica': '3/5', 'vlečnica': '4/9', 'gondo...</td>\n",
       "      <td>53.33</td>\n",
       "    </tr>\n",
       "    <tr>\n",
       "      <th>2016-02-07 16:05:00</th>\n",
       "      <td>Rogla</td>\n",
       "      <td>2016-02-07</td>\n",
       "      <td>pretežno oblačno</td>\n",
       "      <td>-1</td>\n",
       "      <td>55</td>\n",
       "      <td>{('17.00', '21.00'), ('9.00', '16.00')}</td>\n",
       "      <td>11.0</td>\n",
       "      <td>{'sedeznica': '2/2', 'vlečnica': '9/10'}</td>\n",
       "      <td>91.67</td>\n",
       "    </tr>\n",
       "    <tr>\n",
       "      <th>2016-02-07 16:05:00</th>\n",
       "      <td>RTCKranjskaGora</td>\n",
       "      <td>2016-02-07</td>\n",
       "      <td>delno jasno</td>\n",
       "      <td>6</td>\n",
       "      <td>40</td>\n",
       "      <td>{('19.00', '22.00'), ('9.00', '16.00')}</td>\n",
       "      <td>10.0</td>\n",
       "      <td>{'park': '1/2', 'vlečnica': '8/13', 'sedeznica...</td>\n",
       "      <td>65.00</td>\n",
       "    </tr>\n",
       "    <tr>\n",
       "      <th>2016-02-07 16:05:00</th>\n",
       "      <td>SCCerkno</td>\n",
       "      <td>2016-02-07</td>\n",
       "      <td>oblačno</td>\n",
       "      <td>0</td>\n",
       "      <td>55</td>\n",
       "      <td>{('9.00', '16.00')}</td>\n",
       "      <td>7.0</td>\n",
       "      <td>{'sedeznica': '4/5', 'vlečnica': '2/2'}</td>\n",
       "      <td>85.71</td>\n",
       "    </tr>\n",
       "    <tr>\n",
       "      <th>2016-02-07 16:05:00</th>\n",
       "      <td>ŽičniceVogel</td>\n",
       "      <td>2016-02-07</td>\n",
       "      <td>oblačno, rahlo sneži, vetrovno</td>\n",
       "      <td>-1</td>\n",
       "      <td>50</td>\n",
       "      <td>{('8.30', '16.00')}</td>\n",
       "      <td>7.5</td>\n",
       "      <td>{'sedeznica': '2/4', 'vlečnica': '2/4', 'gondo...</td>\n",
       "      <td>55.56</td>\n",
       "    </tr>\n",
       "    <tr>\n",
       "      <th>2016-02-07 16:05:00</th>\n",
       "      <td>Soriškaplanina</td>\n",
       "      <td>2016-02-07</td>\n",
       "      <td>pretežno oblačno</td>\n",
       "      <td>0</td>\n",
       "      <td>25</td>\n",
       "      <td>{('9.00', '16.00')}</td>\n",
       "      <td>7.0</td>\n",
       "      <td>{'vlečnica': '2/4'}</td>\n",
       "      <td>50.00</td>\n",
       "    </tr>\n",
       "    <tr>\n",
       "      <th>2016-02-07 16:05:00</th>\n",
       "      <td>GTCKope</td>\n",
       "      <td>2016-02-07</td>\n",
       "      <td>oblačno</td>\n",
       "      <td>-1</td>\n",
       "      <td>45</td>\n",
       "      <td>{('9.00', '16.00')}</td>\n",
       "      <td>7.0</td>\n",
       "      <td>{'vlečnica': '2/6'}</td>\n",
       "      <td>33.33</td>\n",
       "    </tr>\n",
       "    <tr>\n",
       "      <th>2016-02-07 16:05:00</th>\n",
       "      <td>RTCGolte</td>\n",
       "      <td>2016-02-07</td>\n",
       "      <td>oblačno, vetrovno</td>\n",
       "      <td>0</td>\n",
       "      <td>40</td>\n",
       "      <td>{('9.00', '16.00')}</td>\n",
       "      <td>7.0</td>\n",
       "      <td>{'sedeznica': '3/3', 'vlečnica': '2/3', 'gondo...</td>\n",
       "      <td>85.71</td>\n",
       "    </tr>\n",
       "    <tr>\n",
       "      <th>2016-02-07 16:05:00</th>\n",
       "      <td>STCStarivrh</td>\n",
       "      <td>2016-02-07</td>\n",
       "      <td>oblačno</td>\n",
       "      <td>4</td>\n",
       "      <td>35</td>\n",
       "      <td>{('9.00', '16.00')}</td>\n",
       "      <td>7.0</td>\n",
       "      <td>{'sedeznica': '1/1', 'vlečnica': '1/3'}</td>\n",
       "      <td>50.00</td>\n",
       "    </tr>\n",
       "    <tr>\n",
       "      <th>2016-02-07 16:05:00</th>\n",
       "      <td>StražaBled</td>\n",
       "      <td>2016-02-07</td>\n",
       "      <td>oblačno</td>\n",
       "      <td>2</td>\n",
       "      <td>25</td>\n",
       "      <td>set()</td>\n",
       "      <td>0.0</td>\n",
       "      <td>{}</td>\n",
       "      <td>0.00</td>\n",
       "    </tr>\n",
       "    <tr>\n",
       "      <th>2016-02-07 16:05:00</th>\n",
       "      <td>TrijeKralji</td>\n",
       "      <td>2016-02-07</td>\n",
       "      <td>sončno</td>\n",
       "      <td>-1</td>\n",
       "      <td>50</td>\n",
       "      <td>{('9.00', '16.00')}</td>\n",
       "      <td>7.0</td>\n",
       "      <td>{'vlečnica': '2/2'}</td>\n",
       "      <td>100.00</td>\n",
       "    </tr>\n",
       "    <tr>\n",
       "      <th>...</th>\n",
       "      <td>...</td>\n",
       "      <td>...</td>\n",
       "      <td>...</td>\n",
       "      <td>...</td>\n",
       "      <td>...</td>\n",
       "      <td>...</td>\n",
       "      <td>...</td>\n",
       "      <td>...</td>\n",
       "      <td>...</td>\n",
       "    </tr>\n",
       "    <tr>\n",
       "      <th>2016-03-07 14:00:00</th>\n",
       "      <td>RibnicanaPohorju</td>\n",
       "      <td>2016-03-07</td>\n",
       "      <td>sneži</td>\n",
       "      <td>0</td>\n",
       "      <td>10</td>\n",
       "      <td>{('9.00', '16.00'), ('18.00', '21.00')}</td>\n",
       "      <td>10.0</td>\n",
       "      <td>{'vlečnica': '4/4'}</td>\n",
       "      <td>100.00</td>\n",
       "    </tr>\n",
       "    <tr>\n",
       "      <th>2016-03-07 14:00:00</th>\n",
       "      <td>ŠCRudno</td>\n",
       "      <td>2016-03-07</td>\n",
       "      <td>sneži</td>\n",
       "      <td>1</td>\n",
       "      <td>45</td>\n",
       "      <td>{('16.00', '19.00'), ('15.00', '19.00')}</td>\n",
       "      <td>7.0</td>\n",
       "      <td>{'vlečnica': '1/1'}</td>\n",
       "      <td>100.00</td>\n",
       "    </tr>\n",
       "    <tr>\n",
       "      <th>2016-03-07 15:00:00</th>\n",
       "      <td>RTCKrvavec</td>\n",
       "      <td>2016-03-07</td>\n",
       "      <td>sneži</td>\n",
       "      <td>-3</td>\n",
       "      <td>20</td>\n",
       "      <td>{('8.00', '16.00')}</td>\n",
       "      <td>8.0</td>\n",
       "      <td>{'sedeznica': '5/7', 'vlečnica': '3/5', 'gondo...</td>\n",
       "      <td>69.23</td>\n",
       "    </tr>\n",
       "    <tr>\n",
       "      <th>2016-03-07 15:00:00</th>\n",
       "      <td>MariborskoPohorje</td>\n",
       "      <td>2016-03-07</td>\n",
       "      <td>sneži</td>\n",
       "      <td>-3</td>\n",
       "      <td>10</td>\n",
       "      <td>{('9.00', '16.00')}</td>\n",
       "      <td>7.0</td>\n",
       "      <td>{'sedeznica': '3/5', 'vlečnica': '7/9', 'gondo...</td>\n",
       "      <td>73.33</td>\n",
       "    </tr>\n",
       "    <tr>\n",
       "      <th>2016-03-07 15:00:00</th>\n",
       "      <td>Rogla</td>\n",
       "      <td>2016-03-07</td>\n",
       "      <td>oblačno, rahlo sneži</td>\n",
       "      <td>-5</td>\n",
       "      <td>15</td>\n",
       "      <td>{('8.30', '16.00')}</td>\n",
       "      <td>7.5</td>\n",
       "      <td>{'sedeznica': '2/2', 'vlečnica': '9/10'}</td>\n",
       "      <td>91.67</td>\n",
       "    </tr>\n",
       "    <tr>\n",
       "      <th>2016-03-07 15:00:00</th>\n",
       "      <td>RTCKranjskaGora</td>\n",
       "      <td>2016-03-07</td>\n",
       "      <td>oblačno, rahlo sneži</td>\n",
       "      <td>0</td>\n",
       "      <td>5</td>\n",
       "      <td>{('9.00', '16.00')}</td>\n",
       "      <td>7.0</td>\n",
       "      <td>{'park': '1/2', 'sedeznica': '5/5', 'vlečnica'...</td>\n",
       "      <td>80.00</td>\n",
       "    </tr>\n",
       "    <tr>\n",
       "      <th>2016-03-07 15:00:00</th>\n",
       "      <td>SCCerkno</td>\n",
       "      <td>2016-03-07</td>\n",
       "      <td>oblačno</td>\n",
       "      <td>1</td>\n",
       "      <td>100</td>\n",
       "      <td>{('9.00', '16.00')}</td>\n",
       "      <td>7.0</td>\n",
       "      <td>{'sedeznica': '3/5', 'vlečnica': '1/2'}</td>\n",
       "      <td>57.14</td>\n",
       "    </tr>\n",
       "    <tr>\n",
       "      <th>2016-03-07 15:00:00</th>\n",
       "      <td>ŽičniceVogel</td>\n",
       "      <td>2016-03-07</td>\n",
       "      <td>oblačno, rahlo sneži, vetrovno</td>\n",
       "      <td>-2</td>\n",
       "      <td>10</td>\n",
       "      <td>{('8.30', '16.00')}</td>\n",
       "      <td>7.5</td>\n",
       "      <td>{'sedeznica': '4/4', 'vlečnica': '4/4', 'gondo...</td>\n",
       "      <td>100.00</td>\n",
       "    </tr>\n",
       "    <tr>\n",
       "      <th>2016-03-07 15:00:00</th>\n",
       "      <td>Soriškaplanina</td>\n",
       "      <td>2016-03-07</td>\n",
       "      <td>oblačno, sneži, vetrovno</td>\n",
       "      <td>-1</td>\n",
       "      <td>120</td>\n",
       "      <td>{('9.00', '16.00')}</td>\n",
       "      <td>7.0</td>\n",
       "      <td>{'vlečnica': '3/4'}</td>\n",
       "      <td>75.00</td>\n",
       "    </tr>\n",
       "    <tr>\n",
       "      <th>2016-03-07 15:00:00</th>\n",
       "      <td>GTCKope</td>\n",
       "      <td>2016-03-07</td>\n",
       "      <td>oblačno, rahlo sneži</td>\n",
       "      <td>-1</td>\n",
       "      <td>25</td>\n",
       "      <td>{('9.00', '16.00')}</td>\n",
       "      <td>7.0</td>\n",
       "      <td>{'sedeznica': '2/2', 'vlečnica': '6/6'}</td>\n",
       "      <td>100.00</td>\n",
       "    </tr>\n",
       "    <tr>\n",
       "      <th>2016-03-07 15:00:00</th>\n",
       "      <td>RTCGolte</td>\n",
       "      <td>2016-03-07</td>\n",
       "      <td>oblačno</td>\n",
       "      <td>-3</td>\n",
       "      <td>130</td>\n",
       "      <td>{('9.00', '16.00')}</td>\n",
       "      <td>7.0</td>\n",
       "      <td>{'sedeznica': '3/3', 'vlečnica': '2/3', 'gondo...</td>\n",
       "      <td>85.71</td>\n",
       "    </tr>\n",
       "    <tr>\n",
       "      <th>2016-03-07 15:00:00</th>\n",
       "      <td>STCStarivrh</td>\n",
       "      <td>2016-03-07</td>\n",
       "      <td>sneži</td>\n",
       "      <td>0</td>\n",
       "      <td>40</td>\n",
       "      <td>{('9.00', '13.00')}</td>\n",
       "      <td>4.0</td>\n",
       "      <td>{'sedeznica': '1/1', 'vlečnica': '1/3'}</td>\n",
       "      <td>50.00</td>\n",
       "    </tr>\n",
       "    <tr>\n",
       "      <th>2016-03-07 15:00:00</th>\n",
       "      <td>Celjskakoča</td>\n",
       "      <td>2016-03-07</td>\n",
       "      <td>oblačno</td>\n",
       "      <td>2</td>\n",
       "      <td>10</td>\n",
       "      <td>set()</td>\n",
       "      <td>0.0</td>\n",
       "      <td>{}</td>\n",
       "      <td>0.00</td>\n",
       "    </tr>\n",
       "    <tr>\n",
       "      <th>2016-03-07 15:00:00</th>\n",
       "      <td>MacesnovcRateče</td>\n",
       "      <td>2016-03-07</td>\n",
       "      <td>oblačno, sneži, vetrovno</td>\n",
       "      <td>-1</td>\n",
       "      <td>80</td>\n",
       "      <td>set()</td>\n",
       "      <td>0.0</td>\n",
       "      <td>{}</td>\n",
       "      <td>0.00</td>\n",
       "    </tr>\n",
       "    <tr>\n",
       "      <th>2016-03-07 15:00:00</th>\n",
       "      <td>RibnicanaPohorju</td>\n",
       "      <td>2016-03-07</td>\n",
       "      <td>sneži</td>\n",
       "      <td>0</td>\n",
       "      <td>10</td>\n",
       "      <td>{('9.00', '16.00'), ('18.00', '21.00')}</td>\n",
       "      <td>10.0</td>\n",
       "      <td>{'vlečnica': '4/4'}</td>\n",
       "      <td>100.00</td>\n",
       "    </tr>\n",
       "    <tr>\n",
       "      <th>2016-03-07 15:00:00</th>\n",
       "      <td>ŠCRudno</td>\n",
       "      <td>2016-03-07</td>\n",
       "      <td>sneži</td>\n",
       "      <td>1</td>\n",
       "      <td>45</td>\n",
       "      <td>{('16.00', '19.00')}</td>\n",
       "      <td>3.0</td>\n",
       "      <td>{}</td>\n",
       "      <td>0.00</td>\n",
       "    </tr>\n",
       "    <tr>\n",
       "      <th>2016-03-07 16:00:00</th>\n",
       "      <td>RTCKrvavec</td>\n",
       "      <td>2016-03-07</td>\n",
       "      <td>oblačno, rahlo sneži</td>\n",
       "      <td>-3</td>\n",
       "      <td>20</td>\n",
       "      <td>{('8.00', '16.00')}</td>\n",
       "      <td>8.0</td>\n",
       "      <td>{'sedeznica': '5/7', 'vlečnica': '3/5', 'gondo...</td>\n",
       "      <td>69.23</td>\n",
       "    </tr>\n",
       "    <tr>\n",
       "      <th>2016-03-07 16:00:00</th>\n",
       "      <td>MariborskoPohorje</td>\n",
       "      <td>2016-03-07</td>\n",
       "      <td>sneži</td>\n",
       "      <td>-3</td>\n",
       "      <td>10</td>\n",
       "      <td>{('9.00', '16.00')}</td>\n",
       "      <td>7.0</td>\n",
       "      <td>{'sedeznica': '3/5', 'vlečnica': '7/9', 'gondo...</td>\n",
       "      <td>73.33</td>\n",
       "    </tr>\n",
       "    <tr>\n",
       "      <th>2016-03-07 16:00:00</th>\n",
       "      <td>Rogla</td>\n",
       "      <td>2016-03-07</td>\n",
       "      <td>oblačno, rahlo sneži</td>\n",
       "      <td>-5</td>\n",
       "      <td>15</td>\n",
       "      <td>{('8.30', '16.00')}</td>\n",
       "      <td>7.5</td>\n",
       "      <td>{'sedeznica': '2/2', 'vlečnica': '9/10'}</td>\n",
       "      <td>91.67</td>\n",
       "    </tr>\n",
       "    <tr>\n",
       "      <th>2016-03-07 16:00:00</th>\n",
       "      <td>RTCKranjskaGora</td>\n",
       "      <td>2016-03-07</td>\n",
       "      <td>oblačno, rahlo sneži</td>\n",
       "      <td>0</td>\n",
       "      <td>5</td>\n",
       "      <td>{('9.00', '16.00')}</td>\n",
       "      <td>7.0</td>\n",
       "      <td>{'park': '1/2', 'sedeznica': '5/5', 'vlečnica'...</td>\n",
       "      <td>80.00</td>\n",
       "    </tr>\n",
       "    <tr>\n",
       "      <th>2016-03-07 16:00:00</th>\n",
       "      <td>SCCerkno</td>\n",
       "      <td>2016-03-07</td>\n",
       "      <td>oblačno</td>\n",
       "      <td>1</td>\n",
       "      <td>100</td>\n",
       "      <td>{('9.00', '16.00')}</td>\n",
       "      <td>7.0</td>\n",
       "      <td>{'sedeznica': '3/5', 'vlečnica': '1/2'}</td>\n",
       "      <td>57.14</td>\n",
       "    </tr>\n",
       "    <tr>\n",
       "      <th>2016-03-07 16:00:00</th>\n",
       "      <td>ŽičniceVogel</td>\n",
       "      <td>2016-03-07</td>\n",
       "      <td>oblačno, rahlo sneži, vetrovno</td>\n",
       "      <td>-2</td>\n",
       "      <td>10</td>\n",
       "      <td>{('8.30', '16.00')}</td>\n",
       "      <td>7.5</td>\n",
       "      <td>{'sedeznica': '4/4', 'vlečnica': '4/4', 'gondo...</td>\n",
       "      <td>100.00</td>\n",
       "    </tr>\n",
       "    <tr>\n",
       "      <th>2016-03-07 16:00:00</th>\n",
       "      <td>Soriškaplanina</td>\n",
       "      <td>2016-03-07</td>\n",
       "      <td>oblačno, sneži, vetrovno</td>\n",
       "      <td>-1</td>\n",
       "      <td>120</td>\n",
       "      <td>{('9.00', '16.00')}</td>\n",
       "      <td>7.0</td>\n",
       "      <td>{'vlečnica': '3/4'}</td>\n",
       "      <td>75.00</td>\n",
       "    </tr>\n",
       "    <tr>\n",
       "      <th>2016-03-07 16:00:00</th>\n",
       "      <td>GTCKope</td>\n",
       "      <td>2016-03-07</td>\n",
       "      <td>oblačno, rahlo sneži</td>\n",
       "      <td>-1</td>\n",
       "      <td>25</td>\n",
       "      <td>{('9.00', '16.00')}</td>\n",
       "      <td>7.0</td>\n",
       "      <td>{'sedeznica': '2/2', 'vlečnica': '6/6'}</td>\n",
       "      <td>100.00</td>\n",
       "    </tr>\n",
       "    <tr>\n",
       "      <th>2016-03-07 16:00:00</th>\n",
       "      <td>RTCGolte</td>\n",
       "      <td>2016-03-07</td>\n",
       "      <td>oblačno</td>\n",
       "      <td>-3</td>\n",
       "      <td>130</td>\n",
       "      <td>{('9.00', '16.00')}</td>\n",
       "      <td>7.0</td>\n",
       "      <td>{'sedeznica': '3/3', 'vlečnica': '2/3', 'gondo...</td>\n",
       "      <td>85.71</td>\n",
       "    </tr>\n",
       "    <tr>\n",
       "      <th>2016-03-07 16:00:00</th>\n",
       "      <td>STCStarivrh</td>\n",
       "      <td>2016-03-07</td>\n",
       "      <td>sneži</td>\n",
       "      <td>0</td>\n",
       "      <td>40</td>\n",
       "      <td>{('9.00', '13.00')}</td>\n",
       "      <td>4.0</td>\n",
       "      <td>{'sedeznica': '1/1', 'vlečnica': '1/3'}</td>\n",
       "      <td>50.00</td>\n",
       "    </tr>\n",
       "    <tr>\n",
       "      <th>2016-03-07 16:00:00</th>\n",
       "      <td>Celjskakoča</td>\n",
       "      <td>2016-03-07</td>\n",
       "      <td>oblačno</td>\n",
       "      <td>2</td>\n",
       "      <td>10</td>\n",
       "      <td>set()</td>\n",
       "      <td>0.0</td>\n",
       "      <td>{}</td>\n",
       "      <td>0.00</td>\n",
       "    </tr>\n",
       "    <tr>\n",
       "      <th>2016-03-07 16:00:00</th>\n",
       "      <td>MacesnovcRateče</td>\n",
       "      <td>2016-03-07</td>\n",
       "      <td>oblačno, sneži, vetrovno</td>\n",
       "      <td>-1</td>\n",
       "      <td>80</td>\n",
       "      <td>set()</td>\n",
       "      <td>0.0</td>\n",
       "      <td>{}</td>\n",
       "      <td>0.00</td>\n",
       "    </tr>\n",
       "    <tr>\n",
       "      <th>2016-03-07 16:00:00</th>\n",
       "      <td>RibnicanaPohorju</td>\n",
       "      <td>2016-03-07</td>\n",
       "      <td>sneži</td>\n",
       "      <td>0</td>\n",
       "      <td>10</td>\n",
       "      <td>{('9.00', '16.00'), ('18.00', '21.00')}</td>\n",
       "      <td>10.0</td>\n",
       "      <td>{'vlečnica': '4/4'}</td>\n",
       "      <td>100.00</td>\n",
       "    </tr>\n",
       "    <tr>\n",
       "      <th>2016-03-07 16:00:00</th>\n",
       "      <td>ŠCRudno</td>\n",
       "      <td>2016-03-07</td>\n",
       "      <td>sneži</td>\n",
       "      <td>1</td>\n",
       "      <td>45</td>\n",
       "      <td>{('16.00', '19.00')}</td>\n",
       "      <td>3.0</td>\n",
       "      <td>{}</td>\n",
       "      <td>0.00</td>\n",
       "    </tr>\n",
       "  </tbody>\n",
       "</table>\n",
       "<p>9041 rows × 9 columns</p>\n",
       "</div>"
      ],
      "text/plain": [
       "                              smucisce       datum  \\\n",
       "cas                                                  \n",
       "2016-02-06 16:14:00         RTCKrvavec  2016-02-06   \n",
       "2016-02-06 16:14:00  MariborskoPohorje  2016-02-06   \n",
       "2016-02-06 16:14:00              Rogla  2016-02-06   \n",
       "2016-02-06 16:14:00    RTCKranjskaGora  2016-02-06   \n",
       "2016-02-06 16:14:00           SCCerkno  2016-02-06   \n",
       "2016-02-06 16:14:00       ŽičniceVogel  2016-02-06   \n",
       "2016-02-06 16:14:00     Soriškaplanina  2016-02-06   \n",
       "2016-02-06 16:14:00            GTCKope  2016-02-06   \n",
       "2016-02-06 16:14:00           RTCGolte  2016-02-06   \n",
       "2016-02-06 16:14:00        STCStarivrh  2016-02-06   \n",
       "2016-02-06 16:14:00         StražaBled  2016-02-06   \n",
       "2016-02-06 16:14:00        TrijeKralji  2016-02-06   \n",
       "2016-02-06 16:14:00        Celjskakoča  2016-02-06   \n",
       "2016-02-06 16:14:00   RibnicanaPohorju  2016-02-06   \n",
       "2016-02-06 16:14:00      SKIBorČrnivrh  2016-02-06   \n",
       "2016-02-06 16:14:00            ŠCRudno  2016-02-06   \n",
       "2016-02-06 16:14:00           Bukovnik  2016-02-06   \n",
       "2016-02-06 16:14:00           Šentjošt  2016-02-06   \n",
       "2016-02-07 16:05:00         RTCKrvavec  2016-02-07   \n",
       "2016-02-07 16:05:00  MariborskoPohorje  2016-02-07   \n",
       "2016-02-07 16:05:00              Rogla  2016-02-07   \n",
       "2016-02-07 16:05:00    RTCKranjskaGora  2016-02-07   \n",
       "2016-02-07 16:05:00           SCCerkno  2016-02-07   \n",
       "2016-02-07 16:05:00       ŽičniceVogel  2016-02-07   \n",
       "2016-02-07 16:05:00     Soriškaplanina  2016-02-07   \n",
       "2016-02-07 16:05:00            GTCKope  2016-02-07   \n",
       "2016-02-07 16:05:00           RTCGolte  2016-02-07   \n",
       "2016-02-07 16:05:00        STCStarivrh  2016-02-07   \n",
       "2016-02-07 16:05:00         StražaBled  2016-02-07   \n",
       "2016-02-07 16:05:00        TrijeKralji  2016-02-07   \n",
       "...                                ...         ...   \n",
       "2016-03-07 14:00:00   RibnicanaPohorju  2016-03-07   \n",
       "2016-03-07 14:00:00            ŠCRudno  2016-03-07   \n",
       "2016-03-07 15:00:00         RTCKrvavec  2016-03-07   \n",
       "2016-03-07 15:00:00  MariborskoPohorje  2016-03-07   \n",
       "2016-03-07 15:00:00              Rogla  2016-03-07   \n",
       "2016-03-07 15:00:00    RTCKranjskaGora  2016-03-07   \n",
       "2016-03-07 15:00:00           SCCerkno  2016-03-07   \n",
       "2016-03-07 15:00:00       ŽičniceVogel  2016-03-07   \n",
       "2016-03-07 15:00:00     Soriškaplanina  2016-03-07   \n",
       "2016-03-07 15:00:00            GTCKope  2016-03-07   \n",
       "2016-03-07 15:00:00           RTCGolte  2016-03-07   \n",
       "2016-03-07 15:00:00        STCStarivrh  2016-03-07   \n",
       "2016-03-07 15:00:00        Celjskakoča  2016-03-07   \n",
       "2016-03-07 15:00:00    MacesnovcRateče  2016-03-07   \n",
       "2016-03-07 15:00:00   RibnicanaPohorju  2016-03-07   \n",
       "2016-03-07 15:00:00            ŠCRudno  2016-03-07   \n",
       "2016-03-07 16:00:00         RTCKrvavec  2016-03-07   \n",
       "2016-03-07 16:00:00  MariborskoPohorje  2016-03-07   \n",
       "2016-03-07 16:00:00              Rogla  2016-03-07   \n",
       "2016-03-07 16:00:00    RTCKranjskaGora  2016-03-07   \n",
       "2016-03-07 16:00:00           SCCerkno  2016-03-07   \n",
       "2016-03-07 16:00:00       ŽičniceVogel  2016-03-07   \n",
       "2016-03-07 16:00:00     Soriškaplanina  2016-03-07   \n",
       "2016-03-07 16:00:00            GTCKope  2016-03-07   \n",
       "2016-03-07 16:00:00           RTCGolte  2016-03-07   \n",
       "2016-03-07 16:00:00        STCStarivrh  2016-03-07   \n",
       "2016-03-07 16:00:00        Celjskakoča  2016-03-07   \n",
       "2016-03-07 16:00:00    MacesnovcRateče  2016-03-07   \n",
       "2016-03-07 16:00:00   RibnicanaPohorju  2016-03-07   \n",
       "2016-03-07 16:00:00            ŠCRudno  2016-03-07   \n",
       "\n",
       "                                              vreme  temperatura  sneg  \\\n",
       "cas                                                                      \n",
       "2016-02-06 16:14:00                          sončno            0    55   \n",
       "2016-02-06 16:14:00                          sončno            1    55   \n",
       "2016-02-06 16:14:00                          sončno            0    55   \n",
       "2016-02-06 16:14:00                          sončno            1    40   \n",
       "2016-02-06 16:14:00                          sončno           -2    55   \n",
       "2016-02-06 16:14:00                          sončno            0    50   \n",
       "2016-02-06 16:14:00                          sončno            0    25   \n",
       "2016-02-06 16:14:00                  pretežno jasno            3    45   \n",
       "2016-02-06 16:14:00                          sončno            0    40   \n",
       "2016-02-06 16:14:00                          sončno           -1    35   \n",
       "2016-02-06 16:14:00                          sončno            2    25   \n",
       "2016-02-06 16:14:00                          sončno           -1    50   \n",
       "2016-02-06 16:14:00                     delno jasno            0    30   \n",
       "2016-02-06 16:14:00                pretežno oblačno            0    45   \n",
       "2016-02-06 16:14:00                  pretežno jasno            0     5   \n",
       "2016-02-06 16:14:00                          sončno           -3    45   \n",
       "2016-02-06 16:14:00                          sončno           -3    40   \n",
       "2016-02-06 16:14:00                          sončno            6     0   \n",
       "2016-02-07 16:05:00      pretežno oblačno, vetrovno           -2    55   \n",
       "2016-02-07 16:05:00                          sončno            3    55   \n",
       "2016-02-07 16:05:00                pretežno oblačno           -1    55   \n",
       "2016-02-07 16:05:00                     delno jasno            6    40   \n",
       "2016-02-07 16:05:00                         oblačno            0    55   \n",
       "2016-02-07 16:05:00  oblačno, rahlo sneži, vetrovno           -1    50   \n",
       "2016-02-07 16:05:00                pretežno oblačno            0    25   \n",
       "2016-02-07 16:05:00                         oblačno           -1    45   \n",
       "2016-02-07 16:05:00               oblačno, vetrovno            0    40   \n",
       "2016-02-07 16:05:00                         oblačno            4    35   \n",
       "2016-02-07 16:05:00                         oblačno            2    25   \n",
       "2016-02-07 16:05:00                          sončno           -1    50   \n",
       "...                                             ...          ...   ...   \n",
       "2016-03-07 14:00:00                           sneži            0    10   \n",
       "2016-03-07 14:00:00                           sneži            1    45   \n",
       "2016-03-07 15:00:00                           sneži           -3    20   \n",
       "2016-03-07 15:00:00                           sneži           -3    10   \n",
       "2016-03-07 15:00:00            oblačno, rahlo sneži           -5    15   \n",
       "2016-03-07 15:00:00            oblačno, rahlo sneži            0     5   \n",
       "2016-03-07 15:00:00                         oblačno            1   100   \n",
       "2016-03-07 15:00:00  oblačno, rahlo sneži, vetrovno           -2    10   \n",
       "2016-03-07 15:00:00        oblačno, sneži, vetrovno           -1   120   \n",
       "2016-03-07 15:00:00            oblačno, rahlo sneži           -1    25   \n",
       "2016-03-07 15:00:00                         oblačno           -3   130   \n",
       "2016-03-07 15:00:00                           sneži            0    40   \n",
       "2016-03-07 15:00:00                         oblačno            2    10   \n",
       "2016-03-07 15:00:00        oblačno, sneži, vetrovno           -1    80   \n",
       "2016-03-07 15:00:00                           sneži            0    10   \n",
       "2016-03-07 15:00:00                           sneži            1    45   \n",
       "2016-03-07 16:00:00            oblačno, rahlo sneži           -3    20   \n",
       "2016-03-07 16:00:00                           sneži           -3    10   \n",
       "2016-03-07 16:00:00            oblačno, rahlo sneži           -5    15   \n",
       "2016-03-07 16:00:00            oblačno, rahlo sneži            0     5   \n",
       "2016-03-07 16:00:00                         oblačno            1   100   \n",
       "2016-03-07 16:00:00  oblačno, rahlo sneži, vetrovno           -2    10   \n",
       "2016-03-07 16:00:00        oblačno, sneži, vetrovno           -1   120   \n",
       "2016-03-07 16:00:00            oblačno, rahlo sneži           -1    25   \n",
       "2016-03-07 16:00:00                         oblačno           -3   130   \n",
       "2016-03-07 16:00:00                           sneži            0    40   \n",
       "2016-03-07 16:00:00                         oblačno            2    10   \n",
       "2016-03-07 16:00:00        oblačno, sneži, vetrovno           -1    80   \n",
       "2016-03-07 16:00:00                           sneži            0    10   \n",
       "2016-03-07 16:00:00                           sneži            1    45   \n",
       "\n",
       "                                                  obratovanje  odprto  \\\n",
       "cas                                                                     \n",
       "2016-02-06 16:14:00                       {('8.00', '16.00')}     8.0   \n",
       "2016-02-06 16:14:00   {('9.00', '16.00'), ('18.00', '21.00')}    10.0   \n",
       "2016-02-06 16:14:00   {('17.00', '21.00'), ('9.00', '16.00')}    11.0   \n",
       "2016-02-06 16:14:00   {('19.00', '22.00'), ('9.00', '16.00')}    10.0   \n",
       "2016-02-06 16:14:00                       {('9.00', '16.00')}     7.0   \n",
       "2016-02-06 16:14:00                       {('8.00', '16.00')}     8.0   \n",
       "2016-02-06 16:14:00                       {('9.00', '16.00')}     7.0   \n",
       "2016-02-06 16:14:00   {('9.00', '16.00'), ('18.00', '22.00')}    11.0   \n",
       "2016-02-06 16:14:00                       {('9.00', '16.00')}     7.0   \n",
       "2016-02-06 16:14:00   {('19.00', '22.00'), ('9.00', '16.00')}    10.0   \n",
       "2016-02-06 16:14:00                      {('17.00', '20.00')}     3.0   \n",
       "2016-02-06 16:14:00                       {('9.00', '16.00')}     7.0   \n",
       "2016-02-06 16:14:00   {('9.00', '21.00'), ('17.00', '21.00')}    16.0   \n",
       "2016-02-06 16:14:00   {('9.00', '16.00'), ('18.00', '21.00')}    10.0   \n",
       "2016-02-06 16:14:00                                     set()     0.0   \n",
       "2016-02-06 16:14:00                       {('9.00', '17.00')}     8.0   \n",
       "2016-02-06 16:14:00   {('17.00', '21.00'), ('9.00', '13.00')}     8.0   \n",
       "2016-02-06 16:14:00                                     set()     0.0   \n",
       "2016-02-07 16:05:00                       {('8.00', '16.00')}     8.0   \n",
       "2016-02-07 16:05:00   {('9.00', '16.00'), ('18.00', '21.00')}    10.0   \n",
       "2016-02-07 16:05:00   {('17.00', '21.00'), ('9.00', '16.00')}    11.0   \n",
       "2016-02-07 16:05:00   {('19.00', '22.00'), ('9.00', '16.00')}    10.0   \n",
       "2016-02-07 16:05:00                       {('9.00', '16.00')}     7.0   \n",
       "2016-02-07 16:05:00                       {('8.30', '16.00')}     7.5   \n",
       "2016-02-07 16:05:00                       {('9.00', '16.00')}     7.0   \n",
       "2016-02-07 16:05:00                       {('9.00', '16.00')}     7.0   \n",
       "2016-02-07 16:05:00                       {('9.00', '16.00')}     7.0   \n",
       "2016-02-07 16:05:00                       {('9.00', '16.00')}     7.0   \n",
       "2016-02-07 16:05:00                                     set()     0.0   \n",
       "2016-02-07 16:05:00                       {('9.00', '16.00')}     7.0   \n",
       "...                                                       ...     ...   \n",
       "2016-03-07 14:00:00   {('9.00', '16.00'), ('18.00', '21.00')}    10.0   \n",
       "2016-03-07 14:00:00  {('16.00', '19.00'), ('15.00', '19.00')}     7.0   \n",
       "2016-03-07 15:00:00                       {('8.00', '16.00')}     8.0   \n",
       "2016-03-07 15:00:00                       {('9.00', '16.00')}     7.0   \n",
       "2016-03-07 15:00:00                       {('8.30', '16.00')}     7.5   \n",
       "2016-03-07 15:00:00                       {('9.00', '16.00')}     7.0   \n",
       "2016-03-07 15:00:00                       {('9.00', '16.00')}     7.0   \n",
       "2016-03-07 15:00:00                       {('8.30', '16.00')}     7.5   \n",
       "2016-03-07 15:00:00                       {('9.00', '16.00')}     7.0   \n",
       "2016-03-07 15:00:00                       {('9.00', '16.00')}     7.0   \n",
       "2016-03-07 15:00:00                       {('9.00', '16.00')}     7.0   \n",
       "2016-03-07 15:00:00                       {('9.00', '13.00')}     4.0   \n",
       "2016-03-07 15:00:00                                     set()     0.0   \n",
       "2016-03-07 15:00:00                                     set()     0.0   \n",
       "2016-03-07 15:00:00   {('9.00', '16.00'), ('18.00', '21.00')}    10.0   \n",
       "2016-03-07 15:00:00                      {('16.00', '19.00')}     3.0   \n",
       "2016-03-07 16:00:00                       {('8.00', '16.00')}     8.0   \n",
       "2016-03-07 16:00:00                       {('9.00', '16.00')}     7.0   \n",
       "2016-03-07 16:00:00                       {('8.30', '16.00')}     7.5   \n",
       "2016-03-07 16:00:00                       {('9.00', '16.00')}     7.0   \n",
       "2016-03-07 16:00:00                       {('9.00', '16.00')}     7.0   \n",
       "2016-03-07 16:00:00                       {('8.30', '16.00')}     7.5   \n",
       "2016-03-07 16:00:00                       {('9.00', '16.00')}     7.0   \n",
       "2016-03-07 16:00:00                       {('9.00', '16.00')}     7.0   \n",
       "2016-03-07 16:00:00                       {('9.00', '16.00')}     7.0   \n",
       "2016-03-07 16:00:00                       {('9.00', '13.00')}     4.0   \n",
       "2016-03-07 16:00:00                                     set()     0.0   \n",
       "2016-03-07 16:00:00                                     set()     0.0   \n",
       "2016-03-07 16:00:00   {('9.00', '16.00'), ('18.00', '21.00')}    10.0   \n",
       "2016-03-07 16:00:00                      {('16.00', '19.00')}     3.0   \n",
       "\n",
       "                                                             sedeznice   proge  \n",
       "cas                                                                             \n",
       "2016-02-06 16:14:00  {'sedeznica': '7/7', 'vlečnica': '3/5', 'gondo...   84.62  \n",
       "2016-02-06 16:14:00  {'sedeznica': '4/5', 'vlečnica': '4/9', 'gondo...   60.00  \n",
       "2016-02-06 16:14:00           {'sedeznica': '2/2', 'vlečnica': '9/10'}   91.67  \n",
       "2016-02-06 16:14:00  {'park': '1/2', 'vlečnica': '8/13', 'sedeznica...   65.00  \n",
       "2016-02-06 16:14:00            {'sedeznica': '4/5', 'vlečnica': '2/2'}   85.71  \n",
       "2016-02-06 16:14:00  {'sedeznica': '2/4', 'vlečnica': '2/4', 'gondo...   55.56  \n",
       "2016-02-06 16:14:00                                {'vlečnica': '2/4'}   50.00  \n",
       "2016-02-06 16:14:00            {'sedeznica': '2/2', 'vlečnica': '5/6'}   87.50  \n",
       "2016-02-06 16:14:00  {'sedeznica': '3/3', 'vlečnica': '2/3', 'gondo...   85.71  \n",
       "2016-02-06 16:14:00            {'sedeznica': '1/1', 'vlečnica': '1/3'}   50.00  \n",
       "2016-02-06 16:14:00            {'sedeznica': '1/1', 'vlečnica': '2/2'}  100.00  \n",
       "2016-02-06 16:14:00                                {'vlečnica': '2/2'}  100.00  \n",
       "2016-02-06 16:14:00                                {'vlečnica': '2/3'}   66.67  \n",
       "2016-02-06 16:14:00                                {'vlečnica': '4/4'}  100.00  \n",
       "2016-02-06 16:14:00                                                 {}    0.00  \n",
       "2016-02-06 16:14:00                                {'vlečnica': '1/1'}  100.00  \n",
       "2016-02-06 16:14:00                                {'vlečnica': '1/1'}  100.00  \n",
       "2016-02-06 16:14:00                                                 {}    0.00  \n",
       "2016-02-07 16:05:00  {'sedeznica': '3/7', 'vlečnica': '3/5', 'gondo...   53.85  \n",
       "2016-02-07 16:05:00  {'sedeznica': '3/5', 'vlečnica': '4/9', 'gondo...   53.33  \n",
       "2016-02-07 16:05:00           {'sedeznica': '2/2', 'vlečnica': '9/10'}   91.67  \n",
       "2016-02-07 16:05:00  {'park': '1/2', 'vlečnica': '8/13', 'sedeznica...   65.00  \n",
       "2016-02-07 16:05:00            {'sedeznica': '4/5', 'vlečnica': '2/2'}   85.71  \n",
       "2016-02-07 16:05:00  {'sedeznica': '2/4', 'vlečnica': '2/4', 'gondo...   55.56  \n",
       "2016-02-07 16:05:00                                {'vlečnica': '2/4'}   50.00  \n",
       "2016-02-07 16:05:00                                {'vlečnica': '2/6'}   33.33  \n",
       "2016-02-07 16:05:00  {'sedeznica': '3/3', 'vlečnica': '2/3', 'gondo...   85.71  \n",
       "2016-02-07 16:05:00            {'sedeznica': '1/1', 'vlečnica': '1/3'}   50.00  \n",
       "2016-02-07 16:05:00                                                 {}    0.00  \n",
       "2016-02-07 16:05:00                                {'vlečnica': '2/2'}  100.00  \n",
       "...                                                                ...     ...  \n",
       "2016-03-07 14:00:00                                {'vlečnica': '4/4'}  100.00  \n",
       "2016-03-07 14:00:00                                {'vlečnica': '1/1'}  100.00  \n",
       "2016-03-07 15:00:00  {'sedeznica': '5/7', 'vlečnica': '3/5', 'gondo...   69.23  \n",
       "2016-03-07 15:00:00  {'sedeznica': '3/5', 'vlečnica': '7/9', 'gondo...   73.33  \n",
       "2016-03-07 15:00:00           {'sedeznica': '2/2', 'vlečnica': '9/10'}   91.67  \n",
       "2016-03-07 15:00:00  {'park': '1/2', 'sedeznica': '5/5', 'vlečnica'...   80.00  \n",
       "2016-03-07 15:00:00            {'sedeznica': '3/5', 'vlečnica': '1/2'}   57.14  \n",
       "2016-03-07 15:00:00  {'sedeznica': '4/4', 'vlečnica': '4/4', 'gondo...  100.00  \n",
       "2016-03-07 15:00:00                                {'vlečnica': '3/4'}   75.00  \n",
       "2016-03-07 15:00:00            {'sedeznica': '2/2', 'vlečnica': '6/6'}  100.00  \n",
       "2016-03-07 15:00:00  {'sedeznica': '3/3', 'vlečnica': '2/3', 'gondo...   85.71  \n",
       "2016-03-07 15:00:00            {'sedeznica': '1/1', 'vlečnica': '1/3'}   50.00  \n",
       "2016-03-07 15:00:00                                                 {}    0.00  \n",
       "2016-03-07 15:00:00                                                 {}    0.00  \n",
       "2016-03-07 15:00:00                                {'vlečnica': '4/4'}  100.00  \n",
       "2016-03-07 15:00:00                                                 {}    0.00  \n",
       "2016-03-07 16:00:00  {'sedeznica': '5/7', 'vlečnica': '3/5', 'gondo...   69.23  \n",
       "2016-03-07 16:00:00  {'sedeznica': '3/5', 'vlečnica': '7/9', 'gondo...   73.33  \n",
       "2016-03-07 16:00:00           {'sedeznica': '2/2', 'vlečnica': '9/10'}   91.67  \n",
       "2016-03-07 16:00:00  {'park': '1/2', 'sedeznica': '5/5', 'vlečnica'...   80.00  \n",
       "2016-03-07 16:00:00            {'sedeznica': '3/5', 'vlečnica': '1/2'}   57.14  \n",
       "2016-03-07 16:00:00  {'sedeznica': '4/4', 'vlečnica': '4/4', 'gondo...  100.00  \n",
       "2016-03-07 16:00:00                                {'vlečnica': '3/4'}   75.00  \n",
       "2016-03-07 16:00:00            {'sedeznica': '2/2', 'vlečnica': '6/6'}  100.00  \n",
       "2016-03-07 16:00:00  {'sedeznica': '3/3', 'vlečnica': '2/3', 'gondo...   85.71  \n",
       "2016-03-07 16:00:00            {'sedeznica': '1/1', 'vlečnica': '1/3'}   50.00  \n",
       "2016-03-07 16:00:00                                                 {}    0.00  \n",
       "2016-03-07 16:00:00                                                 {}    0.00  \n",
       "2016-03-07 16:00:00                                {'vlečnica': '4/4'}  100.00  \n",
       "2016-03-07 16:00:00                                                 {}    0.00  \n",
       "\n",
       "[9041 rows x 9 columns]"
      ]
     },
     "execution_count": 380,
     "metadata": {},
     "output_type": "execute_result"
    }
   ],
   "source": [
    "Skupna"
   ]
  },
  {
   "cell_type": "markdown",
   "metadata": {},
   "source": [
    "## 2.1. Povprečne vrednosti"
   ]
  },
  {
   "cell_type": "markdown",
   "metadata": {},
   "source": [
    "Povprečne vrednosti temperature, količine snega, obratovalnega časa (odprto), procenta odprtih prog (proge)"
   ]
  },
  {
   "cell_type": "code",
   "execution_count": 381,
   "metadata": {
    "collapsed": false
   },
   "outputs": [],
   "source": [
    "PoSmuciscih=Skupna.groupby('smucisce').mean()"
   ]
  },
  {
   "cell_type": "code",
   "execution_count": 382,
   "metadata": {
    "collapsed": false
   },
   "outputs": [
    {
     "data": {
      "text/html": [
       "<div>\n",
       "<table border=\"1\" class=\"dataframe\">\n",
       "  <thead>\n",
       "    <tr style=\"text-align: right;\">\n",
       "      <th></th>\n",
       "      <th>temperatura</th>\n",
       "      <th>sneg</th>\n",
       "      <th>odprto</th>\n",
       "      <th>proge</th>\n",
       "    </tr>\n",
       "    <tr>\n",
       "      <th>smucisce</th>\n",
       "      <th></th>\n",
       "      <th></th>\n",
       "      <th></th>\n",
       "      <th></th>\n",
       "    </tr>\n",
       "  </thead>\n",
       "  <tbody>\n",
       "    <tr>\n",
       "      <th>Bukovnik</th>\n",
       "      <td>0.482394</td>\n",
       "      <td>29.911972</td>\n",
       "      <td>6.295775</td>\n",
       "      <td>84.859155</td>\n",
       "    </tr>\n",
       "    <tr>\n",
       "      <th>Celjskakoča</th>\n",
       "      <td>2.119675</td>\n",
       "      <td>20.141988</td>\n",
       "      <td>3.728195</td>\n",
       "      <td>26.640588</td>\n",
       "    </tr>\n",
       "    <tr>\n",
       "      <th>GTCKope</th>\n",
       "      <td>-0.438795</td>\n",
       "      <td>48.487759</td>\n",
       "      <td>9.105461</td>\n",
       "      <td>84.745800</td>\n",
       "    </tr>\n",
       "    <tr>\n",
       "      <th>Javornik</th>\n",
       "      <td>-0.404255</td>\n",
       "      <td>18.851064</td>\n",
       "      <td>4.314894</td>\n",
       "      <td>26.595745</td>\n",
       "    </tr>\n",
       "    <tr>\n",
       "      <th>MacesnovcRateče</th>\n",
       "      <td>-0.352542</td>\n",
       "      <td>32.847458</td>\n",
       "      <td>5.010169</td>\n",
       "      <td>50.171356</td>\n",
       "    </tr>\n",
       "    <tr>\n",
       "      <th>MariborskoPohorje</th>\n",
       "      <td>-0.132576</td>\n",
       "      <td>45.255682</td>\n",
       "      <td>9.026515</td>\n",
       "      <td>60.994337</td>\n",
       "    </tr>\n",
       "    <tr>\n",
       "      <th>Poseka</th>\n",
       "      <td>1.171694</td>\n",
       "      <td>25.802784</td>\n",
       "      <td>1.512761</td>\n",
       "      <td>19.025522</td>\n",
       "    </tr>\n",
       "    <tr>\n",
       "      <th>RTCGolte</th>\n",
       "      <td>-0.830769</td>\n",
       "      <td>73.615385</td>\n",
       "      <td>7.000000</td>\n",
       "      <td>91.674481</td>\n",
       "    </tr>\n",
       "    <tr>\n",
       "      <th>RTCKranjskaGora</th>\n",
       "      <td>1.140115</td>\n",
       "      <td>45.719770</td>\n",
       "      <td>9.712092</td>\n",
       "      <td>75.567255</td>\n",
       "    </tr>\n",
       "    <tr>\n",
       "      <th>RTCKrvavec</th>\n",
       "      <td>-1.598485</td>\n",
       "      <td>94.630682</td>\n",
       "      <td>8.000000</td>\n",
       "      <td>85.738409</td>\n",
       "    </tr>\n",
       "    <tr>\n",
       "      <th>RibnicanaPohorju</th>\n",
       "      <td>0.484716</td>\n",
       "      <td>25.960699</td>\n",
       "      <td>9.196507</td>\n",
       "      <td>87.500000</td>\n",
       "    </tr>\n",
       "    <tr>\n",
       "      <th>Ribniškakoča</th>\n",
       "      <td>-2.873950</td>\n",
       "      <td>64.285714</td>\n",
       "      <td>1.260504</td>\n",
       "      <td>21.008403</td>\n",
       "    </tr>\n",
       "    <tr>\n",
       "      <th>Rogla</th>\n",
       "      <td>-1.544379</td>\n",
       "      <td>63.934911</td>\n",
       "      <td>10.372781</td>\n",
       "      <td>91.324576</td>\n",
       "    </tr>\n",
       "    <tr>\n",
       "      <th>SCCerkno</th>\n",
       "      <td>-0.024390</td>\n",
       "      <td>70.046904</td>\n",
       "      <td>6.566604</td>\n",
       "      <td>72.685441</td>\n",
       "    </tr>\n",
       "    <tr>\n",
       "      <th>SKIBorČrnivrh</th>\n",
       "      <td>1.105727</td>\n",
       "      <td>22.026432</td>\n",
       "      <td>4.127753</td>\n",
       "      <td>35.022026</td>\n",
       "    </tr>\n",
       "    <tr>\n",
       "      <th>STCStarivrh</th>\n",
       "      <td>1.770833</td>\n",
       "      <td>42.291667</td>\n",
       "      <td>8.505682</td>\n",
       "      <td>55.965682</td>\n",
       "    </tr>\n",
       "    <tr>\n",
       "      <th>Soriškaplanina</th>\n",
       "      <td>-0.789784</td>\n",
       "      <td>66.218075</td>\n",
       "      <td>6.540275</td>\n",
       "      <td>88.713163</td>\n",
       "    </tr>\n",
       "    <tr>\n",
       "      <th>StražaBled</th>\n",
       "      <td>2.526316</td>\n",
       "      <td>17.982456</td>\n",
       "      <td>0.052632</td>\n",
       "      <td>1.754386</td>\n",
       "    </tr>\n",
       "    <tr>\n",
       "      <th>TrijeKralji</th>\n",
       "      <td>0.000000</td>\n",
       "      <td>46.982097</td>\n",
       "      <td>6.785166</td>\n",
       "      <td>96.930946</td>\n",
       "    </tr>\n",
       "    <tr>\n",
       "      <th>ŠCRudno</th>\n",
       "      <td>0.945892</td>\n",
       "      <td>48.326653</td>\n",
       "      <td>7.166333</td>\n",
       "      <td>85.370741</td>\n",
       "    </tr>\n",
       "    <tr>\n",
       "      <th>Šentjošt</th>\n",
       "      <td>1.306502</td>\n",
       "      <td>8.755418</td>\n",
       "      <td>2.724458</td>\n",
       "      <td>30.959752</td>\n",
       "    </tr>\n",
       "    <tr>\n",
       "      <th>ŽičniceVogel</th>\n",
       "      <td>-1.114504</td>\n",
       "      <td>108.030534</td>\n",
       "      <td>7.458015</td>\n",
       "      <td>86.862080</td>\n",
       "    </tr>\n",
       "  </tbody>\n",
       "</table>\n",
       "</div>"
      ],
      "text/plain": [
       "                   temperatura        sneg     odprto      proge\n",
       "smucisce                                                        \n",
       "Bukovnik              0.482394   29.911972   6.295775  84.859155\n",
       "Celjskakoča           2.119675   20.141988   3.728195  26.640588\n",
       "GTCKope              -0.438795   48.487759   9.105461  84.745800\n",
       "Javornik             -0.404255   18.851064   4.314894  26.595745\n",
       "MacesnovcRateče      -0.352542   32.847458   5.010169  50.171356\n",
       "MariborskoPohorje    -0.132576   45.255682   9.026515  60.994337\n",
       "Poseka                1.171694   25.802784   1.512761  19.025522\n",
       "RTCGolte             -0.830769   73.615385   7.000000  91.674481\n",
       "RTCKranjskaGora       1.140115   45.719770   9.712092  75.567255\n",
       "RTCKrvavec           -1.598485   94.630682   8.000000  85.738409\n",
       "RibnicanaPohorju      0.484716   25.960699   9.196507  87.500000\n",
       "Ribniškakoča         -2.873950   64.285714   1.260504  21.008403\n",
       "Rogla                -1.544379   63.934911  10.372781  91.324576\n",
       "SCCerkno             -0.024390   70.046904   6.566604  72.685441\n",
       "SKIBorČrnivrh         1.105727   22.026432   4.127753  35.022026\n",
       "STCStarivrh           1.770833   42.291667   8.505682  55.965682\n",
       "Soriškaplanina       -0.789784   66.218075   6.540275  88.713163\n",
       "StražaBled            2.526316   17.982456   0.052632   1.754386\n",
       "TrijeKralji           0.000000   46.982097   6.785166  96.930946\n",
       "ŠCRudno               0.945892   48.326653   7.166333  85.370741\n",
       "Šentjošt              1.306502    8.755418   2.724458  30.959752\n",
       "ŽičniceVogel         -1.114504  108.030534   7.458015  86.862080"
      ]
     },
     "execution_count": 382,
     "metadata": {},
     "output_type": "execute_result"
    }
   ],
   "source": [
    "PoSmuciscih"
   ]
  },
  {
   "cell_type": "markdown",
   "metadata": {},
   "source": [
    "### 2.1.1. Temperatura"
   ]
  },
  {
   "cell_type": "markdown",
   "metadata": {},
   "source": [
    "Zanimalo nas je tudi katero smučišče je povprečno 'najbolj mrzlo' in katero 'najbolj toplo'."
   ]
  },
  {
   "cell_type": "code",
   "execution_count": 383,
   "metadata": {
    "collapsed": false
   },
   "outputs": [
    {
     "data": {
      "text/plain": [
       "<matplotlib.axes._subplots.AxesSubplot at 0x117032da0>"
      ]
     },
     "execution_count": 383,
     "metadata": {},
     "output_type": "execute_result"
    },
    {
     "data": {
      "image/png": "[encoded data removed]",
      "text/plain": [
       "<matplotlib.figure.Figure at 0x113032390>"
      ]
     },
     "metadata": {},
     "output_type": "display_data"
    }
   ],
   "source": [
    "PoSmuciscih['temperatura'].plot(kind='bar')"
   ]
  },
  {
   "cell_type": "markdown",
   "metadata": {},
   "source": [
    "Opazimo, da iz povprečja zelo izstopa Ribniška Koča, ki je torej imelo najnižjo povprečno temperaturo.\n",
    "Najvišjo povprečno temperaturo pa je imelo smučišče Straža Bled."
   ]
  },
  {
   "cell_type": "markdown",
   "metadata": {},
   "source": [
    "Analizirai bomo tudi kakšna je temperaturna razlika med posameznimi smučišči.\n",
    "Najprej si poglejmo temperaturno razliko med Roglo in Mariborskim Pohorjem. Razberemo lahko, da se temperature v merjenem času niso preveč razlikovale. Podobnos nas ne preseneča, saj sta omenjeni smučišči razmeroma blizu."
   ]
  },
  {
   "cell_type": "code",
   "execution_count": 384,
   "metadata": {
    "collapsed": false
   },
   "outputs": [],
   "source": [
    "Primerjava=pd.merge(MariborskoPohorje.reset_index(), Rogla.reset_index(),on=['cas','datum'],suffixes=('_MariborskoPohorje','_Rogla'))"
   ]
  },
  {
   "cell_type": "code",
   "execution_count": 385,
   "metadata": {
    "collapsed": false
   },
   "outputs": [
    {
     "data": {
      "text/plain": [
       "<matplotlib.axes._subplots.AxesSubplot at 0x11725cda0>"
      ]
     },
     "execution_count": 385,
     "metadata": {},
     "output_type": "execute_result"
    },
    {
     "data": {
      "image/png": "[encoded data removed]",
      "text/plain": [
       "<matplotlib.figure.Figure at 0x11303f828>"
      ]
     },
     "metadata": {},
     "output_type": "display_data"
    }
   ],
   "source": [
    "Primerjava[['cas','temperatura_MariborskoPohorje','temperatura_Rogla']].plot()"
   ]
  },
  {
   "cell_type": "markdown",
   "metadata": {},
   "source": [
    "Temperaturno razliko pa že opazimo med smučiščema Mariborsko Pohorje in RTC Kranjska Gora, ki ležina na povsem drugih koncih Slovenije."
   ]
  },
  {
   "cell_type": "code",
   "execution_count": 386,
   "metadata": {
    "collapsed": false
   },
   "outputs": [],
   "source": [
    "Primerjava1=pd.merge(MariborskoPohorje.reset_index(), RTCKranjskaGora.reset_index(),on=['cas','datum'],suffixes=('_MariborskoPohorje','_RTCKranjskaGora'))"
   ]
  },
  {
   "cell_type": "code",
   "execution_count": 387,
   "metadata": {
    "collapsed": false
   },
   "outputs": [
    {
     "data": {
      "text/plain": [
       "<matplotlib.axes._subplots.AxesSubplot at 0x1173003c8>"
      ]
     },
     "execution_count": 387,
     "metadata": {},
     "output_type": "execute_result"
    },
    {
     "data": {
      "image/png": "[encoded data removed]",
      "text/plain": [
       "<matplotlib.figure.Figure at 0x117520710>"
      ]
     },
     "metadata": {},
     "output_type": "display_data"
    }
   ],
   "source": [
    "Primerjava1[['cas','temperatura_MariborskoPohorje','temperatura_RTCKranjskaGora']].plot()"
   ]
  },
  {
   "cell_type": "markdown",
   "metadata": {},
   "source": [
    "### 2.1.2. Količina snega"
   ]
  },
  {
   "cell_type": "code",
   "execution_count": 388,
   "metadata": {
    "collapsed": false
   },
   "outputs": [
    {
     "data": {
      "text/plain": [
       "<matplotlib.axes._subplots.AxesSubplot at 0x117767080>"
      ]
     },
     "execution_count": 388,
     "metadata": {},
     "output_type": "execute_result"
    },
    {
     "data": {
      "image/png": "[encoded data removed]",
      "text/plain": [
       "<matplotlib.figure.Figure at 0x117774048>"
      ]
     },
     "metadata": {},
     "output_type": "display_data"
    }
   ],
   "source": [
    "PoSmuciscih['sneg'].plot(kind='bar')"
   ]
  },
  {
   "cell_type": "code",
   "execution_count": null,
   "metadata": {
    "collapsed": true
   },
   "outputs": [],
   "source": []
  },
  {
   "cell_type": "code",
   "execution_count": null,
   "metadata": {
    "collapsed": true
   },
   "outputs": [],
   "source": []
  },
  {
   "cell_type": "code",
   "execution_count": null,
   "metadata": {
    "collapsed": true
   },
   "outputs": [],
   "source": []
  },
  {
   "cell_type": "code",
   "execution_count": null,
   "metadata": {
    "collapsed": true
   },
   "outputs": [],
   "source": []
  },
  {
   "cell_type": "markdown",
   "metadata": {},
   "source": [
    "## 2.2. Minimalne in Maksimalne vrednosti\n",
    "### Koliko in kje\n",
    "### 2.2.1. Temperatura"
   ]
  },
  {
   "cell_type": "markdown",
   "metadata": {},
   "source": [
    "Kje je bila dosežena najnižje temperatura v tem obdobju? Koliko je bilo pri tej temperaturi sneg in kakšno je bilo vreme?  "
   ]
  },
  {
   "cell_type": "code",
   "execution_count": 389,
   "metadata": {
    "collapsed": false
   },
   "outputs": [
    {
     "data": {
      "text/plain": [
       "-8"
      ]
     },
     "execution_count": 389,
     "metadata": {},
     "output_type": "execute_result"
    }
   ],
   "source": [
    "Skupna['temperatura'].min()"
   ]
  },
  {
   "cell_type": "code",
   "execution_count": 390,
   "metadata": {
    "collapsed": false
   },
   "outputs": [
    {
     "data": {
      "text/plain": [
       "12"
      ]
     },
     "execution_count": 390,
     "metadata": {},
     "output_type": "execute_result"
    }
   ],
   "source": [
    "Skupna['temperatura'].max()"
   ]
  },
  {
   "cell_type": "markdown",
   "metadata": {},
   "source": [
    "### 2.2.2. Količina snega"
   ]
  },
  {
   "cell_type": "code",
   "execution_count": 391,
   "metadata": {
    "collapsed": false
   },
   "outputs": [
    {
     "data": {
      "text/plain": [
       "sneg                     0\n",
       "temperatura             -8\n",
       "smucisce          Bukovnik\n",
       "vreme          delno jasno\n",
       "dtype: object"
      ]
     },
     "execution_count": 391,
     "metadata": {},
     "output_type": "execute_result"
    }
   ],
   "source": [
    "Skupna[['sneg','temperatura','smucisce','vreme']].min()"
   ]
  },
  {
   "cell_type": "code",
   "execution_count": 392,
   "metadata": {
    "collapsed": false
   },
   "outputs": [
    {
     "data": {
      "text/plain": [
       "sneg                                            330\n",
       "temperatura                                      12\n",
       "smucisce                               ŽičniceVogel\n",
       "vreme          visoka oblačnost, zg. sneg - sp. dež\n",
       "dtype: object"
      ]
     },
     "execution_count": 392,
     "metadata": {},
     "output_type": "execute_result"
    }
   ],
   "source": [
    "Skupna[['sneg','temperatura','smucisce','vreme']].max()"
   ]
  },
  {
   "cell_type": "markdown",
   "metadata": {},
   "source": [
    "# 3. Ostale analize"
   ]
  },
  {
   "cell_type": "code",
   "execution_count": null,
   "metadata": {
    "collapsed": true
   },
   "outputs": [],
   "source": []
  },
  {
   "cell_type": "code",
   "execution_count": null,
   "metadata": {
    "collapsed": true
   },
   "outputs": [],
   "source": []
  }
 ],
 "metadata": {
  "kernelspec": {
   "display_name": "Python 3",
   "language": "python",
   "name": "python3"
  },
  "language_info": {
   "codemirror_mode": {
    "name": "ipython",
    "version": 3
   },
   "file_extension": ".py",
   "mimetype": "text/x-python",
   "name": "python",
   "nbconvert_exporter": "python",
   "pygments_lexer": "ipython3",
   "version": "3.5.1"
  }
 },
 "nbformat": 4,
 "nbformat_minor": 0
}
